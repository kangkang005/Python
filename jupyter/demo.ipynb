{
 "cells": [
  {
   "cell_type": "code",
   "execution_count": 1,
   "id": "6a01aab2",
   "metadata": {},
   "outputs": [
    {
     "name": "stdout",
     "output_type": "stream",
     "text": [
      "test\n"
     ]
    }
   ],
   "source": [
    "print(\"test\")"
   ]
  },
  {
   "cell_type": "code",
   "execution_count": 1,
   "id": "5bded3b2",
   "metadata": {
    "ExecuteTime": {
     "end_time": "2023-10-16T05:18:51.059753Z",
     "start_time": "2023-10-16T05:18:50.475671Z"
    }
   },
   "outputs": [],
   "source": [
    "import matplotlib.pyplot as plt"
   ]
  },
  {
   "cell_type": "code",
   "execution_count": 2,
   "id": "407f2be6",
   "metadata": {
    "ExecuteTime": {
     "end_time": "2023-10-16T05:19:02.875704Z",
     "start_time": "2023-10-16T05:19:02.865705Z"
    }
   },
   "outputs": [],
   "source": [
    "import numpy as np"
   ]
  },
  {
   "cell_type": "code",
   "execution_count": 3,
   "id": "6ca09db0",
   "metadata": {
    "ExecuteTime": {
     "end_time": "2023-10-16T05:19:09.284588Z",
     "start_time": "2023-10-16T05:19:09.207159Z"
    }
   },
   "outputs": [
    {
     "data": {
      "image/png": "[encoded data removed]",
      "text/plain": [
       "<Figure size 640x480 with 1 Axes>"
      ]
     },
     "metadata": {},
     "output_type": "display_data"
    }
   ],
   "source": [
    "np.random.seed(100) #生成随机数\n",
    "data=np.random.normal(size=1000,loc=0,scale=1)\n",
    "plt.boxplot(data,sym='o',whis=1.5)\n",
    "plt.show()"
   ]
  },
  {
   "cell_type": "code",
   "execution_count": 4,
   "id": "19d787f6",
   "metadata": {
    "ExecuteTime": {
     "end_time": "2023-10-16T05:22:09.128854Z",
     "start_time": "2023-10-16T05:22:09.073480Z"
    }
   },
   "outputs": [
    {
     "name": "stderr",
     "output_type": "stream",
     "text": [
      "'%ls' 不是内部或外部命令，也不是可运行的程序\n",
      "或批处理文件。\n"
     ]
    }
   ],
   "source": [
    "!%ls"
   ]
  },
  {
   "cell_type": "code",
   "execution_count": 5,
   "id": "3d954fc7",
   "metadata": {
    "ExecuteTime": {
     "end_time": "2023-10-16T05:22:14.246044Z",
     "start_time": "2023-10-16T05:22:14.208792Z"
    }
   },
   "outputs": [
    {
     "name": "stderr",
     "output_type": "stream",
     "text": [
      "'ls' 不是内部或外部命令，也不是可运行的程序\n",
      "或批处理文件。\n"
     ]
    }
   ],
   "source": [
    "!ls"
   ]
  },
  {
   "cell_type": "code",
   "execution_count": 6,
   "id": "18818a75",
   "metadata": {
    "ExecuteTime": {
     "end_time": "2023-10-16T05:22:23.606696Z",
     "start_time": "2023-10-16T05:22:23.561649Z"
    }
   },
   "outputs": [
    {
     "name": "stdout",
     "output_type": "stream",
     "text": [
      " 驱动器 D 中的卷是 DATA1\n",
      " 卷的序列号是 4E5F-7599\n",
      "\n",
      " D:\\Project\\Python 的目录\n",
      "\n",
      "2023/10/16  13:20    <DIR>          .\n",
      "2023/09/28  13:51    <DIR>          ..\n",
      "2023/10/16  11:00    <DIR>          .ipynb_checkpoints\n",
      "2023/10/16  10:37    <DIR>          __pycache__\n",
      "2023/10/12  13:57             1,880 adder.cir\n",
      "2023/10/13  14:48             2,843 aging.sp\n",
      "2023/09/14  19:46             1,733 aging_flow.yml\n",
      "2023/10/16  13:20            12,421 demo.ipynb\n",
      "2023/09/15  13:48             1,032 file.tree\n",
      "2023/10/16  10:48               208 matplotlib_test.py\n",
      "2023/10/09  09:42               689 netlist.cir\n",
      "2023/10/12  15:30            23,780 netlist.py\n",
      "2023/08/01  10:00               215 pyqt5_test.py\n",
      "               9 个文件         44,801 字节\n",
      "               4 个目录 354,749,075,456 可用字节\n"
     ]
    }
   ],
   "source": [
    "%ls"
   ]
  },
  {
   "cell_type": "code",
   "execution_count": 1,
   "id": "b00a75e1",
   "metadata": {
    "ExecuteTime": {
     "end_time": "2023-10-18T08:14:35.831470Z",
     "start_time": "2023-10-18T08:14:35.743439Z"
    }
   },
   "outputs": [
    {
     "name": "stderr",
     "output_type": "stream",
     "text": [
      "'%ls' 不是内部或外部命令，也不是可运行的程序\n",
      "或批处理文件。\n"
     ]
    }
   ],
   "source": [
    "!%ls"
   ]
  },
  {
   "cell_type": "code",
   "execution_count": 2,
   "id": "3cdb6df1",
   "metadata": {
    "ExecuteTime": {
     "end_time": "2023-10-18T08:14:45.741908Z",
     "start_time": "2023-10-18T08:14:45.694291Z"
    }
   },
   "outputs": [
    {
     "name": "stdout",
     "output_type": "stream",
     "text": [
      " 驱动器 D 中的卷是 DATA1\n",
      " 卷的序列号是 4E5F-7599\n",
      "\n",
      " D:\\Project\\Python 的目录\n",
      "\n",
      "2023/10/16  13:22    <DIR>          .\n",
      "2023/09/28  13:51    <DIR>          ..\n",
      "2023/10/16  11:00    <DIR>          .ipynb_checkpoints\n",
      "2023/10/16  10:37    <DIR>          __pycache__\n",
      "2023/10/12  13:57             1,880 adder.cir\n",
      "2023/10/13  14:48             2,843 aging.sp\n",
      "2023/09/14  19:46             1,733 aging_flow.yml\n",
      "2023/10/16  13:22            14,764 demo.ipynb\n",
      "2023/09/15  13:48             1,032 file.tree\n",
      "2023/10/16  10:48               208 matplotlib_test.py\n",
      "2023/10/09  09:42               689 netlist.cir\n",
      "2023/10/16  17:39            24,595 netlist.py\n",
      "2023/08/01  10:00               215 pyqt5_test.py\n",
      "               9 个文件         47,959 字节\n",
      "               4 个目录 354,710,847,488 可用字节\n"
     ]
    }
   ],
   "source": [
    "%ls"
   ]
  },
  {
   "cell_type": "code",
   "execution_count": null,
   "id": "f72fd083",
   "metadata": {},
   "outputs": [],
   "source": []
  }
 ],
 "metadata": {
  "kernelspec": {
   "display_name": "Python 3 (ipykernel)",
   "language": "python",
   "name": "python3"
  },
  "language_info": {
   "codemirror_mode": {
    "name": "ipython",
    "version": 3
   },
   "file_extension": ".py",
   "mimetype": "text/x-python",
   "name": "python",
   "nbconvert_exporter": "python",
   "pygments_lexer": "ipython3",
   "version": "3.9.0"
  },
  "toc": {
   "base_numbering": 1,
   "nav_menu": {},
   "number_sections": true,
   "sideBar": true,
   "skip_h1_title": false,
   "title_cell": "Table of Contents",
   "title_sidebar": "Contents",
   "toc_cell": false,
   "toc_position": {},
   "toc_section_display": true,
   "toc_window_display": false
  }
 },
 "nbformat": 4,
 "nbformat_minor": 5
}
