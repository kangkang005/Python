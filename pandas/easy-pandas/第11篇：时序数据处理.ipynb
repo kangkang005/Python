{
 "cells": [
  {
   "cell_type": "markdown",
   "metadata": {},
   "source": [
    "# 第11篇：时序数据处理"
   ]
  },
  {
   "cell_type": "markdown",
   "metadata": {},
   "source": [
    "## 第一部分：时间的基本概念\n"
   ]
  },
  {
   "cell_type": "markdown",
   "metadata": {},
   "source": [
    "时间是一个比较特殊的事物，不像数字有具体的进制，可以做相关的计算。比如时间分秒时是60进制，时和天又是24进制，一周又有7天，一月又有28到31天不等，等等。这就给我们处理时间问题带来了麻烦。为了更好地表达现实世界中的时间，计算机设计者提出了一些概念来进行表达。\n",
    "\n",
    "### 固定时间\n",
    "这个非常简单，它是一个独立的时间，不在任何周期时，比如中午 13:30 睡觉，不代表你每半个小时就睡一次。其他的如，2020 年、农历四月十八、19世纪等等。\n",
    "\n",
    "固定的时间有一定的属性，如所在年、月、日、毫秒等。\n",
    "\n",
    "### 时间戳 timestamp\n",
    "Unix时间戳(Unix timestamp)，时间戳是指格林威治时间1970年01月01日00时00分00秒起至当下的总秒数。它是一个非常大的数字，一直以一秒的步长在增加。如：1591684854 代表北京时间 2020/6/9 14:40:54。那么 1970年 年以前的时间怎么表示呢？用负数，如-1591684957 代表1919/7/26 2:17:23。\n",
    "\n",
    "### 时长时差 Time deltas\n",
    "代表一个时间长度，但它没有指定的开始时间和结束时间，比如一首歌4分钟，你不管从什么时候开始，它都会占用4分钟。\n",
    "\n",
    "### 格式化时间\n",
    "由于原始时间数据可能是时间戳，也有可能是其他类型的数据，我们在使用时想按照一定的格式进行显示，就需要做格式化处理。如时间戳 1591684854 和 2020/6/9 14:40:54 转换为为 2020年06月09日 这样的中文格式。\n",
    "\n",
    "### 周期时间\n",
    "有开始、有结束，并且有时间单位周期的时间，比如从大学毕业后，我开始工作，每周一到周五去工作，持续到65岁退休，这个就是工作日周期。另如钟表，每半小时响一次，开始时间是我安装好它，结束时间是它坏掉的时候。\n",
    "\n",
    "### 日期偏移 Date offsets\n",
    "周期时间中有一个频率，一个频率是一个单位，日期偏移是基于这个频率，如一个周期的频率是小时，那偏移三个频率就是三小时。比如偏移一个工作周，这个工作周期是自己定义的。\n",
    "\n",
    "### 时区\n",
    "每个固定的时间都会有一个时区，一般为你电脑本地的时区，当然你根据需要可以进行调整。\n",
    "\n",
    "### 工作日\n",
    "在数据分析时，经常会与是否工作日相关，除了正常的周末，每个国家和地区节假日，甚至具体到一些公司都会有一些特定的作息，一般需要自己来指定这个工作日的周期。\n",
    "\n",
    "### 时间转换\n",
    "时间转换包括时间表达格式的转换，也会有一些时间计算，比如给一个时间，转为去年的当天、100天前的当天、转换为特定时区的时间等等。"
   ]
  },
  {
   "cell_type": "markdown",
   "metadata": {},
   "source": [
    "## 第二部分：时序数据类型\n",
    "时间序列（Time series）数据是非常重要的数据类型，在各个领域的研究中，都与时间相关，因此对于时间数据的处理就越来越重要。Pandas 提供了多种时间数据类型和处理方法。"
   ]
  },
  {
   "cell_type": "markdown",
   "metadata": {},
   "source": [
    "### 1. 四类时间序列变量\n",
    "\n",
    "| 时间概念                  | 类型表示       | Array 类       | pandas 类型                          | 创建方法                        |\n",
    "| --------------------- | ---------- | -------------- | ------------------------------------ | ------------------------------- |\n",
    "| 固定时间 (Date times)   | Timestamp  | DatetimeIndex  | datetime64[ns] or datetime64[ns, tz] | to_datetime or date_range       |\n",
    "| 时长 (Time deltas)      | Timedelta  | TimedeltaIndex | timedelta64[ns]                      | to_timedelta or timedelta_range |\n",
    "| 周期 （Time spans）       | Period     | PeriodIndex    | period[freq]                         | Period or period_range          |\n",
    "| 日期偏移 （Date offsets） | DateOffset | None           | None                                 | DateOffset                      |\n",
    "\n",
    "通常时间序列数据作为 Series 或 DataFrame 的索引，以方便对时间数据进行操作。"
   ]
  },
  {
   "cell_type": "markdown",
   "metadata": {},
   "source": [
    "### 2 固定时间的创建\n",
    "带时间戳的数据是时间序列数据的最基本类型，它将值与时间点相关联，对它可以进行相关的时间操作，如何定义转换当非常关键。同时一个具体的时间包含了非常丰富的信息，如年份、在周几、在几月、在哪个季度，需要我们进行属性的读取。"
   ]
  },
  {
   "cell_type": "markdown",
   "metadata": {},
   "source": [
    "#### 定义一个时间\n",
    "pd.Timestamp() 是定义时间的主要函数，代替 python 中的 datetime.datetime 对象。"
   ]
  },
  {
   "cell_type": "markdown",
   "metadata": {},
   "source": [
    "导入相关模块"
   ]
  },
  {
   "cell_type": "code",
   "execution_count": 2,
   "metadata": {},
   "outputs": [],
   "source": [
    "import pandas as pd\n",
    "import numpy as np"
   ]
  },
  {
   "cell_type": "markdown",
   "metadata": {},
   "source": [
    "#### 使用 python 的 datetime 库"
   ]
  },
  {
   "cell_type": "code",
   "execution_count": 4,
   "metadata": {},
   "outputs": [
    {
     "data": {
      "text/plain": [
       "Timestamp('2021-02-01 00:00:00')"
      ]
     },
     "execution_count": 4,
     "metadata": {},
     "output_type": "execute_result"
    }
   ],
   "source": [
    "import datetime\n",
    "# 至少需要年月日\n",
    "pd.Timestamp(datetime.datetime(2021, 2, 1))"
   ]
  },
  {
   "cell_type": "code",
   "execution_count": 5,
   "metadata": {},
   "outputs": [
    {
     "data": {
      "text/plain": [
       "Timestamp('2021-02-01 18:39:32')"
      ]
     },
     "execution_count": 5,
     "metadata": {},
     "output_type": "execute_result"
    }
   ],
   "source": [
    "# 指定是时分秒\n",
    "pd.Timestamp(datetime.datetime(2021, 2, 1, 18, 39, 32))"
   ]
  },
  {
   "cell_type": "markdown",
   "metadata": {},
   "source": [
    "#### 指定时间字符串"
   ]
  },
  {
   "cell_type": "code",
   "execution_count": 6,
   "metadata": {},
   "outputs": [
    {
     "data": {
      "text/plain": [
       "Timestamp('2018-08-01 00:00:00')"
      ]
     },
     "execution_count": 6,
     "metadata": {},
     "output_type": "execute_result"
    }
   ],
   "source": [
    "pd.Timestamp('2018-08-01')"
   ]
  },
  {
   "cell_type": "code",
   "execution_count": 7,
   "metadata": {},
   "outputs": [
    {
     "data": {
      "text/plain": [
       "Timestamp('2021-01-01 12:00:00')"
      ]
     },
     "execution_count": 7,
     "metadata": {},
     "output_type": "execute_result"
    }
   ],
   "source": [
    "pd.Timestamp('2021-01-01T12')"
   ]
  },
  {
   "cell_type": "markdown",
   "metadata": {},
   "source": [
    "#### 指定时间位置数字\n",
    "可以依次定义 year, month, day，hour, minute, second, microsecond："
   ]
  },
  {
   "cell_type": "code",
   "execution_count": 8,
   "metadata": {},
   "outputs": [
    {
     "data": {
      "text/plain": [
       "Timestamp('2008-08-08 00:00:00')"
      ]
     },
     "execution_count": 8,
     "metadata": {},
     "output_type": "execute_result"
    }
   ],
   "source": [
    "pd.Timestamp(2008, 8, 8)"
   ]
  },
  {
   "cell_type": "code",
   "execution_count": 9,
   "metadata": {},
   "outputs": [
    {
     "data": {
      "text/plain": [
       "Timestamp('2008-08-08 08:00:00')"
      ]
     },
     "execution_count": 9,
     "metadata": {},
     "output_type": "execute_result"
    }
   ],
   "source": [
    "pd.Timestamp(2008, 8, 8, 8)"
   ]
  },
  {
   "cell_type": "code",
   "execution_count": 10,
   "metadata": {},
   "outputs": [
    {
     "data": {
      "text/plain": [
       "Timestamp('2008-08-08 08:00:00')"
      ]
     },
     "execution_count": 10,
     "metadata": {},
     "output_type": "execute_result"
    }
   ],
   "source": [
    "pd.Timestamp(year=2008, month=8, day=8, hour=8)"
   ]
  },
  {
   "cell_type": "markdown",
   "metadata": {},
   "source": [
    "#### 解析时间戳"
   ]
  },
  {
   "cell_type": "code",
   "execution_count": 14,
   "metadata": {},
   "outputs": [
    {
     "data": {
      "text/plain": [
       "Timestamp('2021-02-01 10:43:26.200000048')"
      ]
     },
     "execution_count": 14,
     "metadata": {},
     "output_type": "execute_result"
    }
   ],
   "source": [
    "pd.Timestamp(1612176206.2, unit='s') # 单位为秒"
   ]
  },
  {
   "cell_type": "markdown",
   "metadata": {},
   "source": [
    "#### 指定时区"
   ]
  },
  {
   "cell_type": "code",
   "execution_count": 15,
   "metadata": {},
   "outputs": [
    {
     "data": {
      "text/plain": [
       "Timestamp('2021-02-01 02:43:26-0800', tz='US/Pacific')"
      ]
     },
     "execution_count": 15,
     "metadata": {},
     "output_type": "execute_result"
    }
   ],
   "source": [
    "pd.Timestamp(1612176206, unit='s', tz='US/Pacific')"
   ]
  },
  {
   "cell_type": "code",
   "execution_count": 16,
   "metadata": {},
   "outputs": [
    {
     "data": {
      "text/plain": [
       "Timestamp('2021-02-01 18:43:26+0800', tz='Asia/Shanghai')"
      ]
     },
     "execution_count": 16,
     "metadata": {},
     "output_type": "execute_result"
    }
   ],
   "source": [
    "# 指定为北京时间\n",
    "pd.Timestamp(1612176206, unit='s', tz='Asia/Shanghai')"
   ]
  },
  {
   "cell_type": "markdown",
   "metadata": {},
   "source": [
    "#### 特殊时间\n",
    "以下可取得当前时间，从而可通过属性取到今天日期、年份等信息："
   ]
  },
  {
   "cell_type": "code",
   "execution_count": 17,
   "metadata": {},
   "outputs": [
    {
     "data": {
      "text/plain": [
       "Timestamp('2021-02-01 18:46:09.627130')"
      ]
     },
     "execution_count": 17,
     "metadata": {},
     "output_type": "execute_result"
    }
   ],
   "source": [
    "pd.Timestamp('today')"
   ]
  },
  {
   "cell_type": "code",
   "execution_count": 18,
   "metadata": {},
   "outputs": [
    {
     "data": {
      "text/plain": [
       "Timestamp('2021-02-01 18:46:15.060057')"
      ]
     },
     "execution_count": 18,
     "metadata": {},
     "output_type": "execute_result"
    }
   ],
   "source": [
    "pd.Timestamp('now')"
   ]
  },
  {
   "cell_type": "code",
   "execution_count": 19,
   "metadata": {},
   "outputs": [
    {
     "data": {
      "text/plain": [
       "datetime.date(2021, 2, 1)"
      ]
     },
     "execution_count": 19,
     "metadata": {},
     "output_type": "execute_result"
    }
   ],
   "source": [
    "pd.Timestamp('today').date() # 只取日期"
   ]
  },
  {
   "cell_type": "markdown",
   "metadata": {},
   "source": [
    "也可以计算出昨天、明天等信息："
   ]
  },
  {
   "cell_type": "code",
   "execution_count": 20,
   "metadata": {},
   "outputs": [
    {
     "data": {
      "text/plain": [
       "Timestamp('2021-01-31 18:46:50.276669')"
      ]
     },
     "execution_count": 20,
     "metadata": {},
     "output_type": "execute_result"
    }
   ],
   "source": [
    "# 昨天\n",
    "pd.Timestamp('now')-pd.Timedelta(days=1)"
   ]
  },
  {
   "cell_type": "code",
   "execution_count": 21,
   "metadata": {},
   "outputs": [
    {
     "data": {
      "text/plain": [
       "Timestamp('2021-02-02 18:46:56.115898')"
      ]
     },
     "execution_count": 21,
     "metadata": {},
     "output_type": "execute_result"
    }
   ],
   "source": [
    "# 明天\n",
    "pd.Timestamp('now')+pd.Timedelta(days=1)"
   ]
  },
  {
   "cell_type": "code",
   "execution_count": 22,
   "metadata": {},
   "outputs": [
    {
     "data": {
      "text/plain": [
       "Timestamp('2021-02-01 18:47:07.699907')"
      ]
     },
     "execution_count": 22,
     "metadata": {},
     "output_type": "execute_result"
    }
   ],
   "source": [
    "# 当月初，一日\n",
    "pd.Timestamp('now').replace(day=1)"
   ]
  },
  {
   "cell_type": "markdown",
   "metadata": {},
   "source": [
    "#### 时间限制\n",
    "由于 Pandas 以纳秒粒度表示时间戳，因此可以使用64位整数表示的时间跨度限制为大约584年："
   ]
  },
  {
   "cell_type": "code",
   "execution_count": 24,
   "metadata": {},
   "outputs": [
    {
     "data": {
      "text/plain": [
       "Timestamp('1677-09-21 00:12:43.145225')"
      ]
     },
     "execution_count": 24,
     "metadata": {},
     "output_type": "execute_result"
    }
   ],
   "source": [
    "pd.Timestamp.min"
   ]
  },
  {
   "cell_type": "code",
   "execution_count": 25,
   "metadata": {},
   "outputs": [
    {
     "data": {
      "text/plain": [
       "Timestamp('2262-04-11 23:47:16.854775807')"
      ]
     },
     "execution_count": 25,
     "metadata": {},
     "output_type": "execute_result"
    }
   ],
   "source": [
    "pd.Timestamp.max"
   ]
  },
  {
   "cell_type": "markdown",
   "metadata": {},
   "source": [
    "以上为支持的最早最晚时间。"
   ]
  },
  {
   "cell_type": "markdown",
   "metadata": {},
   "source": [
    "### 3. 时间属性操作\n",
    "一个具体的时间包含了非常丰富的信息，如年份、在周几、在几月、在哪个季度，需要我们进行属性的读取。"
   ]
  },
  {
   "cell_type": "markdown",
   "metadata": {},
   "source": [
    "#### 时间的属性 Attributes\n",
    "我们先定义一个当前时间："
   ]
  },
  {
   "cell_type": "code",
   "execution_count": 26,
   "metadata": {},
   "outputs": [
    {
     "data": {
      "text/plain": [
       "Timestamp('2021-02-01 18:50:17.041362')"
      ]
     },
     "execution_count": 26,
     "metadata": {},
     "output_type": "execute_result"
    }
   ],
   "source": [
    "time = pd.Timestamp('now')\n",
    "time"
   ]
  },
  {
   "cell_type": "code",
   "execution_count": 27,
   "metadata": {},
   "outputs": [
    {
     "data": {
      "text/plain": [
       "numpy.datetime64('2021-02-01T18:50:17.041362000')"
      ]
     },
     "execution_count": 27,
     "metadata": {},
     "output_type": "execute_result"
    }
   ],
   "source": [
    "time.asm8 # 返回 numpy datetime64格式（以纳秒为单位）。"
   ]
  },
  {
   "cell_type": "markdown",
   "metadata": {},
   "source": [
    "其他属性：\n",
    "- time.dayofweek # 周几，周一为0\n",
    "- time.day_of_week # 同上\n",
    "- time.dayofyear #  一年的第几天\n",
    "- time.day_of_year # 同上\n",
    "- time.days_in_month # 当月有多少天\n",
    "- time.daysinmonth # 同上\n",
    "- time.freqstr # 周期字符\n",
    "- time.is_leap_year # 是否闰年，公历的\n",
    "- time.is_month_end #  是否当月最后一天\n",
    "- time.is_month_start # 是否当月第一天\n",
    "- time.is_quarter_end # 是否当季最后一天\n",
    "- time.is_quarter_start # 是否当季第一天\n",
    "- time.is_year_end # 是否当年最后一天\n",
    "- time.is_year_start # 是否当年第一天\n",
    "- time.quarter # 当前季度数\n",
    "- time.tz # 当前时区别名\n",
    "- time.week # 当年第几周\n",
    "- time.weekofyear # 同上\n",
    "- time.day #  日\n",
    "- time.fold\n",
    "- time.freq # 频度周期\n",
    "- time.hour # 时\n",
    "- time.microsecond # 微秒\n",
    "- time.minute # 分\n",
    "- time.month # 月\n",
    "- time.nanosecond # 纳秒\n",
    "- time.second # 秒\n",
    "- time.tzinfo # None\n",
    "- time.value # 时间戳\n",
    "- time.year # 年"
   ]
  },
  {
   "cell_type": "markdown",
   "metadata": {},
   "source": [
    "#### 时间的方法 Methods\n",
    "取一个当前时间，并指定时区为北京时间："
   ]
  },
  {
   "cell_type": "code",
   "execution_count": 28,
   "metadata": {},
   "outputs": [
    {
     "data": {
      "text/plain": [
       "Timestamp('2021-02-01 18:55:06.578998+0800', tz='Asia/Shanghai')"
      ]
     },
     "execution_count": 28,
     "metadata": {},
     "output_type": "execute_result"
    }
   ],
   "source": [
    "time = pd.Timestamp('now', tz='Asia/Shanghai')\n",
    "time"
   ]
  },
  {
   "cell_type": "code",
   "execution_count": 29,
   "metadata": {},
   "outputs": [
    {
     "data": {
      "text/plain": [
       "Timestamp('2021-02-01 10:55:06.578998+0000', tz='UTC')"
      ]
     },
     "execution_count": 29,
     "metadata": {},
     "output_type": "execute_result"
    }
   ],
   "source": [
    "# 转换为指定时区\n",
    "time.astimezone('UTC')"
   ]
  },
  {
   "cell_type": "code",
   "execution_count": 30,
   "metadata": {},
   "outputs": [
    {
     "data": {
      "text/plain": [
       "Timestamp('2021-02-01 18:55:07+0800', tz='Asia/Shanghai')"
      ]
     },
     "execution_count": 30,
     "metadata": {},
     "output_type": "execute_result"
    }
   ],
   "source": [
    "# 转换单位，向上舍入\n",
    "time.ceil('s') # 转为以秒为单位"
   ]
  },
  {
   "cell_type": "code",
   "execution_count": 31,
   "metadata": {},
   "outputs": [
    {
     "data": {
      "text/plain": [
       "Timestamp('2021-02-01 19:00:00+0800', tz='Asia/Shanghai')"
      ]
     },
     "execution_count": 31,
     "metadata": {},
     "output_type": "execute_result"
    }
   ],
   "source": [
    "time.ceil('ns') # 转为以纳秒为单位\n",
    "time.ceil('d') # 保留日\n",
    "time.ceil('h') # 保留时"
   ]
  },
  {
   "cell_type": "code",
   "execution_count": 32,
   "metadata": {},
   "outputs": [
    {
     "data": {
      "text/plain": [
       "Timestamp('2021-02-01 18:00:00+0800', tz='Asia/Shanghai')"
      ]
     },
     "execution_count": 32,
     "metadata": {},
     "output_type": "execute_result"
    }
   ],
   "source": [
    "# 转换单位, 为向下舍入\n",
    "time.floor('h') # 保留时"
   ]
  },
  {
   "cell_type": "code",
   "execution_count": 33,
   "metadata": {},
   "outputs": [
    {
     "data": {
      "text/plain": [
       "Timestamp('2021-02-01 19:00:00+0800', tz='Asia/Shanghai')"
      ]
     },
     "execution_count": 33,
     "metadata": {},
     "output_type": "execute_result"
    }
   ],
   "source": [
    "# 类似四舍五入\n",
    "time.round('h') # 保留时"
   ]
  },
  {
   "cell_type": "code",
   "execution_count": 34,
   "metadata": {},
   "outputs": [
    {
     "data": {
      "text/plain": [
       "'Monday'"
      ]
     },
     "execution_count": 34,
     "metadata": {},
     "output_type": "execute_result"
    }
   ],
   "source": [
    "# 返回星期名\n",
    "time.day_name()"
   ]
  },
  {
   "cell_type": "code",
   "execution_count": null,
   "metadata": {},
   "outputs": [],
   "source": [
    "# 月份名称\n",
    "time.month_name() # 'June'"
   ]
  },
  {
   "cell_type": "code",
   "execution_count": 35,
   "metadata": {},
   "outputs": [
    {
     "data": {
      "text/plain": [
       "Timestamp('2021-02-01 00:00:00+0800', tz='Asia/Shanghai')"
      ]
     },
     "execution_count": 35,
     "metadata": {},
     "output_type": "execute_result"
    }
   ],
   "source": [
    "# 将时间戳规范化为午夜，保留tz信息。\n",
    "time.normalize()"
   ]
  },
  {
   "cell_type": "code",
   "execution_count": 36,
   "metadata": {},
   "outputs": [
    {
     "data": {
      "text/plain": [
       "Timestamp('2019-02-01 18:55:06.578998+0800', tz='Asia/Shanghai')"
      ]
     },
     "execution_count": 36,
     "metadata": {},
     "output_type": "execute_result"
    }
   ],
   "source": [
    "# 时间元素替换 datetime.replace，可处理纳秒。\n",
    "time.replace(year=2019) # 年份换为2019年"
   ]
  },
  {
   "cell_type": "code",
   "execution_count": 37,
   "metadata": {},
   "outputs": [
    {
     "data": {
      "text/plain": [
       "Timestamp('2021-08-01 18:55:06.578998+0800', tz='Asia/Shanghai')"
      ]
     },
     "execution_count": 37,
     "metadata": {},
     "output_type": "execute_result"
    }
   ],
   "source": [
    "time.replace(month=8) # 月份换为8月"
   ]
  },
  {
   "cell_type": "code",
   "execution_count": 38,
   "metadata": {},
   "outputs": [
    {
     "name": "stderr",
     "output_type": "stream",
     "text": [
      "<ipython-input-38-1ba4d122f88a>:2: UserWarning: Converting to Period representation will drop timezone information.\n",
      "  time.to_period(freq='h') # 周期为小时\n"
     ]
    },
    {
     "data": {
      "text/plain": [
       "Period('2021-02-01 18:00', 'H')"
      ]
     },
     "execution_count": 38,
     "metadata": {},
     "output_type": "execute_result"
    }
   ],
   "source": [
    "# 转为周期类型，将丢失时区\n",
    "time.to_period(freq='h') # 周期为小时"
   ]
  },
  {
   "cell_type": "code",
   "execution_count": 39,
   "metadata": {},
   "outputs": [
    {
     "data": {
      "text/plain": [
       "Timestamp('2021-02-01 10:55:06.578998+0000', tz='UTC')"
      ]
     },
     "execution_count": 39,
     "metadata": {},
     "output_type": "execute_result"
    }
   ],
   "source": [
    "# 转为指定时区\n",
    "time.tz_convert('UTC') # 转为 utc 时间"
   ]
  },
  {
   "cell_type": "code",
   "execution_count": 40,
   "metadata": {},
   "outputs": [
    {
     "data": {
      "text/plain": [
       "Timestamp('2021-02-01 18:58:00.359104+0800', tz='Asia/Shanghai')"
      ]
     },
     "execution_count": 40,
     "metadata": {},
     "output_type": "execute_result"
    }
   ],
   "source": [
    "# 本地化时区转换\n",
    "time = pd.Timestamp('now')\n",
    "time.tz_localize('Asia/Shanghai')"
   ]
  },
  {
   "cell_type": "code",
   "execution_count": 41,
   "metadata": {},
   "outputs": [
    {
     "data": {
      "text/plain": [
       "Timestamp('2021-02-01 18:58:00.359104')"
      ]
     },
     "execution_count": 41,
     "metadata": {},
     "output_type": "execute_result"
    }
   ],
   "source": [
    "# Timestamp('2020-06-09 17:32:47.388726+0800', tz='Asia/Shanghai')\n",
    "time.tz_localize(None) # 删除时区"
   ]
  },
  {
   "cell_type": "markdown",
   "metadata": {},
   "source": [
    "#### .dt 时间访问器\n",
    "对于时间序列数据，可以使用 s.dt.xxx 的形式来访问它们的属性和调用它们的方法"
   ]
  },
  {
   "cell_type": "markdown",
   "metadata": {},
   "source": [
    "```python\n",
    "s = pd.Series(pd.date_range('2020-01-01', periods=3, freq='d'))\n",
    "s.dt.date\n",
    "s.dt.time\n",
    "s.dt.timetz\n",
    "s.dt.year\n",
    "s.dt.month\n",
    "s.dt.day\n",
    "s.dt.hour\n",
    "s.dt.minute\n",
    "s.dt.second\n",
    "s.dt.microsecond\n",
    "s.dt.nanosecond\n",
    "s.dt.week\n",
    "s.dt.weekofyear\n",
    "s.dt.dayofweek\n",
    "s.dt.weekday\n",
    "s.dt.dayofyear\n",
    "s.dt.quarter\n",
    "s.dt.is_month_start\n",
    "s.dt.is_month_end\n",
    "s.dt.is_quarter_start\n",
    "s.dt.is_quarter_end\n",
    "s.dt.is_year_start\n",
    "s.dt.is_year_end\n",
    "s.dt.is_leap_year\n",
    "s.dt.daysinmonth\n",
    "s.dt.days_in_month\n",
    "s.dt.tz\n",
    "s.dt.freq\n",
    "s.dt.to_period\n",
    "s.dt.to_pydatetime\n",
    "s.dt.tz_localize\n",
    "s.dt.tz_convert\n",
    "s.dt.normalize\n",
    "s.dt.strftime\n",
    "s.dt.round\n",
    "s.dt.floor\n",
    "s.dt.ceil\n",
    "s.dt.month_name\n",
    "s.dt.day_name\n",
    "s.dt.qyear\n",
    "s.dt.start_time\n",
    "s.dt.end_time\n",
    "s.dt.days\n",
    "s.dt.seconds\n",
    "s.dt.microseconds\n",
    "s.dt.nanoseconds\n",
    "s.dt.components\n",
    "s.dt.to_pytimedelta\n",
    "s.dt.total_seconds\n",
    "\n",
    "# 个别用法举例\n",
    "s.dt.tz_localize('UTC').dt.tz_convert('US/Eastern')\n",
    "s.dt.strftime('%Y/%m/%d')\n",
    "```\n",
    "对于固定时间会返回固定的结果，对于这序列会返回对应值的序列。"
   ]
  },
  {
   "cell_type": "markdown",
   "metadata": {},
   "source": [
    "### 4. 时间类型转换\n",
    "由于时间格式样式比较多，很多情况下 Padnas 并不能自动识别为时间类型，所以我们在处理前的数据清洗过程中，需要专门对数据进行时间类型转换。"
   ]
  },
  {
   "cell_type": "markdown",
   "metadata": {},
   "source": [
    "#### astype 转换\n",
    "astype 是最简单的时间转换方法，它只能针对相对标准的时间格式，如："
   ]
  },
  {
   "cell_type": "code",
   "execution_count": 43,
   "metadata": {},
   "outputs": [
    {
     "data": {
      "text/plain": [
       "0   2020-01-31\n",
       "1   2020-02-29\n",
       "2   2020-03-31\n",
       "dtype: datetime64[ns]"
      ]
     },
     "execution_count": 43,
     "metadata": {},
     "output_type": "execute_result"
    }
   ],
   "source": [
    "s = pd.Series(['2020-01-31', '2020-02-29', '2020-03-31'])\n",
    "s.astype('datetime64[ns]')"
   ]
  },
  {
   "cell_type": "markdown",
   "metadata": {},
   "source": [
    "指定时区"
   ]
  },
  {
   "cell_type": "code",
   "execution_count": 44,
   "metadata": {},
   "outputs": [
    {
     "data": {
      "text/plain": [
       "0   2020-01-31 00:00:00-05:00\n",
       "1   2020-02-29 00:00:00-05:00\n",
       "2   2020-03-31 00:00:00-04:00\n",
       "dtype: datetime64[ns, US/Eastern]"
      ]
     },
     "execution_count": 44,
     "metadata": {},
     "output_type": "execute_result"
    }
   ],
   "source": [
    "s.astype('datetime64[ns, US/Eastern]')"
   ]
  },
  {
   "cell_type": "markdown",
   "metadata": {},
   "source": [
    "#### 转为时间 to_datetime\n",
    "Pandas 提供的 pd.to_datetime() 是识别转换时间的主要工具。接下来我们看一些例子。\n",
    "\n",
    "从 DataFrame 的多个列中组合一个日期时间。 键可以是常见的缩写，例如['year'，'month'，'day'，'minute'，'second'，'ms'，'us'，'ns']）：\n",
    "\n",
    "- 必须: year, month, day\n",
    "- 可选: hour, minute, second, millisecond, microsecond, nanosecond"
   ]
  },
  {
   "cell_type": "code",
   "execution_count": 45,
   "metadata": {},
   "outputs": [
    {
     "data": {
      "text/html": [
       "<div>\n",
       "<style scoped>\n",
       "    .dataframe tbody tr th:only-of-type {\n",
       "        vertical-align: middle;\n",
       "    }\n",
       "\n",
       "    .dataframe tbody tr th {\n",
       "        vertical-align: top;\n",
       "    }\n",
       "\n",
       "    .dataframe thead th {\n",
       "        text-align: right;\n",
       "    }\n",
       "</style>\n",
       "<table border=\"1\" class=\"dataframe\">\n",
       "  <thead>\n",
       "    <tr style=\"text-align: right;\">\n",
       "      <th></th>\n",
       "      <th>year</th>\n",
       "      <th>month</th>\n",
       "      <th>day</th>\n",
       "    </tr>\n",
       "  </thead>\n",
       "  <tbody>\n",
       "    <tr>\n",
       "      <th>0</th>\n",
       "      <td>2020</td>\n",
       "      <td>2</td>\n",
       "      <td>4</td>\n",
       "    </tr>\n",
       "    <tr>\n",
       "      <th>1</th>\n",
       "      <td>2021</td>\n",
       "      <td>3</td>\n",
       "      <td>5</td>\n",
       "    </tr>\n",
       "  </tbody>\n",
       "</table>\n",
       "</div>"
      ],
      "text/plain": [
       "   year  month  day\n",
       "0  2020      2    4\n",
       "1  2021      3    5"
      ]
     },
     "execution_count": 45,
     "metadata": {},
     "output_type": "execute_result"
    }
   ],
   "source": [
    "df = pd.DataFrame({'year': [2020, 2021],\n",
    "                   'month': [2, 3],\n",
    "                   'day': [4, 5]})\n",
    "df"
   ]
  },
  {
   "cell_type": "code",
   "execution_count": 46,
   "metadata": {},
   "outputs": [
    {
     "data": {
      "text/plain": [
       "0   2020-02-04\n",
       "1   2021-03-05\n",
       "dtype: datetime64[ns]"
      ]
     },
     "execution_count": 46,
     "metadata": {},
     "output_type": "execute_result"
    }
   ],
   "source": [
    "pd.to_datetime(df)"
   ]
  },
  {
   "cell_type": "code",
   "execution_count": 47,
   "metadata": {},
   "outputs": [
    {
     "data": {
      "text/plain": [
       "0   2020-02-04\n",
       "1   2021-03-05\n",
       "dtype: datetime64[ns]"
      ]
     },
     "execution_count": 47,
     "metadata": {},
     "output_type": "execute_result"
    }
   ],
   "source": [
    "pd.to_datetime(df[['year', 'month', 'day']]) # 同上"
   ]
  },
  {
   "cell_type": "markdown",
   "metadata": {},
   "source": [
    "智能解析时间："
   ]
  },
  {
   "cell_type": "code",
   "execution_count": 53,
   "metadata": {},
   "outputs": [
    {
     "data": {
      "text/plain": [
       "0   2008-12-31\n",
       "1   2018-01-10\n",
       "2          NaT\n",
       "dtype: datetime64[ns]"
      ]
     },
     "execution_count": 53,
     "metadata": {},
     "output_type": "execute_result"
    }
   ],
   "source": [
    "pd.to_datetime(pd.Series(['Dec 31, 2008', '2018-01-10', None]))"
   ]
  },
  {
   "cell_type": "code",
   "execution_count": 54,
   "metadata": {},
   "outputs": [
    {
     "data": {
      "text/plain": [
       "DatetimeIndex(['2005-11-23', '2010-12-31'], dtype='datetime64[ns]', freq=None)"
      ]
     },
     "execution_count": 54,
     "metadata": {},
     "output_type": "execute_result"
    }
   ],
   "source": [
    "pd.to_datetime(['2005/11/23', '2010.12.31'])"
   ]
  },
  {
   "cell_type": "code",
   "execution_count": 55,
   "metadata": {},
   "outputs": [
    {
     "data": {
      "text/plain": [
       "DatetimeIndex(['2012-01-04 10:00:00'], dtype='datetime64[ns]', freq=None)"
      ]
     },
     "execution_count": 55,
     "metadata": {},
     "output_type": "execute_result"
    }
   ],
   "source": [
    "pd.to_datetime(['04-01-2012 10:00'], dayfirst=True) # 日期在前"
   ]
  },
  {
   "cell_type": "markdown",
   "metadata": {},
   "source": [
    "可以使用 pd.Timestamp() 进行转换："
   ]
  },
  {
   "cell_type": "code",
   "execution_count": 57,
   "metadata": {},
   "outputs": [
    {
     "data": {
      "text/plain": [
       "Timestamp('2010-11-12 00:00:00')"
      ]
     },
     "execution_count": 57,
     "metadata": {},
     "output_type": "execute_result"
    }
   ],
   "source": [
    "pd.to_datetime('2010/11/12')"
   ]
  },
  {
   "cell_type": "code",
   "execution_count": 58,
   "metadata": {},
   "outputs": [
    {
     "data": {
      "text/plain": [
       "Timestamp('2010-11-12 00:00:00')"
      ]
     },
     "execution_count": 58,
     "metadata": {},
     "output_type": "execute_result"
    }
   ],
   "source": [
    "pd.Timestamp('2010/11/12')"
   ]
  },
  {
   "cell_type": "markdown",
   "metadata": {},
   "source": [
    "pd.DatetimeIndex 也可以转换："
   ]
  },
  {
   "cell_type": "code",
   "execution_count": 59,
   "metadata": {},
   "outputs": [
    {
     "data": {
      "text/plain": [
       "DatetimeIndex(['2018-01-01', '2018-01-03', '2018-01-05'], dtype='datetime64[ns]', freq=None)"
      ]
     },
     "execution_count": 59,
     "metadata": {},
     "output_type": "execute_result"
    }
   ],
   "source": [
    "pd.DatetimeIndex(['2018-01-01', '2018-01-03', '2018-01-05'])"
   ]
  },
  {
   "cell_type": "code",
   "execution_count": 60,
   "metadata": {},
   "outputs": [
    {
     "data": {
      "text/plain": [
       "DatetimeIndex(['2018-01-01', '2018-01-03', '2018-01-05'], dtype='datetime64[ns]', freq='2D')"
      ]
     },
     "execution_count": 60,
     "metadata": {},
     "output_type": "execute_result"
    }
   ],
   "source": [
    "pd.DatetimeIndex(['2018-01-01', '2018-01-03', '2018-01-05'], freq='infer')"
   ]
  },
  {
   "cell_type": "markdown",
   "metadata": {},
   "source": [
    "对于有格式的数据，需要指定数据的格式："
   ]
  },
  {
   "cell_type": "markdown",
   "metadata": {},
   "source": [
    "```python\n",
    "pd.to_datetime('13000101', format='%Y%m%d', errors='ignore')\n",
    "# 可以让系统自己推断时间格式\n",
    "pd.to_datetime('13000101', infer_datetime_format=True, errors='ignore')\n",
    "# datetime.datetime(1300, 1, 1, 0, 0)\n",
    "# coerce 将不会忽略错误，返回空值\n",
    "pd.to_datetime('13000101', format='%Y%m%d', errors='coerce')\n",
    "# NaT\n",
    "\n",
    "# 有时间需要字段转为字符\n",
    "pd.to_datetime(df.d.astype(str), format='%m/%d/%Y')\n",
    "\n",
    "# 其他\n",
    "pd.to_datetime('2010/11/12', format='%Y/%m/%d')\n",
    "# Timestamp('2010-11-12 00:00:00')\n",
    "\n",
    "pd.to_datetime('12-11-2010 00:00', format='%d-%m-%Y %H:%M')\n",
    "# Timestamp('2010-11-12 00:00:00')\n",
    "对时间戳进行转换，需要给出时间单位，一般为秒：\n",
    "\n",
    "pd.to_datetime(1490195805, unit='s')\n",
    "# Timestamp('2017-03-22 15:16:45')\n",
    "pd.to_datetime(1490195805433502912, unit='ns')\n",
    "# Timestamp('2017-03-22 15:16:45.433502912')\n",
    "对周期数据进行转换：\n",
    "\n",
    "pd.to_datetime([1, 2, 3], unit='D',\n",
    "               origin=pd.Timestamp('1960-01-01'))\n",
    "# DatetimeIndex(['1960-01-02', '1960-01-03', '1960-01-04'], dtype='datetime64[ns]', freq\n",
    "```"
   ]
  },
  {
   "cell_type": "markdown",
   "metadata": {},
   "source": [
    "#### 日期格式化符号\n",
    "python中时间日期格式化符号：\n",
    "\n",
    "- %y 两位数的年份表示（00-99）  \n",
    "- %Y 四位数的年份表示（000-9999）  \n",
    "- %m 月份（01-12）\n",
    "- %d 月内中的一天（0-31）\n",
    "- %H 24小时制小时数（0-23）\n",
    "- %I 12小时制小时数（01-12）\n",
    "- %M 分钟数（00-59）\n",
    "- %S 秒（00-59）\n",
    "- %a 本地简化星期名称\n",
    "- %A 本地完整星期名称\n",
    "- %b 本地简化的月份名称\n",
    "- %B 本地完整的月份名称\n",
    "- %c 本地相应的日期表示和时间表示\n",
    "- %j 年内的一天（001-366）\n",
    "- %p 本地A.M.或P.M.的等价符\n",
    "- %U 一年中的星期数（00-53）星期天为星期的开始\n",
    "- %w 星期（0-6），星期天为星期的开始\n",
    "- %W 一年中的星期数（00-53）星期一为星期的开始\n",
    "- %x 本地相应的日期表示\n",
    "- %X 本地相应的时间表示\n",
    "- %Z 当前时区的名称\n",
    "- %% %号本身"
   ]
  },
  {
   "cell_type": "markdown",
   "metadata": {},
   "source": [
    "### 5. 时间范围\n",
    "时间周期的特点是有开始时间有结束时间，也会有一个周期频率（虽然有时候也会没有），广泛应用在经济、物理、金融等领域。"
   ]
  },
  {
   "cell_type": "markdown",
   "metadata": {},
   "source": [
    "#### 生成时间范围\n",
    "可以使用 pd.DatetimeIndex() 和 pd.Index() 来构造时间范围数据："
   ]
  },
  {
   "cell_type": "code",
   "execution_count": 62,
   "metadata": {},
   "outputs": [
    {
     "data": {
      "text/plain": [
       "DatetimeIndex(['2012-05-01', '2012-05-02', '2012-05-03'], dtype='datetime64[ns]', freq=None)"
      ]
     },
     "execution_count": 62,
     "metadata": {},
     "output_type": "execute_result"
    }
   ],
   "source": [
    "dates = [datetime.datetime(2012, 5, 1),\n",
    "         datetime.datetime(2012, 5, 2),\n",
    "         datetime.datetime(2012, 5, 3)]\n",
    "\n",
    "# 无频率\n",
    "pd.DatetimeIndex(dates)\n",
    "# pd.Index(dates) # 效果同上"
   ]
  },
  {
   "cell_type": "code",
   "execution_count": 64,
   "metadata": {},
   "outputs": [
    {
     "data": {
      "text/plain": [
       "DatetimeIndex(['2018-01-01', '2018-01-02', '2018-01-03', '2018-01-04',\n",
       "               '2018-01-05', '2018-01-06', '2018-01-07', '2018-01-08'],\n",
       "              dtype='datetime64[ns]', freq='D')"
      ]
     },
     "execution_count": 64,
     "metadata": {},
     "output_type": "execute_result"
    }
   ],
   "source": [
    "pd.date_range(start='1/1/2018', end='1/08/2018')"
   ]
  },
  {
   "cell_type": "code",
   "execution_count": 65,
   "metadata": {},
   "outputs": [
    {
     "data": {
      "text/plain": [
       "DatetimeIndex(['2018-01-01', '2018-01-02', '2018-01-03', '2018-01-04',\n",
       "               '2018-01-05', '2018-01-06', '2018-01-07', '2018-01-08'],\n",
       "              dtype='datetime64[ns]', freq='D')"
      ]
     },
     "execution_count": 65,
     "metadata": {},
     "output_type": "execute_result"
    }
   ],
   "source": [
    "pd.date_range(start='1/1/2018', periods=8)"
   ]
  },
  {
   "cell_type": "code",
   "execution_count": 66,
   "metadata": {},
   "outputs": [
    {
     "data": {
      "text/plain": [
       "DatetimeIndex(['2017-12-25', '2017-12-26', '2017-12-27', '2017-12-28',\n",
       "               '2017-12-29', '2017-12-30', '2017-12-31', '2018-01-01'],\n",
       "              dtype='datetime64[ns]', freq='D')"
      ]
     },
     "execution_count": 66,
     "metadata": {},
     "output_type": "execute_result"
    }
   ],
   "source": [
    "pd.date_range(end='1/1/2018', periods=8)"
   ]
  },
  {
   "cell_type": "code",
   "execution_count": 67,
   "metadata": {},
   "outputs": [
    {
     "data": {
      "text/plain": [
       "DatetimeIndex(['2018-04-24 00:00:00', '2018-04-25 12:00:00',\n",
       "               '2018-04-27 00:00:00'],\n",
       "              dtype='datetime64[ns]', freq=None)"
      ]
     },
     "execution_count": 67,
     "metadata": {},
     "output_type": "execute_result"
    }
   ],
   "source": [
    "pd.date_range(start='2018-04-24', end='2018-04-27', periods=3)"
   ]
  },
  {
   "cell_type": "markdown",
   "metadata": {},
   "source": [
    "date_range 的默认频率是 D 日，可以指定为其他频率，"
   ]
  },
  {
   "cell_type": "code",
   "execution_count": 68,
   "metadata": {},
   "outputs": [
    {
     "data": {
      "text/plain": [
       "DatetimeIndex(['2018-01-31', '2018-02-28', '2018-03-31', '2018-04-30',\n",
       "               '2018-05-31'],\n",
       "              dtype='datetime64[ns]', freq='M')"
      ]
     },
     "execution_count": 68,
     "metadata": {},
     "output_type": "execute_result"
    }
   ],
   "source": [
    "# 指定频率为月\n",
    "pd.date_range(start='1/1/2018', periods=5, freq='M')"
   ]
  },
  {
   "cell_type": "markdown",
   "metadata": {},
   "source": [
    "#### 固定频率 date_range\n",
    "在实际使用中，我们只需要给出开始和结束时间和频率，pd.date_range 系统会快速生成时间范围数据："
   ]
  },
  {
   "cell_type": "code",
   "execution_count": 69,
   "metadata": {},
   "outputs": [
    {
     "data": {
      "text/plain": [
       "DatetimeIndex(['2011-01-01', '2011-01-02', '2011-01-03', '2011-01-04',\n",
       "               '2011-01-05', '2011-01-06', '2011-01-07', '2011-01-08',\n",
       "               '2011-01-09', '2011-01-10',\n",
       "               ...\n",
       "               '2011-12-23', '2011-12-24', '2011-12-25', '2011-12-26',\n",
       "               '2011-12-27', '2011-12-28', '2011-12-29', '2011-12-30',\n",
       "               '2011-12-31', '2012-01-01'],\n",
       "              dtype='datetime64[ns]', length=366, freq='D')"
      ]
     },
     "execution_count": 69,
     "metadata": {},
     "output_type": "execute_result"
    }
   ],
   "source": [
    "start = datetime.datetime(2011, 1, 1)\n",
    "end = datetime.datetime(2012, 1, 1)\n",
    "pd.date_range(start, end)"
   ]
  },
  {
   "cell_type": "markdown",
   "metadata": {},
   "source": [
    "多个单位频率"
   ]
  },
  {
   "cell_type": "code",
   "execution_count": 70,
   "metadata": {},
   "outputs": [
    {
     "data": {
      "text/plain": [
       "DatetimeIndex(['2018-01-31', '2018-04-30', '2018-07-31', '2018-10-31',\n",
       "               '2019-01-31'],\n",
       "              dtype='datetime64[ns]', freq='3M')"
      ]
     },
     "execution_count": 70,
     "metadata": {},
     "output_type": "execute_result"
    }
   ],
   "source": [
    "# 三个月\n",
    "pd.date_range(start='1/1/2018', periods=5, freq='3M')"
   ]
  },
  {
   "cell_type": "markdown",
   "metadata": {},
   "source": [
    "频率也可以使用时间偏移"
   ]
  },
  {
   "cell_type": "code",
   "execution_count": 72,
   "metadata": {},
   "outputs": [
    {
     "data": {
      "text/plain": [
       "DatetimeIndex(['2018-01-31', '2018-04-30', '2018-07-31', '2018-10-31',\n",
       "               '2019-01-31'],\n",
       "              dtype='datetime64[ns]', freq='3M')"
      ]
     },
     "execution_count": 72,
     "metadata": {},
     "output_type": "execute_result"
    }
   ],
   "source": [
    "# 三个月，取月最后一天\n",
    "pd.date_range(start='1/1/2018', periods=5, freq=pd.offsets.MonthEnd(3))"
   ]
  },
  {
   "cell_type": "markdown",
   "metadata": {},
   "source": [
    "可以指定时区："
   ]
  },
  {
   "cell_type": "code",
   "execution_count": 73,
   "metadata": {},
   "outputs": [
    {
     "data": {
      "text/plain": [
       "DatetimeIndex(['2018-01-01 00:00:00+09:00', '2018-01-02 00:00:00+09:00',\n",
       "               '2018-01-03 00:00:00+09:00', '2018-01-04 00:00:00+09:00',\n",
       "               '2018-01-05 00:00:00+09:00'],\n",
       "              dtype='datetime64[ns, Asia/Tokyo]', freq='D')"
      ]
     },
     "execution_count": 73,
     "metadata": {},
     "output_type": "execute_result"
    }
   ],
   "source": [
    "# 东京时间\n",
    "pd.date_range(start='1/1/2018', periods=5, tz='Asia/Tokyo')"
   ]
  },
  {
   "cell_type": "markdown",
   "metadata": {},
   "source": [
    "closed 可以做开始和结束时间开闭区间的控制："
   ]
  },
  {
   "cell_type": "code",
   "execution_count": 74,
   "metadata": {},
   "outputs": [
    {
     "data": {
      "text/plain": [
       "DatetimeIndex(['2017-01-01', '2017-01-02', '2017-01-03', '2017-01-04'], dtype='datetime64[ns]', freq='D')"
      ]
     },
     "execution_count": 74,
     "metadata": {},
     "output_type": "execute_result"
    }
   ],
   "source": [
    "# None 两边都包含\n",
    "pd.date_range(start='2017-01-01', end='2017-01-04', closed=None)"
   ]
  },
  {
   "cell_type": "code",
   "execution_count": 75,
   "metadata": {},
   "outputs": [
    {
     "data": {
      "text/plain": [
       "DatetimeIndex(['2017-01-01', '2017-01-02', '2017-01-03'], dtype='datetime64[ns]', freq='D')"
      ]
     },
     "execution_count": 75,
     "metadata": {},
     "output_type": "execute_result"
    }
   ],
   "source": [
    "# left 不包含右边\n",
    "pd.date_range(start='2017-01-01', end='2017-01-04', closed='left')"
   ]
  },
  {
   "cell_type": "code",
   "execution_count": 76,
   "metadata": {},
   "outputs": [
    {
     "data": {
      "text/plain": [
       "DatetimeIndex(['2017-01-02', '2017-01-03', '2017-01-04'], dtype='datetime64[ns]', freq='D')"
      ]
     },
     "execution_count": 76,
     "metadata": {},
     "output_type": "execute_result"
    }
   ],
   "source": [
    "# right 不包含左边\n",
    "pd.date_range(start='2017-01-01', end='2017-01-04', closed='right')"
   ]
  },
  {
   "cell_type": "markdown",
   "metadata": {},
   "source": [
    "#### 工作日频率 bdate_range\n",
    "pd.bdate_range 可以生成一个以工作日频率的日期范围，周末两天将会被跳过："
   ]
  },
  {
   "cell_type": "code",
   "execution_count": 77,
   "metadata": {},
   "outputs": [
    {
     "data": {
      "text/plain": [
       "DatetimeIndex(['2021-01-01', '2021-01-04', '2021-01-05', '2021-01-06',\n",
       "               '2021-01-07', '2021-01-08'],\n",
       "              dtype='datetime64[ns]', freq='B')"
      ]
     },
     "execution_count": 77,
     "metadata": {},
     "output_type": "execute_result"
    }
   ],
   "source": [
    "pd.bdate_range(start='1/1/2021', end='1/08/2021')"
   ]
  },
  {
   "cell_type": "markdown",
   "metadata": {},
   "source": [
    "在四个参数中：开始，结束，周期和频率，必须精确指定三个。 指定频率是 bdate_range 的要求。 如果不需要指定频率，请使用 date_range。"
   ]
  },
  {
   "cell_type": "markdown",
   "metadata": {},
   "source": [
    "#### 频率\n",
    "以上两个方法中都会要求传入频率，频率可以用时间偏移对象（DateOffset objects）的别名表示。"
   ]
  },
  {
   "cell_type": "markdown",
   "metadata": {},
   "source": [
    "### 6. 时间偏移\n",
    "周期数据有一个基础频率，或者叫分辨率、粒度，时间偏移由基础频率和乘数组成，这对我们处理周期数据非常有用。  \n",
    "Pandas 专门提供了一个时间偏移对象（Date offsets）来完成时间偏移工作，本文将介绍 Date offsets 的构成和使用方法。DateOffset 基础操作类似于 dateutil.relativedelta（relativedelta 文档），可以按真实的日历进行时间偏移，并用算数运算符（+）或 apply 进行日期偏移操作。"
   ]
  },
  {
   "cell_type": "markdown",
   "metadata": {},
   "source": [
    "#### DateOffset 对象\n",
    "DateOffset 类似于时间差 Timedelta ，但它使用日历中时间日期的规则，而不是直接进行时间性质的算术计算，让时间更符合实际生活。比如，有些地区使用夏令时时，每日偏移时间有可能是 23 或 24 小时，甚至 25 个小时。  \n",
    "**DataOffset与Timedelta的区别**  \n",
    "- Timedelta绝对时间差的特点指无论是冬令时还是夏令时，增减1day都只计算24小时\n",
    "- DataOffset相对时间差指，无论一天是23\\24\\25小时，增减1day都与当天相同的时间保持一致"
   ]
  },
  {
   "cell_type": "markdown",
   "metadata": {},
   "source": [
    "#### DateOffset 示例\n",
    "以下所示了夏令时的情况："
   ]
  },
  {
   "cell_type": "code",
   "execution_count": 122,
   "metadata": {},
   "outputs": [
    {
     "data": {
      "text/plain": [
       "Timestamp('2016-10-30 00:00:00+0300', tz='Europe/Helsinki')"
      ]
     },
     "execution_count": 122,
     "metadata": {},
     "output_type": "execute_result"
    }
   ],
   "source": [
    "# 生成一个指定的时间，芬兰赫尔辛基时间执行夏令时\n",
    "ts = pd.Timestamp('2016-10-30 00:00:00', tz='Europe/Helsinki')\n",
    "ts"
   ]
  },
  {
   "cell_type": "code",
   "execution_count": 125,
   "metadata": {},
   "outputs": [
    {
     "data": {
      "text/plain": [
       "Timestamp('2016-10-30 23:00:00+0200', tz='Europe/Helsinki')"
      ]
     },
     "execution_count": 125,
     "metadata": {},
     "output_type": "execute_result"
    }
   ],
   "source": [
    "# 增加一天\n",
    "ts + pd.Timedelta(days=1)"
   ]
  },
  {
   "cell_type": "code",
   "execution_count": 126,
   "metadata": {},
   "outputs": [
    {
     "data": {
      "text/plain": [
       "Timestamp('2016-10-31 00:00:00+0200', tz='Europe/Helsinki')"
      ]
     },
     "execution_count": 126,
     "metadata": {},
     "output_type": "execute_result"
    }
   ],
   "source": [
    "# 按日历时间\n",
    "ts + pd.DateOffset(days=1)"
   ]
  },
  {
   "cell_type": "markdown",
   "metadata": {},
   "source": [
    "这似乎有些令人头大，但只要把tz（time zone）去除就可以不用管它了，两者保持一致，除非要使用到时区变换"
   ]
  },
  {
   "cell_type": "code",
   "execution_count": 143,
   "metadata": {},
   "outputs": [
    {
     "data": {
      "text/plain": [
       "Timestamp('2016-10-31 00:00:00')"
      ]
     },
     "execution_count": 143,
     "metadata": {},
     "output_type": "execute_result"
    }
   ],
   "source": [
    "# 增加一天\n",
    "ts + pd.Timedelta(days=1)"
   ]
  },
  {
   "cell_type": "code",
   "execution_count": 144,
   "metadata": {},
   "outputs": [
    {
     "data": {
      "text/plain": [
       "Timestamp('2016-10-31 00:00:00')"
      ]
     },
     "execution_count": 144,
     "metadata": {},
     "output_type": "execute_result"
    }
   ],
   "source": [
    "# 按日历时间\n",
    "ts + pd.DateOffset(days=1)"
   ]
  },
  {
   "cell_type": "markdown",
   "metadata": {},
   "source": [
    "以下是增加工作日，出现跨周末的情况："
   ]
  },
  {
   "cell_type": "code",
   "execution_count": 142,
   "metadata": {},
   "outputs": [
    {
     "data": {
      "text/plain": [
       "Timestamp('2016-10-30 00:00:00')"
      ]
     },
     "execution_count": 142,
     "metadata": {},
     "output_type": "execute_result"
    }
   ],
   "source": [
    "# 生成一个指定的时间，芬兰赫尔辛基时间执行夏令时\n",
    "ts = pd.Timestamp('2016-10-30 00:00:00')\n",
    "ts"
   ]
  },
  {
   "cell_type": "code",
   "execution_count": 127,
   "metadata": {},
   "outputs": [
    {
     "data": {
      "text/plain": [
       "'Friday'"
      ]
     },
     "execution_count": 127,
     "metadata": {},
     "output_type": "execute_result"
    }
   ],
   "source": [
    "friday = pd.Timestamp('2018-01-05')\n",
    "friday.day_name()"
   ]
  },
  {
   "cell_type": "code",
   "execution_count": 128,
   "metadata": {},
   "outputs": [
    {
     "data": {
      "text/plain": [
       "Timestamp('2018-01-09 00:00:00')"
      ]
     },
     "execution_count": 128,
     "metadata": {},
     "output_type": "execute_result"
    }
   ],
   "source": [
    "# 增加两个工作日，从周五到周二\n",
    "two_business_days = 2 * pd.offsets.BDay()\n",
    "two_business_days.apply(friday)"
   ]
  },
  {
   "cell_type": "code",
   "execution_count": 130,
   "metadata": {},
   "outputs": [
    {
     "data": {
      "text/plain": [
       "Timestamp('2018-01-09 00:00:00')"
      ]
     },
     "execution_count": 130,
     "metadata": {},
     "output_type": "execute_result"
    }
   ],
   "source": [
    "friday + two_business_days"
   ]
  },
  {
   "cell_type": "code",
   "execution_count": 131,
   "metadata": {},
   "outputs": [
    {
     "data": {
      "text/plain": [
       "'Tuesday'"
      ]
     },
     "execution_count": 131,
     "metadata": {},
     "output_type": "execute_result"
    }
   ],
   "source": [
    "(friday + two_businbess_days).day_name()"
   ]
  },
  {
   "cell_type": "markdown",
   "metadata": {},
   "source": [
    "#### 增减一段时间\n",
    "DateOffset的可选参数包括years/months/weeks/days/hours/minutes/seconds  \n",
    "所有的日期偏移对象都在 pandas.tseries.offsets 下，其中 pandas.tseries.offsets.DateOffset 是标准的日期范围时间偏移类型，用于日期范围的标准日期增量类型。它默认是一个日历日。"
   ]
  },
  {
   "cell_type": "code",
   "execution_count": 132,
   "metadata": {},
   "outputs": [
    {
     "data": {
      "text/plain": [
       "Timestamp('2017-04-01 09:10:11')"
      ]
     },
     "execution_count": 132,
     "metadata": {},
     "output_type": "execute_result"
    }
   ],
   "source": [
    "ts = pd.Timestamp('2017-01-01 09:10:11')\n",
    "ts + pd.DateOffset(months=3)"
   ]
  },
  {
   "cell_type": "code",
   "execution_count": 133,
   "metadata": {},
   "outputs": [
    {
     "data": {
      "text/plain": [
       "Timestamp('2017-01-01 11:10:11')"
      ]
     },
     "execution_count": 133,
     "metadata": {},
     "output_type": "execute_result"
    }
   ],
   "source": [
    "ts + pd.DateOffset(hours=2)"
   ]
  },
  {
   "cell_type": "code",
   "execution_count": 134,
   "metadata": {},
   "outputs": [
    {
     "data": {
      "text/plain": [
       "Timestamp('2017-01-02 09:10:11')"
      ]
     },
     "execution_count": 134,
     "metadata": {},
     "output_type": "execute_result"
    }
   ],
   "source": [
    "ts + pd.DateOffset()"
   ]
  },
  {
   "cell_type": "markdown",
   "metadata": {},
   "source": [
    "#### 各类常用offset对象\n",
    "\n",
    "| freq   | D/B             | W    | (B)M/(B)Q/(B)Y                       | (B)MS/(B)QS/(B)YS                          | H    | T    | S    | C    |\n",
    "| ------ | --------------- | ---- | ------------------------------------ | ------------------------------------------ | ---- | ---- | ---- | ---- |\n",
    "| offset | DateOffset/BDay | Week | (B)MonthEnd/(B)QuarterEnd/(B)YearEnd | (B)MonthBegin/(B)QuarterBegin/(B)YearBegin | Hour | Min  |      |      |"
   ]
  },
  {
   "cell_type": "code",
   "execution_count": 145,
   "metadata": {},
   "outputs": [
    {
     "data": {
      "text/plain": [
       "Timestamp('2020-01-15 00:00:00')"
      ]
     },
     "execution_count": 145,
     "metadata": {},
     "output_type": "execute_result"
    }
   ],
   "source": [
    "pd.Timestamp('2020-01-01') + pd.offsets.Week(2)"
   ]
  },
  {
   "cell_type": "code",
   "execution_count": 146,
   "metadata": {},
   "outputs": [
    {
     "data": {
      "text/plain": [
       "Timestamp('2020-03-02 00:00:00')"
      ]
     },
     "execution_count": 146,
     "metadata": {},
     "output_type": "execute_result"
    }
   ],
   "source": [
    "pd.Timestamp('2020-01-01') + pd.offsets.BQuarterBegin(1)"
   ]
  },
  {
   "cell_type": "markdown",
   "metadata": {},
   "source": [
    "#### 频率字符串\n",
    "DateOffset 基本都支持频率字符串或偏移别名，传入 freq 参数。以下都是时间偏移的子类、子对象，都支持时间偏移的相关操作。有效的日期偏移及频率字符串有：\n",
    "\n",
    "| 日期偏移对象                             | 频率字符串    | 说明                                       |\n",
    "| ---------------------------------------- | ------------- | ------------------------------------------ |\n",
    "| DateOffset                               | 无            | 通用偏移类，默认一个日历日                 |\n",
    "| BDay 或 BusinessDay                      | 'B'           | 工作日                                     |\n",
    "| CDay 或 CustomBusinessDay                | 'C'           | 自定义工作日                               |\n",
    "| Week                                     | 'W'           | 一周，可选周内固定某日                     |\n",
    "| WeekOfMonth                              | 'WOM'         | 每月第几周的第几天                         |\n",
    "| LastWeekOfMonth                          | 'LWOM'        | 每月最后一周的第几天                       |\n",
    "| MonthEnd                                 | 'M'           | 日历日月末                                 |\n",
    "| MonthBegin                               | 'MS'          | 日历日月初                                 |\n",
    "| BMonthEnd 或 BusinessMonthEnd            | 'BM'          | 工作日月末                                 |\n",
    "| BMonthBegin 或 BusinessMonthBegin        | 'BMS'         | 工作日月初                                 |\n",
    "| CBMonthEnd 或 CustomBusinessMonthEnd     | 'CBM'         | 自定义工作日月末                           |\n",
    "| CBMonthBegin 或 CustomBusinessMonthBegin | 'CBMS'        | 自定义工作日月初                           |\n",
    "| SemiMonthEnd                             | 'SM'          | 某月第 15 天（或其它半数日期）与日历日月末 |\n",
    "| SemiMonthBegin                           | 'SMS'         | 日历日月初与第 15 天（或其它半数日期）     |\n",
    "| QuarterEnd                               | 'Q'           | 日历日季末                                 |\n",
    "| QuarterBegin                             | 'QS'          | 日历日季初                                 |\n",
    "| BQuarterEnd                              | 'BQ           | 工作日季末                                 |\n",
    "| BQuarterBegin                            | 'BQS'         | 工作日季初                                 |\n",
    "| FY5253Quarter                            | 'REQ'         | 零售季，又名 52-53 周                      |\n",
    "| YearEnd                                  | 'A'           | 日历日年末                                 |\n",
    "| YearBegin                                | 'AS' 或 'BYS' | 日历日年初                                 |\n",
    "| BYearEnd                                 | 'BA'          | 工作日年末                                 |\n",
    "| BYearBegin                               | 'BAS'         | 工作日年初                                 |\n",
    "| FY5253                                   | 'RE'          | 零售年（又名 52-53 周）                    |\n",
    "| Easter                                   | 无            | 复活节假日                                 |\n",
    "| BusinessHour                             | 'BH'          | 工作小时                                   |\n",
    "| CustomBusinessHour                       | 'CBH'         | 自定义工作小时                             |\n",
    "| Day                                      | 'D'           | 一天                                       |\n",
    "| Hour                                     | 'H'           | 一小时                                     |\n",
    "| Minute                                   | 'T' 或 'min'  | 一分钟                                     |\n",
    "| Second                                   | 'S'           | 一秒                                       |\n",
    "| Milli                                    | 'L' 或 'ms'   | 一毫秒                                     |\n",
    "| Micro                                    | 'U' 或 'us'   | 一微秒                                     |\n",
    "| Nano                                     | 'N'           | 一纳秒                                     |"
   ]
  },
  {
   "cell_type": "markdown",
   "metadata": {},
   "source": [
    "#### 移动偏移\n",
    "Offset 支持向前或向后偏移：\n",
    "```python\n",
    "ts = pd.Timestamp('2020-06-06 00:00:00')\n",
    "ts.day_name()\n",
    "# 'Saturday'\n",
    "\n",
    "# 定义一个工作小时偏移，默认是周一到周五 9-17 点，我们从 10点开始\n",
    "offset = pd.offsets.BusinessHour(start='10:00')\n",
    "\n",
    "# 向前偏移一个工作小时，是一个周一，跳过了周日\n",
    "offset.rollforward(ts)\n",
    "# Timestamp('2020-06-08 10:00:00')\n",
    "\n",
    "# 向前偏移至最近的工作日，小时也会增加\n",
    "ts + offset\n",
    "# Timestamp('2020-06-08 11:00:00')\n",
    "\n",
    "# 向后偏移，会在周五下班前的一个小时\n",
    "offset.rollback(ts)\n",
    "# Timestamp('2020-06-05 17:00:00')\n",
    "\n",
    "ts - pd.offsets.Day(1) # 昨日\n",
    "ts - pd.offsets.Day(2) # 前日\n",
    "ts - pd.offsets.Week(weekday=0) - pd.offsets.Day(14) # 上周一\n",
    "ts - pd.offsets.MonthEnd() - pd.offsets.MonthBegin() # 上月一日\n",
    "时间偏移操作会保留小时和分钟，有时候我们不在意具体的时间只开始从哪天开始，可以使用 normalize() 进行标准化到午夜 0 点：\n",
    "\n",
    "offset.rollback(ts).normalize()\n",
    "# Timestamp('2020-06-05 00:00:00')\n",
    "```"
   ]
  },
  {
   "cell_type": "markdown",
   "metadata": {},
   "source": [
    "#### 应用偏移\n",
    "```python\n",
    "apply 可以使用偏移对象应用到一个时间上：\n",
    "\n",
    "ts = pd.Timestamp('2020-06-01 09:00')\n",
    "day = pd.offsets.Day() # 定义偏移对象\n",
    "day.apply(ts) # 偏移对象应用到时间上\n",
    "# Timestamp('2020-06-02 09:00:00')\n",
    "day.apply(ts).normalize() # 标准化/归一化\n",
    "# Timestamp('2020-06-02 00:00:00')\n",
    "\n",
    "ts = pd.Timestamp('2020-06-01 22:00')\n",
    "hour = pd.offsets.Hour()\n",
    "hour.apply(ts)\n",
    "# Timestamp('2020-06-01 23:00:00')\n",
    "\n",
    "hour.apply(ts).normalize()\n",
    "# Timestamp('2020-06-01 00:00:00')\n",
    "\n",
    "hour.apply(pd.Timestamp(\"2014-01-01 23:30\")).normalize()\n",
    "# Timestamp('2014-01-02 00:00:00')\n",
    "```"
   ]
  },
  {
   "cell_type": "markdown",
   "metadata": {},
   "source": [
    "#### 偏移参数\n",
    "上边我们偏移时只偏移了偏移对象的一个单位，可以传入参数支持多个单位和对象中的其他单位：\n",
    "```python\n",
    "import datetime\n",
    "d = datetime.datetime(2020, 6, 1, 9, 0)\n",
    "# datetime.datetime(2020, 6, 1, 9, 0)\n",
    "\n",
    "d + pd.offsets.Week() # 偏移一周\n",
    "# Timestamp('2020-06-08 09:00:00')\n",
    "\n",
    "d + pd.offsets.Week(weekday=4) # 偏移4个周中的日期\n",
    "# Timestamp('2020-06-05 09:00:00')\n",
    "\n",
    "# 取一周第几天\n",
    "(d + pd.offsets.Week(weekday=4)).weekday()\n",
    "# 4\n",
    "\n",
    "d - pd.offsets.Week() # 向后一周\n",
    "# Timestamp('2020-05-25 09:00:00')\n",
    "# 参数也支持归一标准化 normalize:\n",
    "\n",
    "d + pd.offsets.Week(normalize=True)\n",
    "# Timestamp('2020-06-08 00:00:00')\n",
    "\n",
    "d - pd.offsets.Week(normalize=True)\n",
    "# Timestamp('2020-05-25 00:00:00')\n",
    "# 再比如，YearEnd 支持 month 指定月份：\n",
    "\n",
    "d + pd.offsets.YearEnd()\n",
    "# Timestamp('2020-12-31 09:00:00')\n",
    "\n",
    "d + pd.offsets.YearEnd(month=6)\n",
    "# Timestamp('2020-06-30 09:00:00')\n",
    "# 不同的偏移对象支持不同的参数，可以通过代码编辑器的代码提示进行查询。\n",
    "```"
   ]
  },
  {
   "cell_type": "markdown",
   "metadata": {},
   "source": [
    "#### 相关查询\n",
    "当使用日期作为索引的DataFrame时，此函数可以基于日期偏移量选择最后几行：\n",
    "```python\n",
    "i = pd.date_range('2018-04-09', periods=4, freq='2D')\n",
    "ts = pd.DataFrame({'A': [1, 2, 3, 4]}, index=i)\n",
    "ts\n",
    "'''\n",
    "            A\n",
    "2018-04-09  1\n",
    "2018-04-11  2\n",
    "2018-04-13  3\n",
    "2018-04-15  4\n",
    "'''\n",
    "\n",
    "# 取最后三天, 请注意，返回的是最近3天的数据\n",
    "# 而不是数据集中最近3天的数据，因此未返回2018-04-11的数据\n",
    "ts.last('3D')\n",
    "'''\n",
    "            A\n",
    "2018-04-13  3\n",
    "2018-04-15  4\n",
    "'''\n",
    "\n",
    "# 前三天\n",
    "ts.first('3D')\n",
    "'''\n",
    "            A\n",
    "2018-04-09  1\n",
    "2018-04-11  2\n",
    "'''\n",
    "\n",
    "# 指定时间\n",
    "ts.at_time('12:00')\n",
    "'''\n",
    "                     A\n",
    "2018-04-09 12:00:00  2\n",
    "2018-04-10 12:00:00  4\n",
    "'''\n",
    "\n",
    "ts.between_time('0:15', '0:45')\n",
    "'''\n",
    "                     A\n",
    "2018-04-10 00:20:00  2\n",
    "2018-04-11 00:40:00  3\n",
    "'''\n",
    "\n",
    "ts.between_time('0:45', '0:15')\n",
    "'''\n",
    "                     A\n",
    "2018-04-09 00:00:00  1\n",
    "2018-04-12 01:00:00  4\n",
    "'''\n",
    "```"
   ]
  },
  {
   "cell_type": "markdown",
   "metadata": {},
   "source": [
    "#### 序列与时间偏移操作"
   ]
  },
  {
   "cell_type": "code",
   "execution_count": 135,
   "metadata": {},
   "outputs": [
    {
     "data": {
      "text/plain": [
       "DatetimeIndex(['2012-01-01', '2012-01-02', '2012-01-03'], dtype='datetime64[ns]', freq='D')"
      ]
     },
     "execution_count": 135,
     "metadata": {},
     "output_type": "execute_result"
    }
   ],
   "source": [
    "rng = pd.date_range('2012-01-01', '2012-01-03')\n",
    "s = pd.Series(rng)\n",
    "rng"
   ]
  },
  {
   "cell_type": "code",
   "execution_count": 136,
   "metadata": {},
   "outputs": [
    {
     "data": {
      "text/plain": [
       "DatetimeIndex(['2012-03-01', '2012-03-02', '2012-03-03'], dtype='datetime64[ns]', freq=None)"
      ]
     },
     "execution_count": 136,
     "metadata": {},
     "output_type": "execute_result"
    }
   ],
   "source": [
    "rng + pd.DateOffset(months=2)"
   ]
  },
  {
   "cell_type": "code",
   "execution_count": 137,
   "metadata": {},
   "outputs": [
    {
     "data": {
      "text/plain": [
       "0   2012-03-01\n",
       "1   2012-03-02\n",
       "2   2012-03-03\n",
       "dtype: datetime64[ns]"
      ]
     },
     "execution_count": 137,
     "metadata": {},
     "output_type": "execute_result"
    }
   ],
   "source": [
    "s + pd.DateOffset(months=2)"
   ]
  },
  {
   "cell_type": "code",
   "execution_count": 138,
   "metadata": {},
   "outputs": [
    {
     "data": {
      "text/plain": [
       "0   2011-11-01\n",
       "1   2011-11-02\n",
       "2   2011-11-03\n",
       "dtype: datetime64[ns]"
      ]
     },
     "execution_count": 138,
     "metadata": {},
     "output_type": "execute_result"
    }
   ],
   "source": [
    "s - pd.DateOffset(months=2)"
   ]
  },
  {
   "cell_type": "markdown",
   "metadata": {},
   "source": [
    "#### 与时长的操作\n",
    "时长也支持与时间偏移进行操作，而且和时长与时长的操作一样："
   ]
  },
  {
   "cell_type": "code",
   "execution_count": 139,
   "metadata": {},
   "outputs": [
    {
     "data": {
      "text/plain": [
       "0   2011-12-30\n",
       "1   2011-12-31\n",
       "2   2012-01-01\n",
       "dtype: datetime64[ns]"
      ]
     },
     "execution_count": 139,
     "metadata": {},
     "output_type": "execute_result"
    }
   ],
   "source": [
    "s - pd.offsets.Day(2)"
   ]
  },
  {
   "cell_type": "code",
   "execution_count": 140,
   "metadata": {},
   "outputs": [
    {
     "data": {
      "text/plain": [
       "0   3 days\n",
       "1   3 days\n",
       "2   3 days\n",
       "dtype: timedelta64[ns]"
      ]
     },
     "execution_count": 140,
     "metadata": {},
     "output_type": "execute_result"
    }
   ],
   "source": [
    "td = s - pd.Series(pd.date_range('2011-12-29', '2011-12-31'))\n",
    "td"
   ]
  },
  {
   "cell_type": "code",
   "execution_count": 141,
   "metadata": {},
   "outputs": [
    {
     "data": {
      "text/plain": [
       "0   3 days 00:15:00\n",
       "1   3 days 00:15:00\n",
       "2   3 days 00:15:00\n",
       "dtype: timedelta64[ns]"
      ]
     },
     "execution_count": 141,
     "metadata": {},
     "output_type": "execute_result"
    }
   ],
   "source": [
    "td + pd.offsets.Minute(15)"
   ]
  },
  {
   "cell_type": "markdown",
   "metadata": {},
   "source": [
    "需要注意的是，有些时间偏移对象不支持以上操作，还有是就算支持性能会很差，执行很慢，会及抛出性能警告。"
   ]
  },
  {
   "cell_type": "markdown",
   "metadata": {},
   "source": [
    "## 第三部分：时间序列索引\n",
    "在时间序列数据中，索引经常是时间类型，我们对数据的操作要经常与时间类型索引打交道，本文将介绍如何查询操作时间类型索引。"
   ]
  },
  {
   "cell_type": "markdown",
   "metadata": {},
   "source": [
    "### 时间索引切片\n",
    "DatetimeIndex 作为时间索引，同样也支持数据切片："
   ]
  },
  {
   "cell_type": "code",
   "execution_count": 80,
   "metadata": {},
   "outputs": [
    {
     "data": {
      "text/plain": [
       "2021-01-29    0.494045\n",
       "2021-02-26    0.662493\n",
       "2021-03-31    2.131822\n",
       "2021-04-30   -0.826927\n",
       "2021-05-31   -0.822046\n",
       "2021-06-30   -1.207667\n",
       "2021-07-30    0.993799\n",
       "2021-08-31   -0.711776\n",
       "2021-09-30   -0.617836\n",
       "2021-10-29    0.130349\n",
       "2021-11-30   -0.473077\n",
       "Freq: BM, dtype: float64"
      ]
     },
     "execution_count": 80,
     "metadata": {},
     "output_type": "execute_result"
    }
   ],
   "source": [
    "rng = pd.date_range('1/1/2021', '12/1/2021', freq='BM')\n",
    "ts = pd.Series(np.random.randn(len(rng)), index=rng)\n",
    "ts"
   ]
  },
  {
   "cell_type": "code",
   "execution_count": 81,
   "metadata": {},
   "outputs": [
    {
     "data": {
      "text/plain": [
       "DatetimeIndex(['2021-03-31', '2021-04-30'], dtype='datetime64[ns]', freq='BM')"
      ]
     },
     "execution_count": 81,
     "metadata": {},
     "output_type": "execute_result"
    }
   ],
   "source": [
    "ts[2:4].index"
   ]
  },
  {
   "cell_type": "code",
   "execution_count": 82,
   "metadata": {},
   "outputs": [
    {
     "data": {
      "text/plain": [
       "DatetimeIndex(['2021-01-29', '2021-03-31', '2021-05-31', '2021-07-30',\n",
       "               '2021-09-30', '2021-11-30'],\n",
       "              dtype='datetime64[ns]', freq='2BM')"
      ]
     },
     "execution_count": 82,
     "metadata": {},
     "output_type": "execute_result"
    }
   ],
   "source": [
    "ts[::2].index"
   ]
  },
  {
   "cell_type": "markdown",
   "metadata": {},
   "source": [
    "### 索引访问\n",
    "以下是几种索引的访问方法："
   ]
  },
  {
   "cell_type": "code",
   "execution_count": 84,
   "metadata": {},
   "outputs": [
    {
     "data": {
      "text/plain": [
       "0.49404517681343435"
      ]
     },
     "execution_count": 84,
     "metadata": {},
     "output_type": "execute_result"
    }
   ],
   "source": [
    "ts['1/29/2021']"
   ]
  },
  {
   "cell_type": "code",
   "execution_count": 85,
   "metadata": {},
   "outputs": [
    {
     "data": {
      "text/plain": [
       "2021-09-30   -0.617836\n",
       "2021-10-29    0.130349\n",
       "2021-11-30   -0.473077\n",
       "Freq: BM, dtype: float64"
      ]
     },
     "execution_count": 85,
     "metadata": {},
     "output_type": "execute_result"
    }
   ],
   "source": [
    "ts[datetime.datetime(2021, 9, 30):]"
   ]
  },
  {
   "cell_type": "code",
   "execution_count": 86,
   "metadata": {},
   "outputs": [
    {
     "data": {
      "text/plain": [
       "2021-05-31   -0.822046\n",
       "2021-06-30   -1.207667\n",
       "2021-07-30    0.993799\n",
       "2021-08-31   -0.711776\n",
       "Freq: BM, dtype: float64"
      ]
     },
     "execution_count": 86,
     "metadata": {},
     "output_type": "execute_result"
    }
   ],
   "source": [
    "ts['5/31/2021':'8/31/2021']"
   ]
  },
  {
   "cell_type": "markdown",
   "metadata": {},
   "source": [
    "也可以使用部分字符查询一定范围的数据\n",
    "```python\n",
    "ts['2021'] # 查询整个2021年的\n",
    "ts['2021-6'] # 查询 2021年6月的\n",
    "ts['2021-6':'2021-10'] # 6月到10月的\n",
    "dft['2013-1':'2013-2-28 00:00:00'] # 精确时间\n",
    "dft['2013-1-15':'2013-1-15 12:30:00']\n",
    "dft2.loc['2013-01-05']\n",
    "# 索引选择器\n",
    "idx = pd.IndexSlice\n",
    "dft2.loc[idx[:, '2013-01-05'], :]\n",
    "# 带时区，原数据时区可能不是这个\n",
    "df['2019-01-01 12:00:00+04:00':'2019-01-01 13:00:00+04:00']\n",
    "```"
   ]
  },
  {
   "cell_type": "markdown",
   "metadata": {},
   "source": [
    "### 频率的分辨率（粒度）\n",
    "在之前的例子中我们看到频率有工作日的，有自然日的，但它们都是以日为单位的，所以日就是他们有的相同的分辨率，也就是最小粒度。可以使用 x.resolution 查看频率的分辨率。"
   ]
  },
  {
   "cell_type": "code",
   "execution_count": 88,
   "metadata": {},
   "outputs": [
    {
     "data": {
      "text/plain": [
       "'minute'"
      ]
     },
     "execution_count": 88,
     "metadata": {},
     "output_type": "execute_result"
    }
   ],
   "source": [
    "series_minute = pd.Series([1, 2, 3],\n",
    "                          pd.DatetimeIndex(['2011-12-31 23:59:00',\n",
    "                                            '2012-01-01 00:00:00',\n",
    "                                            '2012-01-01 00:02:00']))\n",
    "series_minute.index.resolution"
   ]
  },
  {
   "cell_type": "code",
   "execution_count": 89,
   "metadata": {},
   "outputs": [
    {
     "data": {
      "text/plain": [
       "2011-12-31 23:59:00    1\n",
       "dtype: int64"
      ]
     },
     "execution_count": 89,
     "metadata": {},
     "output_type": "execute_result"
    }
   ],
   "source": [
    "# 按小时取出\n",
    "series_minute['2011-12-31 23']"
   ]
  },
  {
   "cell_type": "code",
   "execution_count": 90,
   "metadata": {},
   "outputs": [
    {
     "data": {
      "text/plain": [
       "1"
      ]
     },
     "execution_count": 90,
     "metadata": {},
     "output_type": "execute_result"
    }
   ],
   "source": [
    "series_minute['2011-12-31 23:59']"
   ]
  },
  {
   "cell_type": "code",
   "execution_count": 91,
   "metadata": {},
   "outputs": [
    {
     "data": {
      "text/plain": [
       "1"
      ]
     },
     "execution_count": 91,
     "metadata": {},
     "output_type": "execute_result"
    }
   ],
   "source": [
    "series_minute['2011-12-31 23:59:00']"
   ]
  },
  {
   "cell_type": "code",
   "execution_count": 93,
   "metadata": {},
   "outputs": [
    {
     "data": {
      "text/plain": [
       "2011-12-31 23:59:59    1\n",
       "2012-01-01 00:00:00    2\n",
       "2012-01-01 00:00:01    3\n",
       "dtype: int64"
      ]
     },
     "execution_count": 93,
     "metadata": {},
     "output_type": "execute_result"
    }
   ],
   "source": [
    "series_second = pd.Series([1, 2, 3],\n",
    "                          pd.DatetimeIndex(['2011-12-31 23:59:59',\n",
    "                                            '2012-01-01 00:00:00',\n",
    "                                            '2012-01-01 00:00:01']))\n",
    "series_second"
   ]
  },
  {
   "cell_type": "code",
   "execution_count": 94,
   "metadata": {},
   "outputs": [
    {
     "data": {
      "text/plain": [
       "'second'"
      ]
     },
     "execution_count": 94,
     "metadata": {},
     "output_type": "execute_result"
    }
   ],
   "source": [
    "# 最小粒度为秒\n",
    "series_second.index.resolution"
   ]
  },
  {
   "cell_type": "code",
   "execution_count": 95,
   "metadata": {},
   "outputs": [
    {
     "data": {
      "text/plain": [
       "2011-12-31 23:59:59    1\n",
       "dtype: int64"
      ]
     },
     "execution_count": 95,
     "metadata": {},
     "output_type": "execute_result"
    }
   ],
   "source": [
    "series_second['2011-12-31 23:59']"
   ]
  },
  {
   "cell_type": "markdown",
   "metadata": {},
   "source": [
    "### 截断索引\n",
    "df.truncate() 作为一个专门对索引的截取工具，可以很好地应用在时序索引上："
   ]
  },
  {
   "cell_type": "code",
   "execution_count": 96,
   "metadata": {},
   "outputs": [
    {
     "data": {
      "text/plain": [
       "2011-11-06   -0.690541\n",
       "2011-11-13    0.598374\n",
       "2011-11-20    1.781615\n",
       "2011-11-27   -0.950292\n",
       "Freq: W-SUN, dtype: float64"
      ]
     },
     "execution_count": 96,
     "metadata": {},
     "output_type": "execute_result"
    }
   ],
   "source": [
    "rng2 = pd.date_range('2011-01-01', '2012-01-01', freq='W')\n",
    "ts2 = pd.Series(np.random.randn(len(rng2)), index=rng2)\n",
    "ts2.truncate(before='2011-11', after='2011-12')"
   ]
  },
  {
   "cell_type": "code",
   "execution_count": 97,
   "metadata": {},
   "outputs": [
    {
     "data": {
      "text/plain": [
       "2011-11-06   -0.690541\n",
       "2011-11-13    0.598374\n",
       "2011-11-20    1.781615\n",
       "2011-11-27   -0.950292\n",
       "2011-12-04    0.220030\n",
       "2011-12-11    0.519082\n",
       "2011-12-18   -0.974609\n",
       "2011-12-25    0.413335\n",
       "Freq: W-SUN, dtype: float64"
      ]
     },
     "execution_count": 97,
     "metadata": {},
     "output_type": "execute_result"
    }
   ],
   "source": [
    "# 对比以上操作的不同\n",
    "ts2['2011-11':'2011-12']"
   ]
  },
  {
   "cell_type": "code",
   "execution_count": 98,
   "metadata": {},
   "outputs": [
    {
     "data": {
      "text/plain": [
       "DatetimeIndex(['2011-01-02', '2011-01-16', '2011-02-13'], dtype='datetime64[ns]', freq=None)"
      ]
     },
     "execution_count": 98,
     "metadata": {},
     "output_type": "execute_result"
    }
   ],
   "source": [
    "# 也可以通过自然索引来取\n",
    "ts2[[0, 2, 6]].index"
   ]
  },
  {
   "cell_type": "code",
   "execution_count": 99,
   "metadata": {},
   "outputs": [
    {
     "data": {
      "text/html": [
       "<div>\n",
       "<style scoped>\n",
       "    .dataframe tbody tr th:only-of-type {\n",
       "        vertical-align: middle;\n",
       "    }\n",
       "\n",
       "    .dataframe tbody tr th {\n",
       "        vertical-align: top;\n",
       "    }\n",
       "\n",
       "    .dataframe thead th {\n",
       "        text-align: right;\n",
       "    }\n",
       "</style>\n",
       "<table border=\"1\" class=\"dataframe\">\n",
       "  <thead>\n",
       "    <tr style=\"text-align: right;\">\n",
       "      <th></th>\n",
       "      <th>A</th>\n",
       "      <th>B</th>\n",
       "      <th>C</th>\n",
       "    </tr>\n",
       "  </thead>\n",
       "  <tbody>\n",
       "    <tr>\n",
       "      <th>1</th>\n",
       "      <td>a</td>\n",
       "      <td>f</td>\n",
       "      <td>k</td>\n",
       "    </tr>\n",
       "    <tr>\n",
       "      <th>2</th>\n",
       "      <td>b</td>\n",
       "      <td>g</td>\n",
       "      <td>l</td>\n",
       "    </tr>\n",
       "    <tr>\n",
       "      <th>3</th>\n",
       "      <td>c</td>\n",
       "      <td>h</td>\n",
       "      <td>m</td>\n",
       "    </tr>\n",
       "    <tr>\n",
       "      <th>4</th>\n",
       "      <td>d</td>\n",
       "      <td>i</td>\n",
       "      <td>n</td>\n",
       "    </tr>\n",
       "    <tr>\n",
       "      <th>5</th>\n",
       "      <td>e</td>\n",
       "      <td>j</td>\n",
       "      <td>o</td>\n",
       "    </tr>\n",
       "  </tbody>\n",
       "</table>\n",
       "</div>"
      ],
      "text/plain": [
       "   A  B  C\n",
       "1  a  f  k\n",
       "2  b  g  l\n",
       "3  c  h  m\n",
       "4  d  i  n\n",
       "5  e  j  o"
      ]
     },
     "execution_count": 99,
     "metadata": {},
     "output_type": "execute_result"
    }
   ],
   "source": [
    "df = pd.DataFrame({'A': ['a', 'b', 'c', 'd', 'e'],\n",
    "                   'B': ['f', 'g', 'h', 'i', 'j'],\n",
    "                   'C': ['k', 'l', 'm', 'n', 'o']},\n",
    "                  index=[1, 2, 3, 4, 5])\n",
    "df"
   ]
  },
  {
   "cell_type": "code",
   "execution_count": 100,
   "metadata": {},
   "outputs": [
    {
     "data": {
      "text/html": [
       "<div>\n",
       "<style scoped>\n",
       "    .dataframe tbody tr th:only-of-type {\n",
       "        vertical-align: middle;\n",
       "    }\n",
       "\n",
       "    .dataframe tbody tr th {\n",
       "        vertical-align: top;\n",
       "    }\n",
       "\n",
       "    .dataframe thead th {\n",
       "        text-align: right;\n",
       "    }\n",
       "</style>\n",
       "<table border=\"1\" class=\"dataframe\">\n",
       "  <thead>\n",
       "    <tr style=\"text-align: right;\">\n",
       "      <th></th>\n",
       "      <th>A</th>\n",
       "      <th>B</th>\n",
       "      <th>C</th>\n",
       "    </tr>\n",
       "  </thead>\n",
       "  <tbody>\n",
       "    <tr>\n",
       "      <th>2</th>\n",
       "      <td>b</td>\n",
       "      <td>g</td>\n",
       "      <td>l</td>\n",
       "    </tr>\n",
       "    <tr>\n",
       "      <th>3</th>\n",
       "      <td>c</td>\n",
       "      <td>h</td>\n",
       "      <td>m</td>\n",
       "    </tr>\n",
       "    <tr>\n",
       "      <th>4</th>\n",
       "      <td>d</td>\n",
       "      <td>i</td>\n",
       "      <td>n</td>\n",
       "    </tr>\n",
       "  </tbody>\n",
       "</table>\n",
       "</div>"
      ],
      "text/plain": [
       "   A  B  C\n",
       "2  b  g  l\n",
       "3  c  h  m\n",
       "4  d  i  n"
      ]
     },
     "execution_count": 100,
     "metadata": {},
     "output_type": "execute_result"
    }
   ],
   "source": [
    "df.truncate(before=2, after=4)"
   ]
  },
  {
   "cell_type": "code",
   "execution_count": 101,
   "metadata": {},
   "outputs": [
    {
     "data": {
      "text/html": [
       "<div>\n",
       "<style scoped>\n",
       "    .dataframe tbody tr th:only-of-type {\n",
       "        vertical-align: middle;\n",
       "    }\n",
       "\n",
       "    .dataframe tbody tr th {\n",
       "        vertical-align: top;\n",
       "    }\n",
       "\n",
       "    .dataframe thead th {\n",
       "        text-align: right;\n",
       "    }\n",
       "</style>\n",
       "<table border=\"1\" class=\"dataframe\">\n",
       "  <thead>\n",
       "    <tr style=\"text-align: right;\">\n",
       "      <th></th>\n",
       "      <th>A</th>\n",
       "      <th>B</th>\n",
       "    </tr>\n",
       "  </thead>\n",
       "  <tbody>\n",
       "    <tr>\n",
       "      <th>1</th>\n",
       "      <td>a</td>\n",
       "      <td>f</td>\n",
       "    </tr>\n",
       "    <tr>\n",
       "      <th>2</th>\n",
       "      <td>b</td>\n",
       "      <td>g</td>\n",
       "    </tr>\n",
       "    <tr>\n",
       "      <th>3</th>\n",
       "      <td>c</td>\n",
       "      <td>h</td>\n",
       "    </tr>\n",
       "    <tr>\n",
       "      <th>4</th>\n",
       "      <td>d</td>\n",
       "      <td>i</td>\n",
       "    </tr>\n",
       "    <tr>\n",
       "      <th>5</th>\n",
       "      <td>e</td>\n",
       "      <td>j</td>\n",
       "    </tr>\n",
       "  </tbody>\n",
       "</table>\n",
       "</div>"
      ],
      "text/plain": [
       "   A  B\n",
       "1  a  f\n",
       "2  b  g\n",
       "3  c  h\n",
       "4  d  i\n",
       "5  e  j"
      ]
     },
     "execution_count": 101,
     "metadata": {},
     "output_type": "execute_result"
    }
   ],
   "source": [
    "# 按列取\n",
    "df.truncate(before=\"A\", after=\"B\", axis=\"columns\")"
   ]
  },
  {
   "cell_type": "code",
   "execution_count": 102,
   "metadata": {},
   "outputs": [
    {
     "data": {
      "text/plain": [
       "2    b\n",
       "3    c\n",
       "4    d\n",
       "Name: A, dtype: object"
      ]
     },
     "execution_count": 102,
     "metadata": {},
     "output_type": "execute_result"
    }
   ],
   "source": [
    "df['A'].truncate(before=2, after=4)"
   ]
  },
  {
   "cell_type": "markdown",
   "metadata": {},
   "source": [
    "截取时间的例子："
   ]
  },
  {
   "cell_type": "code",
   "execution_count": 103,
   "metadata": {},
   "outputs": [
    {
     "data": {
      "text/html": [
       "<div>\n",
       "<style scoped>\n",
       "    .dataframe tbody tr th:only-of-type {\n",
       "        vertical-align: middle;\n",
       "    }\n",
       "\n",
       "    .dataframe tbody tr th {\n",
       "        vertical-align: top;\n",
       "    }\n",
       "\n",
       "    .dataframe thead th {\n",
       "        text-align: right;\n",
       "    }\n",
       "</style>\n",
       "<table border=\"1\" class=\"dataframe\">\n",
       "  <thead>\n",
       "    <tr style=\"text-align: right;\">\n",
       "      <th></th>\n",
       "      <th>A</th>\n",
       "    </tr>\n",
       "  </thead>\n",
       "  <tbody>\n",
       "    <tr>\n",
       "      <th>2016-01-31 23:59:56</th>\n",
       "      <td>1</td>\n",
       "    </tr>\n",
       "    <tr>\n",
       "      <th>2016-01-31 23:59:57</th>\n",
       "      <td>1</td>\n",
       "    </tr>\n",
       "    <tr>\n",
       "      <th>2016-01-31 23:59:58</th>\n",
       "      <td>1</td>\n",
       "    </tr>\n",
       "    <tr>\n",
       "      <th>2016-01-31 23:59:59</th>\n",
       "      <td>1</td>\n",
       "    </tr>\n",
       "    <tr>\n",
       "      <th>2016-02-01 00:00:00</th>\n",
       "      <td>1</td>\n",
       "    </tr>\n",
       "  </tbody>\n",
       "</table>\n",
       "</div>"
      ],
      "text/plain": [
       "                     A\n",
       "2016-01-31 23:59:56  1\n",
       "2016-01-31 23:59:57  1\n",
       "2016-01-31 23:59:58  1\n",
       "2016-01-31 23:59:59  1\n",
       "2016-02-01 00:00:00  1"
      ]
     },
     "execution_count": 103,
     "metadata": {},
     "output_type": "execute_result"
    }
   ],
   "source": [
    "dates = pd.date_range('2016-01-01', '2016-02-01', freq='s')\n",
    "df = pd.DataFrame(index=dates, data={'A': 1})\n",
    "df.tail()"
   ]
  },
  {
   "cell_type": "code",
   "execution_count": 104,
   "metadata": {},
   "outputs": [
    {
     "data": {
      "text/html": [
       "<div>\n",
       "<style scoped>\n",
       "    .dataframe tbody tr th:only-of-type {\n",
       "        vertical-align: middle;\n",
       "    }\n",
       "\n",
       "    .dataframe tbody tr th {\n",
       "        vertical-align: top;\n",
       "    }\n",
       "\n",
       "    .dataframe thead th {\n",
       "        text-align: right;\n",
       "    }\n",
       "</style>\n",
       "<table border=\"1\" class=\"dataframe\">\n",
       "  <thead>\n",
       "    <tr style=\"text-align: right;\">\n",
       "      <th></th>\n",
       "      <th>A</th>\n",
       "    </tr>\n",
       "  </thead>\n",
       "  <tbody>\n",
       "    <tr>\n",
       "      <th>2016-01-09 23:59:56</th>\n",
       "      <td>1</td>\n",
       "    </tr>\n",
       "    <tr>\n",
       "      <th>2016-01-09 23:59:57</th>\n",
       "      <td>1</td>\n",
       "    </tr>\n",
       "    <tr>\n",
       "      <th>2016-01-09 23:59:58</th>\n",
       "      <td>1</td>\n",
       "    </tr>\n",
       "    <tr>\n",
       "      <th>2016-01-09 23:59:59</th>\n",
       "      <td>1</td>\n",
       "    </tr>\n",
       "    <tr>\n",
       "      <th>2016-01-10 00:00:00</th>\n",
       "      <td>1</td>\n",
       "    </tr>\n",
       "  </tbody>\n",
       "</table>\n",
       "</div>"
      ],
      "text/plain": [
       "                     A\n",
       "2016-01-09 23:59:56  1\n",
       "2016-01-09 23:59:57  1\n",
       "2016-01-09 23:59:58  1\n",
       "2016-01-09 23:59:59  1\n",
       "2016-01-10 00:00:00  1"
      ]
     },
     "execution_count": 104,
     "metadata": {},
     "output_type": "execute_result"
    }
   ],
   "source": [
    "df.truncate(before=pd.Timestamp('2016-01-05'),\n",
    "            after=pd.Timestamp('2016-01-10')).tail()"
   ]
  },
  {
   "cell_type": "code",
   "execution_count": 105,
   "metadata": {},
   "outputs": [
    {
     "data": {
      "text/html": [
       "<div>\n",
       "<style scoped>\n",
       "    .dataframe tbody tr th:only-of-type {\n",
       "        vertical-align: middle;\n",
       "    }\n",
       "\n",
       "    .dataframe tbody tr th {\n",
       "        vertical-align: top;\n",
       "    }\n",
       "\n",
       "    .dataframe thead th {\n",
       "        text-align: right;\n",
       "    }\n",
       "</style>\n",
       "<table border=\"1\" class=\"dataframe\">\n",
       "  <thead>\n",
       "    <tr style=\"text-align: right;\">\n",
       "      <th></th>\n",
       "      <th>A</th>\n",
       "    </tr>\n",
       "  </thead>\n",
       "  <tbody>\n",
       "    <tr>\n",
       "      <th>2016-01-09 23:59:56</th>\n",
       "      <td>1</td>\n",
       "    </tr>\n",
       "    <tr>\n",
       "      <th>2016-01-09 23:59:57</th>\n",
       "      <td>1</td>\n",
       "    </tr>\n",
       "    <tr>\n",
       "      <th>2016-01-09 23:59:58</th>\n",
       "      <td>1</td>\n",
       "    </tr>\n",
       "    <tr>\n",
       "      <th>2016-01-09 23:59:59</th>\n",
       "      <td>1</td>\n",
       "    </tr>\n",
       "    <tr>\n",
       "      <th>2016-01-10 00:00:00</th>\n",
       "      <td>1</td>\n",
       "    </tr>\n",
       "  </tbody>\n",
       "</table>\n",
       "</div>"
      ],
      "text/plain": [
       "                     A\n",
       "2016-01-09 23:59:56  1\n",
       "2016-01-09 23:59:57  1\n",
       "2016-01-09 23:59:58  1\n",
       "2016-01-09 23:59:59  1\n",
       "2016-01-10 00:00:00  1"
      ]
     },
     "execution_count": 105,
     "metadata": {},
     "output_type": "execute_result"
    }
   ],
   "source": [
    "df.truncate('2016-01-05', '2016-01-10').tail()"
   ]
  },
  {
   "cell_type": "code",
   "execution_count": 106,
   "metadata": {},
   "outputs": [
    {
     "data": {
      "text/html": [
       "<div>\n",
       "<style scoped>\n",
       "    .dataframe tbody tr th:only-of-type {\n",
       "        vertical-align: middle;\n",
       "    }\n",
       "\n",
       "    .dataframe tbody tr th {\n",
       "        vertical-align: top;\n",
       "    }\n",
       "\n",
       "    .dataframe thead th {\n",
       "        text-align: right;\n",
       "    }\n",
       "</style>\n",
       "<table border=\"1\" class=\"dataframe\">\n",
       "  <thead>\n",
       "    <tr style=\"text-align: right;\">\n",
       "      <th></th>\n",
       "      <th>A</th>\n",
       "    </tr>\n",
       "  </thead>\n",
       "  <tbody>\n",
       "    <tr>\n",
       "      <th>2016-01-10 23:59:55</th>\n",
       "      <td>1</td>\n",
       "    </tr>\n",
       "    <tr>\n",
       "      <th>2016-01-10 23:59:56</th>\n",
       "      <td>1</td>\n",
       "    </tr>\n",
       "    <tr>\n",
       "      <th>2016-01-10 23:59:57</th>\n",
       "      <td>1</td>\n",
       "    </tr>\n",
       "    <tr>\n",
       "      <th>2016-01-10 23:59:58</th>\n",
       "      <td>1</td>\n",
       "    </tr>\n",
       "    <tr>\n",
       "      <th>2016-01-10 23:59:59</th>\n",
       "      <td>1</td>\n",
       "    </tr>\n",
       "  </tbody>\n",
       "</table>\n",
       "</div>"
      ],
      "text/plain": [
       "                     A\n",
       "2016-01-10 23:59:55  1\n",
       "2016-01-10 23:59:56  1\n",
       "2016-01-10 23:59:57  1\n",
       "2016-01-10 23:59:58  1\n",
       "2016-01-10 23:59:59  1"
      ]
     },
     "execution_count": 106,
     "metadata": {},
     "output_type": "execute_result"
    }
   ],
   "source": [
    "df.loc['2016-01-05':'2016-01-10', :].tail()"
   ]
  },
  {
   "cell_type": "markdown",
   "metadata": {},
   "source": [
    "## 第四部分：时间序列方法\n",
    "如同其他类型的数据，时序数据需要做一些汇总、位移、计算等操作。本文将介绍 Pandas 对时序数据的一些处理操作方法。"
   ]
  },
  {
   "cell_type": "markdown",
   "metadata": {},
   "source": [
    "### 移动 Shifting\n",
    "可能需要将时间序列中的值在时间上前后移动或滞后。 shift() 方法也可以在时序对象上使用。"
   ]
  },
  {
   "cell_type": "code",
   "execution_count": 107,
   "metadata": {},
   "outputs": [
    {
     "data": {
      "text/plain": [
       "2020-06-01    0\n",
       "2020-06-02    1\n",
       "2020-06-03    2\n",
       "Freq: D, dtype: int64"
      ]
     },
     "execution_count": 107,
     "metadata": {},
     "output_type": "execute_result"
    }
   ],
   "source": [
    "rng = pd.date_range('2020-06-01', '2020-06-03')\n",
    "ts = pd.Series(range(len(rng)), index=rng)\n",
    "ts"
   ]
  },
  {
   "cell_type": "code",
   "execution_count": 108,
   "metadata": {},
   "outputs": [
    {
     "data": {
      "text/plain": [
       "2020-06-01    NaN\n",
       "2020-06-02    0.0\n",
       "2020-06-03    1.0\n",
       "Freq: D, dtype: float64"
      ]
     },
     "execution_count": 108,
     "metadata": {},
     "output_type": "execute_result"
    }
   ],
   "source": [
    "ts.shift(1)"
   ]
  },
  {
   "cell_type": "markdown",
   "metadata": {},
   "source": [
    "shift 方法接受 freq 参数，该参数可以接受 DateOffset 类或其他类似 timedelta 的对象,也可以接受偏移别名。"
   ]
  },
  {
   "cell_type": "code",
   "execution_count": 109,
   "metadata": {},
   "outputs": [
    {
     "data": {
      "text/plain": [
       "2020-06-04    0\n",
       "2020-06-05    1\n",
       "2020-06-08    2\n",
       "dtype: int64"
      ]
     },
     "execution_count": 109,
     "metadata": {},
     "output_type": "execute_result"
    }
   ],
   "source": [
    "# 工作日\n",
    "ts.shift(3, freq=pd.offsets.BDay())"
   ]
  },
  {
   "cell_type": "code",
   "execution_count": 110,
   "metadata": {},
   "outputs": [
    {
     "data": {
      "text/plain": [
       "2020-08-31    0\n",
       "2020-08-31    1\n",
       "2020-08-31    2\n",
       "dtype: int64"
      ]
     },
     "execution_count": 110,
     "metadata": {},
     "output_type": "execute_result"
    }
   ],
   "source": [
    "# 工作日月末\n",
    "ts.shift(3, freq='BM')"
   ]
  },
  {
   "cell_type": "markdown",
   "metadata": {},
   "source": [
    "除了更改数据和索引的对齐方式之外，ts方法将索引中的所有日期更改指定的偏移量（只移动索引）："
   ]
  },
  {
   "cell_type": "code",
   "execution_count": 112,
   "metadata": {},
   "outputs": [
    {
     "data": {
      "text/plain": [
       "2020-06-04    0\n",
       "2020-06-05    1\n",
       "2020-06-06    2\n",
       "Freq: D, dtype: int64"
      ]
     },
     "execution_count": 112,
     "metadata": {},
     "output_type": "execute_result"
    }
   ],
   "source": [
    "ts.shift(3, freq='D')"
   ]
  },
  {
   "cell_type": "markdown",
   "metadata": {},
   "source": [
    "请注意，使用shift时，最前边的 条目将不再是NaN，因为不会重新对齐数据。"
   ]
  },
  {
   "cell_type": "markdown",
   "metadata": {},
   "source": [
    "### 频率转换\n",
    "更改频率的主要功能是 asfreq() 方法。"
   ]
  },
  {
   "cell_type": "code",
   "execution_count": 113,
   "metadata": {},
   "outputs": [
    {
     "data": {
      "text/plain": [
       "2010-01-01    2.367982\n",
       "2010-01-06   -0.047885\n",
       "2010-01-11   -0.528319\n",
       "Freq: 3B, dtype: float64"
      ]
     },
     "execution_count": 113,
     "metadata": {},
     "output_type": "execute_result"
    }
   ],
   "source": [
    "dr = pd.date_range('1/1/2010', periods=3, freq=3 * pd.offsets.BDay())\n",
    "ts = pd.Series(np.random.randn(3), index=dr)\n",
    "ts"
   ]
  },
  {
   "cell_type": "code",
   "execution_count": 114,
   "metadata": {},
   "outputs": [
    {
     "data": {
      "text/plain": [
       "2010-01-01    2.367982\n",
       "2010-01-04         NaN\n",
       "2010-01-05         NaN\n",
       "2010-01-06   -0.047885\n",
       "2010-01-07         NaN\n",
       "2010-01-08         NaN\n",
       "2010-01-11   -0.528319\n",
       "Freq: B, dtype: float64"
      ]
     },
     "execution_count": 114,
     "metadata": {},
     "output_type": "execute_result"
    }
   ],
   "source": [
    "# 从3个工作日转为一个工作日\n",
    "ts.asfreq(pd.offsets.BDay())"
   ]
  },
  {
   "cell_type": "markdown",
   "metadata": {},
   "source": [
    "asfreq 提供了更多便利，因此您可以为频率转换后可能出现的任何间隙指定插值方法。"
   ]
  },
  {
   "cell_type": "code",
   "execution_count": 115,
   "metadata": {},
   "outputs": [
    {
     "data": {
      "text/plain": [
       "2010-01-01    2.367982\n",
       "2010-01-04    2.367982\n",
       "2010-01-05    2.367982\n",
       "2010-01-06   -0.047885\n",
       "2010-01-07   -0.047885\n",
       "2010-01-08   -0.047885\n",
       "2010-01-11   -0.528319\n",
       "Freq: B, dtype: float64"
      ]
     },
     "execution_count": 115,
     "metadata": {},
     "output_type": "execute_result"
    }
   ],
   "source": [
    "ts.asfreq(pd.offsets.BDay(), method='pad')"
   ]
  },
  {
   "cell_type": "code",
   "execution_count": 116,
   "metadata": {},
   "outputs": [
    {
     "data": {
      "text/plain": [
       "2010-01-01 00:00:00    2.367982\n",
       "2010-01-01 00:00:30    9.000000\n",
       "2010-01-01 00:01:00    9.000000\n",
       "2010-01-01 00:01:30    9.000000\n",
       "2010-01-01 00:02:00    9.000000\n",
       "                         ...   \n",
       "2010-01-10 23:58:00    9.000000\n",
       "2010-01-10 23:58:30    9.000000\n",
       "2010-01-10 23:59:00    9.000000\n",
       "2010-01-10 23:59:30    9.000000\n",
       "2010-01-11 00:00:00   -0.528319\n",
       "Freq: 30S, Length: 28801, dtype: float64"
      ]
     },
     "execution_count": 116,
     "metadata": {},
     "output_type": "execute_result"
    }
   ],
   "source": [
    "# 对空值进行填充\n",
    "ts.asfreq(freq='30S', fill_value=9.0)"
   ]
  },
  {
   "cell_type": "markdown",
   "metadata": {},
   "source": [
    "对于 DatetimeIndex，这基本上只是reindex() 的一个很方便的包装器，该包装器生成 date_range 并调用 reindex。"
   ]
  },
  {
   "cell_type": "code",
   "execution_count": 117,
   "metadata": {},
   "outputs": [
    {
     "data": {
      "text/html": [
       "<div>\n",
       "<style scoped>\n",
       "    .dataframe tbody tr th:only-of-type {\n",
       "        vertical-align: middle;\n",
       "    }\n",
       "\n",
       "    .dataframe tbody tr th {\n",
       "        vertical-align: top;\n",
       "    }\n",
       "\n",
       "    .dataframe thead th {\n",
       "        text-align: right;\n",
       "    }\n",
       "</style>\n",
       "<table border=\"1\" class=\"dataframe\">\n",
       "  <thead>\n",
       "    <tr style=\"text-align: right;\">\n",
       "      <th></th>\n",
       "      <th>prices</th>\n",
       "    </tr>\n",
       "  </thead>\n",
       "  <tbody>\n",
       "    <tr>\n",
       "      <th>2010-01-01</th>\n",
       "      <td>100.0</td>\n",
       "    </tr>\n",
       "    <tr>\n",
       "      <th>2010-01-02</th>\n",
       "      <td>101.0</td>\n",
       "    </tr>\n",
       "    <tr>\n",
       "      <th>2010-01-03</th>\n",
       "      <td>NaN</td>\n",
       "    </tr>\n",
       "    <tr>\n",
       "      <th>2010-01-04</th>\n",
       "      <td>100.0</td>\n",
       "    </tr>\n",
       "    <tr>\n",
       "      <th>2010-01-05</th>\n",
       "      <td>89.0</td>\n",
       "    </tr>\n",
       "    <tr>\n",
       "      <th>2010-01-06</th>\n",
       "      <td>88.0</td>\n",
       "    </tr>\n",
       "  </tbody>\n",
       "</table>\n",
       "</div>"
      ],
      "text/plain": [
       "            prices\n",
       "2010-01-01   100.0\n",
       "2010-01-02   101.0\n",
       "2010-01-03     NaN\n",
       "2010-01-04   100.0\n",
       "2010-01-05    89.0\n",
       "2010-01-06    88.0"
      ]
     },
     "execution_count": 117,
     "metadata": {},
     "output_type": "execute_result"
    }
   ],
   "source": [
    "date_index = pd.date_range('1/1/2010', periods=6, freq='D')\n",
    "df2 = pd.DataFrame({\"prices\": [100, 101, np.nan, 100, 89, 88]},\n",
    "                   index=date_index)\n",
    "df2"
   ]
  },
  {
   "cell_type": "code",
   "execution_count": 118,
   "metadata": {},
   "outputs": [
    {
     "data": {
      "text/html": [
       "<div>\n",
       "<style scoped>\n",
       "    .dataframe tbody tr th:only-of-type {\n",
       "        vertical-align: middle;\n",
       "    }\n",
       "\n",
       "    .dataframe tbody tr th {\n",
       "        vertical-align: top;\n",
       "    }\n",
       "\n",
       "    .dataframe thead th {\n",
       "        text-align: right;\n",
       "    }\n",
       "</style>\n",
       "<table border=\"1\" class=\"dataframe\">\n",
       "  <thead>\n",
       "    <tr style=\"text-align: right;\">\n",
       "      <th></th>\n",
       "      <th>prices</th>\n",
       "    </tr>\n",
       "  </thead>\n",
       "  <tbody>\n",
       "    <tr>\n",
       "      <th>2009-12-29</th>\n",
       "      <td>NaN</td>\n",
       "    </tr>\n",
       "    <tr>\n",
       "      <th>2009-12-30</th>\n",
       "      <td>NaN</td>\n",
       "    </tr>\n",
       "    <tr>\n",
       "      <th>2009-12-31</th>\n",
       "      <td>NaN</td>\n",
       "    </tr>\n",
       "    <tr>\n",
       "      <th>2010-01-01</th>\n",
       "      <td>100.0</td>\n",
       "    </tr>\n",
       "    <tr>\n",
       "      <th>2010-01-02</th>\n",
       "      <td>101.0</td>\n",
       "    </tr>\n",
       "    <tr>\n",
       "      <th>2010-01-03</th>\n",
       "      <td>NaN</td>\n",
       "    </tr>\n",
       "    <tr>\n",
       "      <th>2010-01-04</th>\n",
       "      <td>100.0</td>\n",
       "    </tr>\n",
       "    <tr>\n",
       "      <th>2010-01-05</th>\n",
       "      <td>89.0</td>\n",
       "    </tr>\n",
       "    <tr>\n",
       "      <th>2010-01-06</th>\n",
       "      <td>88.0</td>\n",
       "    </tr>\n",
       "    <tr>\n",
       "      <th>2010-01-07</th>\n",
       "      <td>NaN</td>\n",
       "    </tr>\n",
       "  </tbody>\n",
       "</table>\n",
       "</div>"
      ],
      "text/plain": [
       "            prices\n",
       "2009-12-29     NaN\n",
       "2009-12-30     NaN\n",
       "2009-12-31     NaN\n",
       "2010-01-01   100.0\n",
       "2010-01-02   101.0\n",
       "2010-01-03     NaN\n",
       "2010-01-04   100.0\n",
       "2010-01-05    89.0\n",
       "2010-01-06    88.0\n",
       "2010-01-07     NaN"
      ]
     },
     "execution_count": 118,
     "metadata": {},
     "output_type": "execute_result"
    }
   ],
   "source": [
    "# 假设我们决定扩展数据框以覆盖更大的日期范围\n",
    "date_index2 = pd.date_range('12/29/2009', periods=10, freq='D')\n",
    "df2.reindex(date_index2)"
   ]
  },
  {
   "cell_type": "markdown",
   "metadata": {},
   "source": [
    "默认情况下，原始数据框中没有值的索引条目（例如，“ 2009-12-29”）将用NaN填充。 如果需要，我们可以使用几个选项之一（{None, ‘backfill’/’bfill’, ‘pad’/’ffill’, ‘nearest’}）来填写缺失值。\n",
    "\n",
    "例如，要反向传播最后一个有效值以填充NaN值，请将 bfill 作为参数传递给method关键字。"
   ]
  },
  {
   "cell_type": "code",
   "execution_count": 119,
   "metadata": {},
   "outputs": [
    {
     "data": {
      "text/html": [
       "<div>\n",
       "<style scoped>\n",
       "    .dataframe tbody tr th:only-of-type {\n",
       "        vertical-align: middle;\n",
       "    }\n",
       "\n",
       "    .dataframe tbody tr th {\n",
       "        vertical-align: top;\n",
       "    }\n",
       "\n",
       "    .dataframe thead th {\n",
       "        text-align: right;\n",
       "    }\n",
       "</style>\n",
       "<table border=\"1\" class=\"dataframe\">\n",
       "  <thead>\n",
       "    <tr style=\"text-align: right;\">\n",
       "      <th></th>\n",
       "      <th>prices</th>\n",
       "    </tr>\n",
       "  </thead>\n",
       "  <tbody>\n",
       "    <tr>\n",
       "      <th>2009-12-29</th>\n",
       "      <td>100.0</td>\n",
       "    </tr>\n",
       "    <tr>\n",
       "      <th>2009-12-30</th>\n",
       "      <td>100.0</td>\n",
       "    </tr>\n",
       "    <tr>\n",
       "      <th>2009-12-31</th>\n",
       "      <td>100.0</td>\n",
       "    </tr>\n",
       "    <tr>\n",
       "      <th>2010-01-01</th>\n",
       "      <td>100.0</td>\n",
       "    </tr>\n",
       "    <tr>\n",
       "      <th>2010-01-02</th>\n",
       "      <td>101.0</td>\n",
       "    </tr>\n",
       "    <tr>\n",
       "      <th>2010-01-03</th>\n",
       "      <td>NaN</td>\n",
       "    </tr>\n",
       "    <tr>\n",
       "      <th>2010-01-04</th>\n",
       "      <td>100.0</td>\n",
       "    </tr>\n",
       "    <tr>\n",
       "      <th>2010-01-05</th>\n",
       "      <td>89.0</td>\n",
       "    </tr>\n",
       "    <tr>\n",
       "      <th>2010-01-06</th>\n",
       "      <td>88.0</td>\n",
       "    </tr>\n",
       "    <tr>\n",
       "      <th>2010-01-07</th>\n",
       "      <td>NaN</td>\n",
       "    </tr>\n",
       "  </tbody>\n",
       "</table>\n",
       "</div>"
      ],
      "text/plain": [
       "            prices\n",
       "2009-12-29   100.0\n",
       "2009-12-30   100.0\n",
       "2009-12-31   100.0\n",
       "2010-01-01   100.0\n",
       "2010-01-02   101.0\n",
       "2010-01-03     NaN\n",
       "2010-01-04   100.0\n",
       "2010-01-05    89.0\n",
       "2010-01-06    88.0\n",
       "2010-01-07     NaN"
      ]
     },
     "execution_count": 119,
     "metadata": {},
     "output_type": "execute_result"
    }
   ],
   "source": [
    "df2.reindex(date_index2, method='bfill')"
   ]
  },
  {
   "cell_type": "markdown",
   "metadata": {},
   "source": [
    "### 其他方法"
   ]
  },
  {
   "cell_type": "code",
   "execution_count": 120,
   "metadata": {},
   "outputs": [
    {
     "data": {
      "text/plain": [
       "array([datetime.datetime(2010, 1, 1, 0, 0),\n",
       "       datetime.datetime(2010, 1, 2, 0, 0),\n",
       "       datetime.datetime(2010, 1, 3, 0, 0),\n",
       "       datetime.datetime(2010, 1, 4, 0, 0),\n",
       "       datetime.datetime(2010, 1, 5, 0, 0),\n",
       "       datetime.datetime(2010, 1, 6, 0, 0)], dtype=object)"
      ]
     },
     "execution_count": 120,
     "metadata": {},
     "output_type": "execute_result"
    }
   ],
   "source": [
    "# DatetimeIndex 转为 Python 原生 datetime.datetime 类型\n",
    "df2.index.to_pydatetime()"
   ]
  },
  {
   "cell_type": "markdown",
   "metadata": {},
   "source": [
    "## 第五部分：时间重采样\n",
    "Pandas 具有简单，强大和高效的功能，可在频率转换期间执行重采样操作（例如，将秒数据转换为5分钟数据）。 这在金融应用程序中非常普遍，但不仅限于此。"
   ]
  },
  {
   "cell_type": "markdown",
   "metadata": {},
   "source": [
    "### 重采样基础使用\n",
    "resample() 是一个基于时间的分组依据，后面是每个分组的聚合方法。"
   ]
  },
  {
   "cell_type": "code",
   "execution_count": 172,
   "metadata": {},
   "outputs": [
    {
     "data": {
      "text/plain": [
       "2012-01-01 00:00:00    244\n",
       "2012-01-01 00:00:01    174\n",
       "2012-01-01 00:00:02     18\n",
       "2012-01-01 00:00:03     87\n",
       "2012-01-01 00:00:04    435\n",
       "                      ... \n",
       "2012-01-01 00:16:35     33\n",
       "2012-01-01 00:16:36     72\n",
       "2012-01-01 00:16:37     23\n",
       "2012-01-01 00:16:38    364\n",
       "2012-01-01 00:16:39    308\n",
       "Freq: S, Length: 1000, dtype: int32"
      ]
     },
     "execution_count": 172,
     "metadata": {},
     "output_type": "execute_result"
    }
   ],
   "source": [
    "rng = pd.date_range('1/1/2012', periods=1000, freq='S')\n",
    "ts = pd.Series(np.random.randint(0, 500, len(rng)), index=rng)\n",
    "ts"
   ]
  },
  {
   "cell_type": "code",
   "execution_count": 147,
   "metadata": {},
   "outputs": [
    {
     "data": {
      "text/plain": [
       "2012-01-01 00:00:00    76011\n",
       "2012-01-01 00:05:00    77349\n",
       "2012-01-01 00:10:00    73123\n",
       "2012-01-01 00:15:00    26538\n",
       "Freq: 5T, dtype: int32"
      ]
     },
     "execution_count": 147,
     "metadata": {},
     "output_type": "execute_result"
    }
   ],
   "source": [
    "# 每5分钟进行一次聚合\n",
    "ts.resample('5Min').sum()"
   ]
  },
  {
   "cell_type": "markdown",
   "metadata": {},
   "source": [
    "重采样功能非常灵活，您可以指定许多不同的参数来控制频率转换和重采样操作。\n",
    "\n",
    "通过分派可用的任何函数（类似于 grouby）都可以作为返回对象的方法，包括 sum，mean，std，sem，max，min，mid，median，first，last，ohlc："
   ]
  },
  {
   "cell_type": "code",
   "execution_count": 148,
   "metadata": {},
   "outputs": [
    {
     "data": {
      "text/plain": [
       "2012-01-01 00:00:00    253.370000\n",
       "2012-01-01 00:05:00    257.830000\n",
       "2012-01-01 00:10:00    243.743333\n",
       "2012-01-01 00:15:00    265.380000\n",
       "Freq: 5T, dtype: float64"
      ]
     },
     "execution_count": 148,
     "metadata": {},
     "output_type": "execute_result"
    }
   ],
   "source": [
    "ts.resample('5Min').mean() # 平均"
   ]
  },
  {
   "cell_type": "code",
   "execution_count": 149,
   "metadata": {},
   "outputs": [
    {
     "data": {
      "text/plain": [
       "2012-01-01 00:00:00    497\n",
       "2012-01-01 00:05:00    497\n",
       "2012-01-01 00:10:00    495\n",
       "2012-01-01 00:15:00    491\n",
       "Freq: 5T, dtype: int32"
      ]
     },
     "execution_count": 149,
     "metadata": {},
     "output_type": "execute_result"
    }
   ],
   "source": [
    "ts.resample('5Min').max() # 最大值"
   ]
  },
  {
   "cell_type": "markdown",
   "metadata": {},
   "source": [
    "### 美国线\n",
    "美国线（英语：Open-High-Low-Close chart，OHLC chart），以竖立的线条表现股票价格的变化，可以呈现“开盘价、最高价、最低价、收盘价”，竖线呈现最高价和最低价间的价差间距，左侧横线代表开盘价，右侧横线代表收盘价，绘制上较K线简单。另有一种美国线仅呈现“最高价、最低价、收盘价”（HLC）三项讯息。"
   ]
  },
  {
   "cell_type": "code",
   "execution_count": 150,
   "metadata": {},
   "outputs": [
    {
     "data": {
      "text/html": [
       "<div>\n",
       "<style scoped>\n",
       "    .dataframe tbody tr th:only-of-type {\n",
       "        vertical-align: middle;\n",
       "    }\n",
       "\n",
       "    .dataframe tbody tr th {\n",
       "        vertical-align: top;\n",
       "    }\n",
       "\n",
       "    .dataframe thead th {\n",
       "        text-align: right;\n",
       "    }\n",
       "</style>\n",
       "<table border=\"1\" class=\"dataframe\">\n",
       "  <thead>\n",
       "    <tr style=\"text-align: right;\">\n",
       "      <th></th>\n",
       "      <th>open</th>\n",
       "      <th>high</th>\n",
       "      <th>low</th>\n",
       "      <th>close</th>\n",
       "    </tr>\n",
       "  </thead>\n",
       "  <tbody>\n",
       "    <tr>\n",
       "      <th>2012-01-01 00:00:00</th>\n",
       "      <td>407</td>\n",
       "      <td>497</td>\n",
       "      <td>0</td>\n",
       "      <td>51</td>\n",
       "    </tr>\n",
       "    <tr>\n",
       "      <th>2012-01-01 00:05:00</th>\n",
       "      <td>302</td>\n",
       "      <td>497</td>\n",
       "      <td>2</td>\n",
       "      <td>161</td>\n",
       "    </tr>\n",
       "    <tr>\n",
       "      <th>2012-01-01 00:10:00</th>\n",
       "      <td>125</td>\n",
       "      <td>495</td>\n",
       "      <td>0</td>\n",
       "      <td>338</td>\n",
       "    </tr>\n",
       "    <tr>\n",
       "      <th>2012-01-01 00:15:00</th>\n",
       "      <td>370</td>\n",
       "      <td>491</td>\n",
       "      <td>3</td>\n",
       "      <td>132</td>\n",
       "    </tr>\n",
       "  </tbody>\n",
       "</table>\n",
       "</div>"
      ],
      "text/plain": [
       "                     open  high  low  close\n",
       "2012-01-01 00:00:00   407   497    0     51\n",
       "2012-01-01 00:05:00   302   497    2    161\n",
       "2012-01-01 00:10:00   125   495    0    338\n",
       "2012-01-01 00:15:00   370   491    3    132"
      ]
     },
     "execution_count": 150,
     "metadata": {},
     "output_type": "execute_result"
    }
   ],
   "source": [
    "ts.resample('5Min').ohlc()"
   ]
  },
  {
   "cell_type": "markdown",
   "metadata": {},
   "source": [
    "### 开闭区间指定\n",
    "对于采样，可以将 closed 设置为“ left”或“ right”，以指定关闭区间的哪一端："
   ]
  },
  {
   "cell_type": "code",
   "execution_count": 151,
   "metadata": {},
   "outputs": [
    {
     "data": {
      "text/plain": [
       "2011-12-31 23:55:00    407.000000\n",
       "2012-01-01 00:00:00    253.020000\n",
       "2012-01-01 00:05:00    257.240000\n",
       "2012-01-01 00:10:00    244.560000\n",
       "2012-01-01 00:15:00    264.323232\n",
       "Freq: 5T, dtype: float64"
      ]
     },
     "execution_count": 151,
     "metadata": {},
     "output_type": "execute_result"
    }
   ],
   "source": [
    "ts.resample('5Min', closed='right').mean()"
   ]
  },
  {
   "cell_type": "code",
   "execution_count": 152,
   "metadata": {},
   "outputs": [
    {
     "data": {
      "text/plain": [
       "2012-01-01 00:00:00    253.370000\n",
       "2012-01-01 00:05:00    257.830000\n",
       "2012-01-01 00:10:00    243.743333\n",
       "2012-01-01 00:15:00    265.380000\n",
       "Freq: 5T, dtype: float64"
      ]
     },
     "execution_count": 152,
     "metadata": {},
     "output_type": "execute_result"
    }
   ],
   "source": [
    "ts.resample('5Min', closed='left').mean()"
   ]
  },
  {
   "cell_type": "markdown",
   "metadata": {},
   "source": [
    "### 输出结果控制\n",
    "像 label 和 loffset 这样的参数用于操纵结果标签。 label 指定结果是用间隔的开始还是结束标记，loffset 对输出标签执行时间调整。"
   ]
  },
  {
   "cell_type": "code",
   "execution_count": 153,
   "metadata": {},
   "outputs": [
    {
     "data": {
      "text/plain": [
       "2012-01-01 00:00:00    253.370000\n",
       "2012-01-01 00:05:00    257.830000\n",
       "2012-01-01 00:10:00    243.743333\n",
       "2012-01-01 00:15:00    265.380000\n",
       "Freq: 5T, dtype: float64"
      ]
     },
     "execution_count": 153,
     "metadata": {},
     "output_type": "execute_result"
    }
   ],
   "source": [
    "ts.resample('5Min').mean()  # 默认 label='left'"
   ]
  },
  {
   "cell_type": "code",
   "execution_count": 154,
   "metadata": {},
   "outputs": [
    {
     "data": {
      "text/plain": [
       "2012-01-01 00:00:00    253.370000\n",
       "2012-01-01 00:05:00    257.830000\n",
       "2012-01-01 00:10:00    243.743333\n",
       "2012-01-01 00:15:00    265.380000\n",
       "Freq: 5T, dtype: float64"
      ]
     },
     "execution_count": 154,
     "metadata": {},
     "output_type": "execute_result"
    }
   ],
   "source": [
    "ts.resample('5Min', label='left').mean()"
   ]
  },
  {
   "cell_type": "markdown",
   "metadata": {},
   "source": [
    "### 上采样\n",
    "上采样又称图像插值，其主要目的是通过放大原图像，进而可以在更高分辨率的设备上显示。图像放大几乎都是采用内插值方法，即在原有图像像素的基础上在像素点之间采用合适的插值算法插入新的元素。\n",
    "\n",
    "对于上采样，您可以指定一种上采样的方法，并指定 limit 参数以对创建的间隙进行插值："
   ]
  },
  {
   "cell_type": "code",
   "execution_count": 156,
   "metadata": {},
   "outputs": [
    {
     "data": {
      "text/plain": [
       "2012-01-01 00:00:00.000    407.0\n",
       "2012-01-01 00:00:00.250      NaN\n",
       "2012-01-01 00:00:00.500      NaN\n",
       "2012-01-01 00:00:00.750      NaN\n",
       "2012-01-01 00:00:01.000    176.0\n",
       "Freq: 250L, dtype: float64"
      ]
     },
     "execution_count": 156,
     "metadata": {},
     "output_type": "execute_result"
    }
   ],
   "source": [
    "# 从每秒到每250毫秒\n",
    "ts[:2].resample('250L').asfreq()"
   ]
  },
  {
   "cell_type": "code",
   "execution_count": 157,
   "metadata": {},
   "outputs": [
    {
     "data": {
      "text/plain": [
       "2012-01-01 00:00:00.000    407\n",
       "2012-01-01 00:00:00.250    407\n",
       "2012-01-01 00:00:00.500    407\n",
       "2012-01-01 00:00:00.750    407\n",
       "2012-01-01 00:00:01.000    176\n",
       "Freq: 250L, dtype: int32"
      ]
     },
     "execution_count": 157,
     "metadata": {},
     "output_type": "execute_result"
    }
   ],
   "source": [
    "ts[:2].resample('250L').ffill()"
   ]
  },
  {
   "cell_type": "code",
   "execution_count": 158,
   "metadata": {},
   "outputs": [
    {
     "data": {
      "text/plain": [
       "2012-01-01 00:00:00.000    407.0\n",
       "2012-01-01 00:00:00.250    407.0\n",
       "2012-01-01 00:00:00.500    407.0\n",
       "2012-01-01 00:00:00.750      NaN\n",
       "2012-01-01 00:00:01.000    176.0\n",
       "Freq: 250L, dtype: float64"
      ]
     },
     "execution_count": 158,
     "metadata": {},
     "output_type": "execute_result"
    }
   ],
   "source": [
    "ts[:2].resample('250L').ffill(limit=2)"
   ]
  },
  {
   "cell_type": "markdown",
   "metadata": {},
   "source": [
    "### 稀疏采样\n",
    "压缩感知（Compressed sensing），也被称为压缩采样（Compressive sampling）或稀疏采样（Sparse sampling），是一种寻找欠定线性系统的稀疏解的技术。压缩感知被应用于电子工程尤其是信号处理中，用于获取和重构稀疏或可压缩的信号。\n",
    "\n",
    "相对于要重采样的时间量，稀疏时间序列的点要少得多。 天真地对稀疏序列进行升采样可能会产生很多中间值。 当您不想使用一种方法来填充这些值时，例如 fill_method 为 None，则中间值将用 NaN 填充。由于重采样是基于时间的分组依据，因此以下是仅对并非全部为NaN的组进行有效重采样的方法。"
   ]
  },
  {
   "cell_type": "code",
   "execution_count": 159,
   "metadata": {},
   "outputs": [
    {
     "data": {
      "text/plain": [
       "2014-01-01 00:00:00     0\n",
       "2014-01-01 00:03:00     0\n",
       "2014-01-01 00:06:00     0\n",
       "2014-01-01 00:09:00     0\n",
       "2014-01-01 00:12:00     0\n",
       "                       ..\n",
       "2014-04-09 23:48:00     0\n",
       "2014-04-09 23:51:00     0\n",
       "2014-04-09 23:54:00     0\n",
       "2014-04-09 23:57:00     0\n",
       "2014-04-10 00:00:00    99\n",
       "Freq: 3T, Length: 47521, dtype: int64"
      ]
     },
     "execution_count": 159,
     "metadata": {},
     "output_type": "execute_result"
    }
   ],
   "source": [
    "rng = pd.date_range('2014-1-1', periods=100, freq='D') + pd.Timedelta('1s')\n",
    "ts = pd.Series(range(100), index=rng)\n",
    "\n",
    "# 如果我们想对整个系列重新采样：\n",
    "ts.resample('3T').sum()"
   ]
  },
  {
   "cell_type": "markdown",
   "metadata": {},
   "source": [
    "取而代之的是，我们只能对那些我们拥有点的组重新采样，如下所示："
   ]
  },
  {
   "cell_type": "code",
   "execution_count": 160,
   "metadata": {},
   "outputs": [
    {
     "data": {
      "text/plain": [
       "2014-01-01     0\n",
       "2014-01-02     1\n",
       "2014-01-03     2\n",
       "2014-01-04     3\n",
       "2014-01-05     4\n",
       "              ..\n",
       "2014-04-06    95\n",
       "2014-04-07    96\n",
       "2014-04-08    97\n",
       "2014-04-09    98\n",
       "2014-04-10    99\n",
       "Length: 100, dtype: int64"
      ]
     },
     "execution_count": 160,
     "metadata": {},
     "output_type": "execute_result"
    }
   ],
   "source": [
    "from functools import partial\n",
    "from pandas.tseries.frequencies import to_offset\n",
    "\n",
    "def round(t, freq):\n",
    "    freq = to_offset(freq)\n",
    "    return pd.Timestamp((t.value // freq.delta.value) * freq.delta.value)\n",
    "\n",
    "ts.groupby(partial(round, freq='3T')).sum()"
   ]
  },
  {
   "cell_type": "markdown",
   "metadata": {},
   "source": [
    "### 聚合\n",
    "类似于 aggregating API, groupby API, 和窗口方法 api, Resampler 也适用相关方法。重新采样DataFrame时，默认值是对具有相同功能的所有列进行操作："
   ]
  },
  {
   "cell_type": "code",
   "execution_count": 161,
   "metadata": {},
   "outputs": [
    {
     "data": {
      "text/html": [
       "<div>\n",
       "<style scoped>\n",
       "    .dataframe tbody tr th:only-of-type {\n",
       "        vertical-align: middle;\n",
       "    }\n",
       "\n",
       "    .dataframe tbody tr th {\n",
       "        vertical-align: top;\n",
       "    }\n",
       "\n",
       "    .dataframe thead th {\n",
       "        text-align: right;\n",
       "    }\n",
       "</style>\n",
       "<table border=\"1\" class=\"dataframe\">\n",
       "  <thead>\n",
       "    <tr style=\"text-align: right;\">\n",
       "      <th></th>\n",
       "      <th>A</th>\n",
       "      <th>B</th>\n",
       "      <th>C</th>\n",
       "    </tr>\n",
       "  </thead>\n",
       "  <tbody>\n",
       "    <tr>\n",
       "      <th>2012-01-01 00:00:00</th>\n",
       "      <td>-0.033312</td>\n",
       "      <td>0.048403</td>\n",
       "      <td>0.122693</td>\n",
       "    </tr>\n",
       "    <tr>\n",
       "      <th>2012-01-01 00:03:00</th>\n",
       "      <td>0.057612</td>\n",
       "      <td>0.138748</td>\n",
       "      <td>-0.005933</td>\n",
       "    </tr>\n",
       "    <tr>\n",
       "      <th>2012-01-01 00:06:00</th>\n",
       "      <td>-0.020865</td>\n",
       "      <td>0.039067</td>\n",
       "      <td>-0.023592</td>\n",
       "    </tr>\n",
       "    <tr>\n",
       "      <th>2012-01-01 00:09:00</th>\n",
       "      <td>0.011191</td>\n",
       "      <td>-0.013045</td>\n",
       "      <td>0.030350</td>\n",
       "    </tr>\n",
       "    <tr>\n",
       "      <th>2012-01-01 00:12:00</th>\n",
       "      <td>-0.136724</td>\n",
       "      <td>0.023454</td>\n",
       "      <td>-0.049614</td>\n",
       "    </tr>\n",
       "    <tr>\n",
       "      <th>2012-01-01 00:15:00</th>\n",
       "      <td>0.032506</td>\n",
       "      <td>0.070861</td>\n",
       "      <td>0.124264</td>\n",
       "    </tr>\n",
       "  </tbody>\n",
       "</table>\n",
       "</div>"
      ],
      "text/plain": [
       "                            A         B         C\n",
       "2012-01-01 00:00:00 -0.033312  0.048403  0.122693\n",
       "2012-01-01 00:03:00  0.057612  0.138748 -0.005933\n",
       "2012-01-01 00:06:00 -0.020865  0.039067 -0.023592\n",
       "2012-01-01 00:09:00  0.011191 -0.013045  0.030350\n",
       "2012-01-01 00:12:00 -0.136724  0.023454 -0.049614\n",
       "2012-01-01 00:15:00  0.032506  0.070861  0.124264"
      ]
     },
     "execution_count": 161,
     "metadata": {},
     "output_type": "execute_result"
    }
   ],
   "source": [
    "df = pd.DataFrame(np.random.randn(1000, 3),\n",
    "                  index=pd.date_range('1/1/2012', freq='S', periods=1000),\n",
    "                  columns=['A', 'B', 'C'])\n",
    "\n",
    "r = df.resample('3T')\n",
    "r.mean()"
   ]
  },
  {
   "cell_type": "markdown",
   "metadata": {},
   "source": [
    "我们可以选择一个或多个特定列:"
   ]
  },
  {
   "cell_type": "code",
   "execution_count": 162,
   "metadata": {},
   "outputs": [
    {
     "data": {
      "text/plain": [
       "2012-01-01 00:00:00   -0.033312\n",
       "2012-01-01 00:03:00    0.057612\n",
       "2012-01-01 00:06:00   -0.020865\n",
       "2012-01-01 00:09:00    0.011191\n",
       "2012-01-01 00:12:00   -0.136724\n",
       "2012-01-01 00:15:00    0.032506\n",
       "Freq: 3T, Name: A, dtype: float64"
      ]
     },
     "execution_count": 162,
     "metadata": {},
     "output_type": "execute_result"
    }
   ],
   "source": [
    "r['A'].mean()"
   ]
  },
  {
   "cell_type": "code",
   "execution_count": 163,
   "metadata": {},
   "outputs": [
    {
     "data": {
      "text/html": [
       "<div>\n",
       "<style scoped>\n",
       "    .dataframe tbody tr th:only-of-type {\n",
       "        vertical-align: middle;\n",
       "    }\n",
       "\n",
       "    .dataframe tbody tr th {\n",
       "        vertical-align: top;\n",
       "    }\n",
       "\n",
       "    .dataframe thead th {\n",
       "        text-align: right;\n",
       "    }\n",
       "</style>\n",
       "<table border=\"1\" class=\"dataframe\">\n",
       "  <thead>\n",
       "    <tr style=\"text-align: right;\">\n",
       "      <th></th>\n",
       "      <th>A</th>\n",
       "      <th>B</th>\n",
       "    </tr>\n",
       "  </thead>\n",
       "  <tbody>\n",
       "    <tr>\n",
       "      <th>2012-01-01 00:00:00</th>\n",
       "      <td>-0.033312</td>\n",
       "      <td>0.048403</td>\n",
       "    </tr>\n",
       "    <tr>\n",
       "      <th>2012-01-01 00:03:00</th>\n",
       "      <td>0.057612</td>\n",
       "      <td>0.138748</td>\n",
       "    </tr>\n",
       "    <tr>\n",
       "      <th>2012-01-01 00:06:00</th>\n",
       "      <td>-0.020865</td>\n",
       "      <td>0.039067</td>\n",
       "    </tr>\n",
       "    <tr>\n",
       "      <th>2012-01-01 00:09:00</th>\n",
       "      <td>0.011191</td>\n",
       "      <td>-0.013045</td>\n",
       "    </tr>\n",
       "    <tr>\n",
       "      <th>2012-01-01 00:12:00</th>\n",
       "      <td>-0.136724</td>\n",
       "      <td>0.023454</td>\n",
       "    </tr>\n",
       "    <tr>\n",
       "      <th>2012-01-01 00:15:00</th>\n",
       "      <td>0.032506</td>\n",
       "      <td>0.070861</td>\n",
       "    </tr>\n",
       "  </tbody>\n",
       "</table>\n",
       "</div>"
      ],
      "text/plain": [
       "                            A         B\n",
       "2012-01-01 00:00:00 -0.033312  0.048403\n",
       "2012-01-01 00:03:00  0.057612  0.138748\n",
       "2012-01-01 00:06:00 -0.020865  0.039067\n",
       "2012-01-01 00:09:00  0.011191 -0.013045\n",
       "2012-01-01 00:12:00 -0.136724  0.023454\n",
       "2012-01-01 00:15:00  0.032506  0.070861"
      ]
     },
     "execution_count": 163,
     "metadata": {},
     "output_type": "execute_result"
    }
   ],
   "source": [
    "r[['A', 'B']].mean()"
   ]
  },
  {
   "cell_type": "markdown",
   "metadata": {},
   "source": [
    "多个聚合方式："
   ]
  },
  {
   "cell_type": "code",
   "execution_count": 164,
   "metadata": {},
   "outputs": [
    {
     "data": {
      "text/html": [
       "<div>\n",
       "<style scoped>\n",
       "    .dataframe tbody tr th:only-of-type {\n",
       "        vertical-align: middle;\n",
       "    }\n",
       "\n",
       "    .dataframe tbody tr th {\n",
       "        vertical-align: top;\n",
       "    }\n",
       "\n",
       "    .dataframe thead th {\n",
       "        text-align: right;\n",
       "    }\n",
       "</style>\n",
       "<table border=\"1\" class=\"dataframe\">\n",
       "  <thead>\n",
       "    <tr style=\"text-align: right;\">\n",
       "      <th></th>\n",
       "      <th>sum</th>\n",
       "      <th>mean</th>\n",
       "      <th>std</th>\n",
       "    </tr>\n",
       "  </thead>\n",
       "  <tbody>\n",
       "    <tr>\n",
       "      <th>2012-01-01 00:00:00</th>\n",
       "      <td>-5.996128</td>\n",
       "      <td>-0.033312</td>\n",
       "      <td>0.937740</td>\n",
       "    </tr>\n",
       "    <tr>\n",
       "      <th>2012-01-01 00:03:00</th>\n",
       "      <td>10.370077</td>\n",
       "      <td>0.057612</td>\n",
       "      <td>0.934882</td>\n",
       "    </tr>\n",
       "    <tr>\n",
       "      <th>2012-01-01 00:06:00</th>\n",
       "      <td>-3.755667</td>\n",
       "      <td>-0.020865</td>\n",
       "      <td>0.953072</td>\n",
       "    </tr>\n",
       "    <tr>\n",
       "      <th>2012-01-01 00:09:00</th>\n",
       "      <td>2.014386</td>\n",
       "      <td>0.011191</td>\n",
       "      <td>1.056193</td>\n",
       "    </tr>\n",
       "    <tr>\n",
       "      <th>2012-01-01 00:12:00</th>\n",
       "      <td>-24.610344</td>\n",
       "      <td>-0.136724</td>\n",
       "      <td>0.976037</td>\n",
       "    </tr>\n",
       "    <tr>\n",
       "      <th>2012-01-01 00:15:00</th>\n",
       "      <td>3.250625</td>\n",
       "      <td>0.032506</td>\n",
       "      <td>0.998992</td>\n",
       "    </tr>\n",
       "  </tbody>\n",
       "</table>\n",
       "</div>"
      ],
      "text/plain": [
       "                           sum      mean       std\n",
       "2012-01-01 00:00:00  -5.996128 -0.033312  0.937740\n",
       "2012-01-01 00:03:00  10.370077  0.057612  0.934882\n",
       "2012-01-01 00:06:00  -3.755667 -0.020865  0.953072\n",
       "2012-01-01 00:09:00   2.014386  0.011191  1.056193\n",
       "2012-01-01 00:12:00 -24.610344 -0.136724  0.976037\n",
       "2012-01-01 00:15:00   3.250625  0.032506  0.998992"
      ]
     },
     "execution_count": 164,
     "metadata": {},
     "output_type": "execute_result"
    }
   ],
   "source": [
    "r['A'].agg([np.sum, np.mean, np.std])"
   ]
  },
  {
   "cell_type": "code",
   "execution_count": 165,
   "metadata": {},
   "outputs": [
    {
     "data": {
      "text/html": [
       "<div>\n",
       "<style scoped>\n",
       "    .dataframe tbody tr th:only-of-type {\n",
       "        vertical-align: middle;\n",
       "    }\n",
       "\n",
       "    .dataframe tbody tr th {\n",
       "        vertical-align: top;\n",
       "    }\n",
       "\n",
       "    .dataframe thead tr th {\n",
       "        text-align: left;\n",
       "    }\n",
       "</style>\n",
       "<table border=\"1\" class=\"dataframe\">\n",
       "  <thead>\n",
       "    <tr>\n",
       "      <th></th>\n",
       "      <th colspan=\"2\" halign=\"left\">A</th>\n",
       "      <th colspan=\"2\" halign=\"left\">B</th>\n",
       "      <th colspan=\"2\" halign=\"left\">C</th>\n",
       "    </tr>\n",
       "    <tr>\n",
       "      <th></th>\n",
       "      <th>sum</th>\n",
       "      <th>mean</th>\n",
       "      <th>sum</th>\n",
       "      <th>mean</th>\n",
       "      <th>sum</th>\n",
       "      <th>mean</th>\n",
       "    </tr>\n",
       "  </thead>\n",
       "  <tbody>\n",
       "    <tr>\n",
       "      <th>2012-01-01 00:00:00</th>\n",
       "      <td>-5.996128</td>\n",
       "      <td>-0.033312</td>\n",
       "      <td>8.712526</td>\n",
       "      <td>0.048403</td>\n",
       "      <td>22.084827</td>\n",
       "      <td>0.122693</td>\n",
       "    </tr>\n",
       "    <tr>\n",
       "      <th>2012-01-01 00:03:00</th>\n",
       "      <td>10.370077</td>\n",
       "      <td>0.057612</td>\n",
       "      <td>24.974586</td>\n",
       "      <td>0.138748</td>\n",
       "      <td>-1.067948</td>\n",
       "      <td>-0.005933</td>\n",
       "    </tr>\n",
       "    <tr>\n",
       "      <th>2012-01-01 00:06:00</th>\n",
       "      <td>-3.755667</td>\n",
       "      <td>-0.020865</td>\n",
       "      <td>7.032081</td>\n",
       "      <td>0.039067</td>\n",
       "      <td>-4.246644</td>\n",
       "      <td>-0.023592</td>\n",
       "    </tr>\n",
       "    <tr>\n",
       "      <th>2012-01-01 00:09:00</th>\n",
       "      <td>2.014386</td>\n",
       "      <td>0.011191</td>\n",
       "      <td>-2.348185</td>\n",
       "      <td>-0.013045</td>\n",
       "      <td>5.463043</td>\n",
       "      <td>0.030350</td>\n",
       "    </tr>\n",
       "    <tr>\n",
       "      <th>2012-01-01 00:12:00</th>\n",
       "      <td>-24.610344</td>\n",
       "      <td>-0.136724</td>\n",
       "      <td>4.221691</td>\n",
       "      <td>0.023454</td>\n",
       "      <td>-8.930492</td>\n",
       "      <td>-0.049614</td>\n",
       "    </tr>\n",
       "    <tr>\n",
       "      <th>2012-01-01 00:15:00</th>\n",
       "      <td>3.250625</td>\n",
       "      <td>0.032506</td>\n",
       "      <td>7.086119</td>\n",
       "      <td>0.070861</td>\n",
       "      <td>12.426425</td>\n",
       "      <td>0.124264</td>\n",
       "    </tr>\n",
       "  </tbody>\n",
       "</table>\n",
       "</div>"
      ],
      "text/plain": [
       "                             A                    B                    C  \\\n",
       "                           sum      mean        sum      mean        sum   \n",
       "2012-01-01 00:00:00  -5.996128 -0.033312   8.712526  0.048403  22.084827   \n",
       "2012-01-01 00:03:00  10.370077  0.057612  24.974586  0.138748  -1.067948   \n",
       "2012-01-01 00:06:00  -3.755667 -0.020865   7.032081  0.039067  -4.246644   \n",
       "2012-01-01 00:09:00   2.014386  0.011191  -2.348185 -0.013045   5.463043   \n",
       "2012-01-01 00:12:00 -24.610344 -0.136724   4.221691  0.023454  -8.930492   \n",
       "2012-01-01 00:15:00   3.250625  0.032506   7.086119  0.070861  12.426425   \n",
       "\n",
       "                               \n",
       "                         mean  \n",
       "2012-01-01 00:00:00  0.122693  \n",
       "2012-01-01 00:03:00 -0.005933  \n",
       "2012-01-01 00:06:00 -0.023592  \n",
       "2012-01-01 00:09:00  0.030350  \n",
       "2012-01-01 00:12:00 -0.049614  \n",
       "2012-01-01 00:15:00  0.124264  "
      ]
     },
     "execution_count": 165,
     "metadata": {},
     "output_type": "execute_result"
    }
   ],
   "source": [
    "r.agg([np.sum, np.mean]) # 每个列"
   ]
  },
  {
   "cell_type": "code",
   "execution_count": 166,
   "metadata": {},
   "outputs": [
    {
     "data": {
      "text/html": [
       "<div>\n",
       "<style scoped>\n",
       "    .dataframe tbody tr th:only-of-type {\n",
       "        vertical-align: middle;\n",
       "    }\n",
       "\n",
       "    .dataframe tbody tr th {\n",
       "        vertical-align: top;\n",
       "    }\n",
       "\n",
       "    .dataframe thead th {\n",
       "        text-align: right;\n",
       "    }\n",
       "</style>\n",
       "<table border=\"1\" class=\"dataframe\">\n",
       "  <thead>\n",
       "    <tr style=\"text-align: right;\">\n",
       "      <th></th>\n",
       "      <th>A</th>\n",
       "      <th>B</th>\n",
       "    </tr>\n",
       "  </thead>\n",
       "  <tbody>\n",
       "    <tr>\n",
       "      <th>2012-01-01 00:00:00</th>\n",
       "      <td>-5.996128</td>\n",
       "      <td>0.935210</td>\n",
       "    </tr>\n",
       "    <tr>\n",
       "      <th>2012-01-01 00:03:00</th>\n",
       "      <td>10.370077</td>\n",
       "      <td>0.968908</td>\n",
       "    </tr>\n",
       "    <tr>\n",
       "      <th>2012-01-01 00:06:00</th>\n",
       "      <td>-3.755667</td>\n",
       "      <td>0.983241</td>\n",
       "    </tr>\n",
       "    <tr>\n",
       "      <th>2012-01-01 00:09:00</th>\n",
       "      <td>2.014386</td>\n",
       "      <td>0.982057</td>\n",
       "    </tr>\n",
       "    <tr>\n",
       "      <th>2012-01-01 00:12:00</th>\n",
       "      <td>-24.610344</td>\n",
       "      <td>1.047875</td>\n",
       "    </tr>\n",
       "    <tr>\n",
       "      <th>2012-01-01 00:15:00</th>\n",
       "      <td>3.250625</td>\n",
       "      <td>1.013443</td>\n",
       "    </tr>\n",
       "  </tbody>\n",
       "</table>\n",
       "</div>"
      ],
      "text/plain": [
       "                             A         B\n",
       "2012-01-01 00:00:00  -5.996128  0.935210\n",
       "2012-01-01 00:03:00  10.370077  0.968908\n",
       "2012-01-01 00:06:00  -3.755667  0.983241\n",
       "2012-01-01 00:09:00   2.014386  0.982057\n",
       "2012-01-01 00:12:00 -24.610344  1.047875\n",
       "2012-01-01 00:15:00   3.250625  1.013443"
      ]
     },
     "execution_count": 166,
     "metadata": {},
     "output_type": "execute_result"
    }
   ],
   "source": [
    "# 不同的聚合方式\n",
    "r.agg({'A': np.sum,\n",
    "       'B': lambda x: np.std(x, ddof=1)})"
   ]
  },
  {
   "cell_type": "code",
   "execution_count": 167,
   "metadata": {},
   "outputs": [
    {
     "data": {
      "text/html": [
       "<div>\n",
       "<style scoped>\n",
       "    .dataframe tbody tr th:only-of-type {\n",
       "        vertical-align: middle;\n",
       "    }\n",
       "\n",
       "    .dataframe tbody tr th {\n",
       "        vertical-align: top;\n",
       "    }\n",
       "\n",
       "    .dataframe thead th {\n",
       "        text-align: right;\n",
       "    }\n",
       "</style>\n",
       "<table border=\"1\" class=\"dataframe\">\n",
       "  <thead>\n",
       "    <tr style=\"text-align: right;\">\n",
       "      <th></th>\n",
       "      <th>A</th>\n",
       "      <th>B</th>\n",
       "    </tr>\n",
       "  </thead>\n",
       "  <tbody>\n",
       "    <tr>\n",
       "      <th>2012-01-01 00:00:00</th>\n",
       "      <td>-5.996128</td>\n",
       "      <td>0.935210</td>\n",
       "    </tr>\n",
       "    <tr>\n",
       "      <th>2012-01-01 00:03:00</th>\n",
       "      <td>10.370077</td>\n",
       "      <td>0.968908</td>\n",
       "    </tr>\n",
       "    <tr>\n",
       "      <th>2012-01-01 00:06:00</th>\n",
       "      <td>-3.755667</td>\n",
       "      <td>0.983241</td>\n",
       "    </tr>\n",
       "    <tr>\n",
       "      <th>2012-01-01 00:09:00</th>\n",
       "      <td>2.014386</td>\n",
       "      <td>0.982057</td>\n",
       "    </tr>\n",
       "    <tr>\n",
       "      <th>2012-01-01 00:12:00</th>\n",
       "      <td>-24.610344</td>\n",
       "      <td>1.047875</td>\n",
       "    </tr>\n",
       "    <tr>\n",
       "      <th>2012-01-01 00:15:00</th>\n",
       "      <td>3.250625</td>\n",
       "      <td>1.013443</td>\n",
       "    </tr>\n",
       "  </tbody>\n",
       "</table>\n",
       "</div>"
      ],
      "text/plain": [
       "                             A         B\n",
       "2012-01-01 00:00:00  -5.996128  0.935210\n",
       "2012-01-01 00:03:00  10.370077  0.968908\n",
       "2012-01-01 00:06:00  -3.755667  0.983241\n",
       "2012-01-01 00:09:00   2.014386  0.982057\n",
       "2012-01-01 00:12:00 -24.610344  1.047875\n",
       "2012-01-01 00:15:00   3.250625  1.013443"
      ]
     },
     "execution_count": 167,
     "metadata": {},
     "output_type": "execute_result"
    }
   ],
   "source": [
    "# 用字符指定\n",
    "r.agg({'A': 'sum', 'B': 'std'})"
   ]
  },
  {
   "cell_type": "code",
   "execution_count": 168,
   "metadata": {},
   "outputs": [
    {
     "data": {
      "text/html": [
       "<div>\n",
       "<style scoped>\n",
       "    .dataframe tbody tr th:only-of-type {\n",
       "        vertical-align: middle;\n",
       "    }\n",
       "\n",
       "    .dataframe tbody tr th {\n",
       "        vertical-align: top;\n",
       "    }\n",
       "\n",
       "    .dataframe thead tr th {\n",
       "        text-align: left;\n",
       "    }\n",
       "</style>\n",
       "<table border=\"1\" class=\"dataframe\">\n",
       "  <thead>\n",
       "    <tr>\n",
       "      <th></th>\n",
       "      <th colspan=\"2\" halign=\"left\">A</th>\n",
       "      <th colspan=\"2\" halign=\"left\">B</th>\n",
       "    </tr>\n",
       "    <tr>\n",
       "      <th></th>\n",
       "      <th>sum</th>\n",
       "      <th>std</th>\n",
       "      <th>mean</th>\n",
       "      <th>std</th>\n",
       "    </tr>\n",
       "  </thead>\n",
       "  <tbody>\n",
       "    <tr>\n",
       "      <th>2012-01-01 00:00:00</th>\n",
       "      <td>-5.996128</td>\n",
       "      <td>0.937740</td>\n",
       "      <td>0.048403</td>\n",
       "      <td>0.935210</td>\n",
       "    </tr>\n",
       "    <tr>\n",
       "      <th>2012-01-01 00:03:00</th>\n",
       "      <td>10.370077</td>\n",
       "      <td>0.934882</td>\n",
       "      <td>0.138748</td>\n",
       "      <td>0.968908</td>\n",
       "    </tr>\n",
       "    <tr>\n",
       "      <th>2012-01-01 00:06:00</th>\n",
       "      <td>-3.755667</td>\n",
       "      <td>0.953072</td>\n",
       "      <td>0.039067</td>\n",
       "      <td>0.983241</td>\n",
       "    </tr>\n",
       "    <tr>\n",
       "      <th>2012-01-01 00:09:00</th>\n",
       "      <td>2.014386</td>\n",
       "      <td>1.056193</td>\n",
       "      <td>-0.013045</td>\n",
       "      <td>0.982057</td>\n",
       "    </tr>\n",
       "    <tr>\n",
       "      <th>2012-01-01 00:12:00</th>\n",
       "      <td>-24.610344</td>\n",
       "      <td>0.976037</td>\n",
       "      <td>0.023454</td>\n",
       "      <td>1.047875</td>\n",
       "    </tr>\n",
       "    <tr>\n",
       "      <th>2012-01-01 00:15:00</th>\n",
       "      <td>3.250625</td>\n",
       "      <td>0.998992</td>\n",
       "      <td>0.070861</td>\n",
       "      <td>1.013443</td>\n",
       "    </tr>\n",
       "  </tbody>\n",
       "</table>\n",
       "</div>"
      ],
      "text/plain": [
       "                             A                   B          \n",
       "                           sum       std      mean       std\n",
       "2012-01-01 00:00:00  -5.996128  0.937740  0.048403  0.935210\n",
       "2012-01-01 00:03:00  10.370077  0.934882  0.138748  0.968908\n",
       "2012-01-01 00:06:00  -3.755667  0.953072  0.039067  0.983241\n",
       "2012-01-01 00:09:00   2.014386  1.056193 -0.013045  0.982057\n",
       "2012-01-01 00:12:00 -24.610344  0.976037  0.023454  1.047875\n",
       "2012-01-01 00:15:00   3.250625  0.998992  0.070861  1.013443"
      ]
     },
     "execution_count": 168,
     "metadata": {},
     "output_type": "execute_result"
    }
   ],
   "source": [
    "r.agg({'A': ['sum', 'std'], 'B': ['mean', 'std']})"
   ]
  },
  {
   "cell_type": "markdown",
   "metadata": {},
   "source": [
    "迭代采样对象："
   ]
  },
  {
   "cell_type": "code",
   "execution_count": 171,
   "metadata": {},
   "outputs": [
    {
     "name": "stdout",
     "output_type": "stream",
     "text": [
      "Group:  2017-01-01 00:00:00\n",
      "---------------------------\n",
      "2017-01-01 00:00:00    0\n",
      "2017-01-01 00:30:00    1\n",
      "2017-01-01 00:31:00    2\n",
      "dtype: int64\n",
      "\n",
      "Group:  2017-01-01 01:00:00\n",
      "---------------------------\n",
      "2017-01-01 01:00:00    3\n",
      "dtype: int64\n",
      "\n",
      "Group:  2017-01-01 02:00:00\n",
      "---------------------------\n",
      "Series([], dtype: int64)\n",
      "\n",
      "Group:  2017-01-01 03:00:00\n",
      "---------------------------\n",
      "2017-01-01 03:00:00    4\n",
      "2017-01-01 03:05:00    5\n",
      "dtype: int64\n",
      "\n"
     ]
    }
   ],
   "source": [
    "small = pd.Series(range(6),\n",
    "                  index=pd.to_datetime(['2017-01-01T00:00:00',\n",
    "                                        '2017-01-01T00:30:00',\n",
    "                                        '2017-01-01T00:31:00',\n",
    "                                        '2017-01-01T01:00:00',\n",
    "                                        '2017-01-01T03:00:00',\n",
    "                                        '2017-01-01T03:05:00'])\n",
    "                 )\n",
    "\n",
    "resampled = small.resample('H')\n",
    "\n",
    "for name, group in resampled:\n",
    "    print(\"Group: \", name)\n",
    "    print(\"-\" * 27)\n",
    "    print(group, end=\"\\n\\n\")"
   ]
  },
  {
   "cell_type": "markdown",
   "metadata": {},
   "source": [
    "## 第六部分：时间窗口\n",
    "Pandas 窗口函数，为了处理数字数据，Pandas 提供几种窗口函数，如移动窗口函数(rolling())，扩展窗口函数(expanding())，指数加权滑动(ewm())，同时可在基基础上调用适合的统计函数，如求和、中位数、均值、协方差、方差、相关性等。\n",
    "\n",
    "**理解窗口**\n",
    "\n",
    "可以把“窗口”（windows）这个理解一个集合，一个窗口就是一个集合，在统计分析中有需要不同的「窗口」，比如一个部门分成不同组，在统计时会按组进行平均、排名等操作。再比如，在一些像时间这种有顺序的数据，我们可能5天分一组、一月分一组再进行排序、求中位数等计算。\n",
    "\n",
    "rolling(10) 与 groupby 很像，但并没有进行分组，而是创建了一个按移动 10（天）位的滑动窗口对象。我们再对每个对象进行统计操作。\n",
    "\n",
    "expanding，「扩展」从数据（大多情况下是时间）的起始处开始窗口，增加窗口直到指定的大小。\n",
    "\n",
    "以下是 Expanding vs. rolling window 图示：\n",
    "\n",
    "> ![pandas window](https://zhangyafei-1258643511.cos.ap-nanjing.myqcloud.com/Python/blog/pandas-expanding-rolling.jpg)\n",
    "\n",
    "以下是 rolling 动图示例：\n",
    "\n",
    "> ![pandas rolling](https://zhangyafei-1258643511.cos.ap-nanjing.myqcloud.com/Python/blog/pandas-rolling-demo.gif)\n",
    "\n",
    "以下是 expanding 动图示例：\n",
    "\n",
    "> ![pandas expanding](https://zhangyafei-1258643511.cos.ap-nanjing.myqcloud.com/Python/blog/pandas-expanding-demo.gif)\n",
    "\n",
    "**指数加权函数**\n",
    "\n",
    "指数加权函数（Exponential weighted moving），在上述两个统计方法中分组中的所有数值的权重都是一样的，指数加权就是我们对分组中的数据给予不同的权重用于后边的计算中。如指数移动平均（Exponential Moving Average）也叫权重移动平均（Weighted Moving Average），是以指数式递减加权的移动平均，各数值的加权影响力随时间呈指数式递减，时间越靠近当前时刻的数据加权影响力越大。\n",
    "\n",
    "梯度下降法，就是计算了梯度的指数加权平均数，并以此来更新权重，它的运行速度几乎总是快于标准的梯度下降算法。\n",
    "\n",
    "**Pandas 中的窗口**\n",
    "\n",
    "滚动对象通过.rolling调用返回：pandas.DataFrame.rolling()，pandas.Series.rolling() 等。扩展对象通过.expanding 调用返回：pandas.DataFrame.expanding()，pandas.Series.expanding() 等。EWM 对象由.ewm调用返回：pandas.DataFrame.ewm()，pandas.Series.ewm() 等。"
   ]
  },
  {
   "cell_type": "markdown",
   "metadata": {},
   "source": [
    "### 窗口函数 rolling\n",
    ".rolling()函数又叫移动窗口函数，此函数可以应用于一系列数据，指定参数window=n，并在其上调用适合的统计函数。"
   ]
  },
  {
   "cell_type": "markdown",
   "metadata": {},
   "source": [
    "#### 创建 Rolling 对象\n",
    "创建 Rolling 对象后，可以对对象进行计算操作。"
   ]
  },
  {
   "cell_type": "code",
   "execution_count": 173,
   "metadata": {},
   "outputs": [
    {
     "data": {
      "text/plain": [
       "Rolling [window=60,center=False,axis=0]"
      ]
     },
     "execution_count": 173,
     "metadata": {},
     "output_type": "execute_result"
    }
   ],
   "source": [
    "s = pd.Series(np.random.randn(1000),\n",
    "              index=pd.date_range('1/1/2000', periods=1000))\n",
    "\n",
    "s = s.cumsum()\n",
    "r = s.rolling(window=60)\n",
    "r"
   ]
  },
  {
   "cell_type": "markdown",
   "metadata": {},
   "source": [
    "#### 参数\n",
    "\n",
    "在`.rolling()` 创建对象时，它支持以下参数：\n",
    "\n",
    "| 参数        | 说明                                                         |\n",
    "| ----------- | ------------------------------------------------------------ |\n",
    "| window      | 可选参数，表示时间窗的大小，注意有两种形式(int 或 offset)。如果使用 int，则数值表示计算统计量的观测值的数量即向前几个数据，如果是offset类型，表示时间窗的大小。 |\n",
    "| min_periods | 每个窗口最少包含的观测值数量，小于这个值的窗口结果为NaN，值可以是int，默认None，offset情况下，默认为1。 |\n",
    "| center      | 把窗口的标签设置为居中。布尔型，默认False，居右              |\n",
    "| win_type    | 窗口的类型，截取窗的各种函数，字符串类型，默认为None。       |\n",
    "| on          | 可选参数，对于dataframe而言，指定要计算滚动窗口的列，值为列名。 |\n",
    "| axis        | int、字符串，默认为0，即对列进行计算                         |\n",
    "| closed      | 定义区间的开闭，支持int类型的window。对于offset类型默认是左开右闭，默认为right，可以根据情况指定为left、both等。 |"
   ]
  },
  {
   "cell_type": "markdown",
   "metadata": {},
   "source": [
    "窗口的类型 win_type\n",
    "将win_type 传递给.rolling 会生成一个通用的滚动窗口计算，该计算将根据 win_type进行加权。\n",
    "\n",
    "win_type 参数支持以下类型：\n",
    "\n",
    "- boxcar\n",
    "- triang\n",
    "- blackman\n",
    "- hamming\n",
    "- bartlett\n",
    "- parzen\n",
    "- bohman\n",
    "- blackmanharris\n",
    "- nuttall\n",
    "- barthann\n",
    "- kaiser (needs beta)\n",
    "- gaussian (needs std)\n",
    "- general_gaussian (needs power, width)\n",
    "- slepian (needs width)\n",
    "- exponential (needs tau)."
   ]
  },
  {
   "cell_type": "code",
   "execution_count": 176,
   "metadata": {},
   "outputs": [
    {
     "data": {
      "text/plain": [
       "2000-01-01          NaN\n",
       "2000-01-02          NaN\n",
       "2000-01-03          NaN\n",
       "2000-01-04          NaN\n",
       "2000-01-05    -0.421702\n",
       "                ...    \n",
       "2002-09-22    16.374412\n",
       "2002-09-23    16.199573\n",
       "2002-09-24    16.354381\n",
       "2002-09-25    16.715682\n",
       "2002-09-26    16.921977\n",
       "Freq: D, Length: 1000, dtype: float64"
      ]
     },
     "execution_count": 176,
     "metadata": {},
     "output_type": "execute_result"
    }
   ],
   "source": [
    "s.rolling(window=5, win_type='triang').mean()"
   ]
  },
  {
   "cell_type": "code",
   "execution_count": 177,
   "metadata": {},
   "outputs": [
    {
     "data": {
      "text/plain": [
       "2000-01-01          NaN\n",
       "2000-01-02          NaN\n",
       "2000-01-03          NaN\n",
       "2000-01-04          NaN\n",
       "2000-01-05    -0.043657\n",
       "                ...    \n",
       "2002-09-22    16.919401\n",
       "2002-09-23    15.615150\n",
       "2002-09-24    15.611811\n",
       "2002-09-25    17.326237\n",
       "2002-09-26    17.551819\n",
       "Freq: D, Length: 1000, dtype: float64"
      ]
     },
     "execution_count": 177,
     "metadata": {},
     "output_type": "execute_result"
    }
   ],
   "source": [
    "s.rolling(window=5, win_type='gaussian').mean(std=0.1)"
   ]
  },
  {
   "cell_type": "code",
   "execution_count": 179,
   "metadata": {},
   "outputs": [
    {
     "data": {
      "text/plain": [
       "2000-01-01          NaN\n",
       "2000-01-02          NaN\n",
       "2000-01-03          NaN\n",
       "2000-01-04          NaN\n",
       "2000-01-05    -0.444738\n",
       "                ...    \n",
       "2002-09-22    16.270742\n",
       "2002-09-23    16.406929\n",
       "2002-09-24    16.604883\n",
       "2002-09-25    16.525007\n",
       "2002-09-26    16.669580\n",
       "Freq: D, Length: 1000, dtype: float64"
      ]
     },
     "execution_count": 179,
     "metadata": {},
     "output_type": "execute_result"
    }
   ],
   "source": [
    "# 以下相同\n",
    "s.rolling(window=5, win_type='boxcar').mean()"
   ]
  },
  {
   "cell_type": "code",
   "execution_count": 180,
   "metadata": {},
   "outputs": [
    {
     "data": {
      "text/plain": [
       "2000-01-01          NaN\n",
       "2000-01-02          NaN\n",
       "2000-01-03          NaN\n",
       "2000-01-04          NaN\n",
       "2000-01-05    -0.444738\n",
       "                ...    \n",
       "2002-09-22    16.270742\n",
       "2002-09-23    16.406929\n",
       "2002-09-24    16.604883\n",
       "2002-09-25    16.525007\n",
       "2002-09-26    16.669580\n",
       "Freq: D, Length: 1000, dtype: float64"
      ]
     },
     "execution_count": 180,
     "metadata": {},
     "output_type": "execute_result"
    }
   ],
   "source": [
    "s.rolling(window=5).mean()"
   ]
  },
  {
   "cell_type": "markdown",
   "metadata": {},
   "source": [
    "#### 统计\n",
    "我们可以使用上边的统计方法对窗口进行计算："
   ]
  },
  {
   "cell_type": "code",
   "execution_count": 181,
   "metadata": {},
   "outputs": [
    {
     "data": {
      "text/plain": [
       "2000-01-01          NaN\n",
       "2000-01-02          NaN\n",
       "2000-01-03          NaN\n",
       "2000-01-04          NaN\n",
       "2000-01-05          NaN\n",
       "                ...    \n",
       "2002-09-22    21.061487\n",
       "2002-09-23    20.917474\n",
       "2002-09-24    20.800376\n",
       "2002-09-25    20.661929\n",
       "2002-09-26    20.528112\n",
       "Freq: D, Length: 1000, dtype: float64"
      ]
     },
     "execution_count": 181,
     "metadata": {},
     "output_type": "execute_result"
    }
   ],
   "source": [
    "r.mean()"
   ]
  },
  {
   "cell_type": "code",
   "execution_count": 182,
   "metadata": {},
   "outputs": [
    {
     "data": {
      "text/plain": [
       "<AxesSubplot:>"
      ]
     },
     "execution_count": 182,
     "metadata": {},
     "output_type": "execute_result"
    },
    {
     "data": {
      "image/png": "[encoded data removed]",
      "text/plain": [
       "<Figure size 432x288 with 1 Axes>"
      ]
     },
     "metadata": {
      "needs_background": "light"
     },
     "output_type": "display_data"
    }
   ],
   "source": [
    "s.plot(style='k--') # 绘图看一下变化，原数据"
   ]
  },
  {
   "cell_type": "code",
   "execution_count": 183,
   "metadata": {},
   "outputs": [
    {
     "data": {
      "text/plain": [
       "<AxesSubplot:>"
      ]
     },
     "execution_count": 183,
     "metadata": {},
     "output_type": "execute_result"
    },
    {
     "data": {
      "image/png": "[encoded data removed]",
      "text/plain": [
       "<Figure size 432x288 with 1 Axes>"
      ]
     },
     "metadata": {
      "needs_background": "light"
     },
     "output_type": "display_data"
    }
   ],
   "source": [
    "r.mean().plot(style='k')  # 绘图看一下变化，计算后的"
   ]
  },
  {
   "cell_type": "markdown",
   "metadata": {},
   "source": [
    "#### DataFrame 的应用\n",
    "它们也可以应用于DataFrame对象。 这实际上只是将移动窗口运算符应用于DataFrame 的所有列的语法糖："
   ]
  },
  {
   "cell_type": "code",
   "execution_count": 184,
   "metadata": {},
   "outputs": [
    {
     "data": {
      "text/plain": [
       "array([<AxesSubplot:>, <AxesSubplot:>, <AxesSubplot:>, <AxesSubplot:>],\n",
       "      dtype=object)"
      ]
     },
     "execution_count": 184,
     "metadata": {},
     "output_type": "execute_result"
    },
    {
     "data": {
      "image/png": "[encoded data removed]",
      "text/plain": [
       "<Figure size 432x288 with 4 Axes>"
      ]
     },
     "metadata": {
      "needs_background": "light"
     },
     "output_type": "display_data"
    }
   ],
   "source": [
    "df = pd.DataFrame(np.random.randn(1000, 4),\n",
    "                  index=pd.date_range('1/1/2000', periods=1000),\n",
    "                  columns=['A', 'B', 'C', 'D'])\n",
    "\n",
    "df = df.cumsum()\n",
    "# 操作并绘图\n",
    "df.rolling(window=60).sum().plot(subplots=True)"
   ]
  },
  {
   "cell_type": "markdown",
   "metadata": {},
   "source": [
    "#### 统计方法\n",
    "\n",
    "提供许多常见的统计功能：\n",
    "\n",
    "| Method     | Description                                |\n",
    "| ---------- | ------------------------------------------ |\n",
    "| count()    | Number of non-null observations            |\n",
    "| sum()      | Sum of values                              |\n",
    "| mean()     | Mean of values                             |\n",
    "| median()   | Arithmetic median of values                |\n",
    "| min()      | Minimum                                    |\n",
    "| max()      | Maximum                                    |\n",
    "| std()      | Bessel-corrected sample standard deviation |\n",
    "| var()      | Unbiased variance                          |\n",
    "| skew()     | Sample skewness (3rd moment)               |\n",
    "| kurt()     | Sample kurtosis (4th moment)               |\n",
    "| quantile() | Sample quantile (value at %)               |\n",
    "| apply()    | Generic apply                              |\n",
    "| cov()      | Unbiased covariance (binary)               |\n",
    "| corr()     | Correlation (binary)                       |"
   ]
  },
  {
   "cell_type": "markdown",
   "metadata": {},
   "source": [
    "#### 使用函数 apply()\n",
    "\n",
    "apply() 函数接受一个额外的 func 参数，并执行通用滚动计算。 func 参数应该是一个从 ndarray 输入生成单个值的函数。 假设我们要滚动计算平均绝对偏差："
   ]
  },
  {
   "cell_type": "code",
   "execution_count": 185,
   "metadata": {},
   "outputs": [
    {
     "data": {
      "text/plain": [
       "<AxesSubplot:>"
      ]
     },
     "execution_count": 185,
     "metadata": {},
     "output_type": "execute_result"
    },
    {
     "data": {
      "image/png": "[encoded data removed]",
      "text/plain": [
       "<Figure size 432x288 with 1 Axes>"
      ]
     },
     "metadata": {
      "needs_background": "light"
     },
     "output_type": "display_data"
    }
   ],
   "source": [
    "def mad(x):\n",
    "    return np.fabs(x - x.mean()).mean()\n",
    "\n",
    "s.rolling(window=60).apply(mad, raw=True).plot(style='k')"
   ]
  },
  {
   "cell_type": "markdown",
   "metadata": {},
   "source": [
    "#### 时间类型移动窗口\n",
    "可以将偏移量（或可转换）传递给.rolling() 方法，并使其根据传递的时间窗口生成可变大小的窗口。 对于每个时间点，这包括在指示的时间增量内出现的所有先前值。"
   ]
  },
  {
   "cell_type": "code",
   "execution_count": 186,
   "metadata": {},
   "outputs": [
    {
     "data": {
      "text/html": [
       "<div>\n",
       "<style scoped>\n",
       "    .dataframe tbody tr th:only-of-type {\n",
       "        vertical-align: middle;\n",
       "    }\n",
       "\n",
       "    .dataframe tbody tr th {\n",
       "        vertical-align: top;\n",
       "    }\n",
       "\n",
       "    .dataframe thead th {\n",
       "        text-align: right;\n",
       "    }\n",
       "</style>\n",
       "<table border=\"1\" class=\"dataframe\">\n",
       "  <thead>\n",
       "    <tr style=\"text-align: right;\">\n",
       "      <th></th>\n",
       "      <th>B</th>\n",
       "    </tr>\n",
       "  </thead>\n",
       "  <tbody>\n",
       "    <tr>\n",
       "      <th>2013-01-01 09:00:00</th>\n",
       "      <td>0.0</td>\n",
       "    </tr>\n",
       "    <tr>\n",
       "      <th>2013-01-01 09:00:01</th>\n",
       "      <td>1.0</td>\n",
       "    </tr>\n",
       "    <tr>\n",
       "      <th>2013-01-01 09:00:02</th>\n",
       "      <td>2.0</td>\n",
       "    </tr>\n",
       "    <tr>\n",
       "      <th>2013-01-01 09:00:03</th>\n",
       "      <td>NaN</td>\n",
       "    </tr>\n",
       "    <tr>\n",
       "      <th>2013-01-01 09:00:04</th>\n",
       "      <td>4.0</td>\n",
       "    </tr>\n",
       "  </tbody>\n",
       "</table>\n",
       "</div>"
      ],
      "text/plain": [
       "                       B\n",
       "2013-01-01 09:00:00  0.0\n",
       "2013-01-01 09:00:01  1.0\n",
       "2013-01-01 09:00:02  2.0\n",
       "2013-01-01 09:00:03  NaN\n",
       "2013-01-01 09:00:04  4.0"
      ]
     },
     "execution_count": 186,
     "metadata": {},
     "output_type": "execute_result"
    }
   ],
   "source": [
    "dft = pd.DataFrame({'B': [0, 1, 2, np.nan, 4]},\n",
    "                   index=pd.date_range('20130101 09:00:00',\n",
    "                                       periods=5,\n",
    "                                       freq='s'))\n",
    "\n",
    "dft"
   ]
  },
  {
   "cell_type": "code",
   "execution_count": 187,
   "metadata": {},
   "outputs": [
    {
     "data": {
      "text/html": [
       "<div>\n",
       "<style scoped>\n",
       "    .dataframe tbody tr th:only-of-type {\n",
       "        vertical-align: middle;\n",
       "    }\n",
       "\n",
       "    .dataframe tbody tr th {\n",
       "        vertical-align: top;\n",
       "    }\n",
       "\n",
       "    .dataframe thead th {\n",
       "        text-align: right;\n",
       "    }\n",
       "</style>\n",
       "<table border=\"1\" class=\"dataframe\">\n",
       "  <thead>\n",
       "    <tr style=\"text-align: right;\">\n",
       "      <th></th>\n",
       "      <th>B</th>\n",
       "    </tr>\n",
       "  </thead>\n",
       "  <tbody>\n",
       "    <tr>\n",
       "      <th>2013-01-01 09:00:00</th>\n",
       "      <td>NaN</td>\n",
       "    </tr>\n",
       "    <tr>\n",
       "      <th>2013-01-01 09:00:01</th>\n",
       "      <td>1.0</td>\n",
       "    </tr>\n",
       "    <tr>\n",
       "      <th>2013-01-01 09:00:02</th>\n",
       "      <td>3.0</td>\n",
       "    </tr>\n",
       "    <tr>\n",
       "      <th>2013-01-01 09:00:03</th>\n",
       "      <td>NaN</td>\n",
       "    </tr>\n",
       "    <tr>\n",
       "      <th>2013-01-01 09:00:04</th>\n",
       "      <td>NaN</td>\n",
       "    </tr>\n",
       "  </tbody>\n",
       "</table>\n",
       "</div>"
      ],
      "text/plain": [
       "                       B\n",
       "2013-01-01 09:00:00  NaN\n",
       "2013-01-01 09:00:01  1.0\n",
       "2013-01-01 09:00:02  3.0\n",
       "2013-01-01 09:00:03  NaN\n",
       "2013-01-01 09:00:04  NaN"
      ]
     },
     "execution_count": 187,
     "metadata": {},
     "output_type": "execute_result"
    }
   ],
   "source": [
    "dft.rolling(2).sum()"
   ]
  },
  {
   "cell_type": "code",
   "execution_count": 188,
   "metadata": {},
   "outputs": [
    {
     "data": {
      "text/html": [
       "<div>\n",
       "<style scoped>\n",
       "    .dataframe tbody tr th:only-of-type {\n",
       "        vertical-align: middle;\n",
       "    }\n",
       "\n",
       "    .dataframe tbody tr th {\n",
       "        vertical-align: top;\n",
       "    }\n",
       "\n",
       "    .dataframe thead th {\n",
       "        text-align: right;\n",
       "    }\n",
       "</style>\n",
       "<table border=\"1\" class=\"dataframe\">\n",
       "  <thead>\n",
       "    <tr style=\"text-align: right;\">\n",
       "      <th></th>\n",
       "      <th>B</th>\n",
       "    </tr>\n",
       "  </thead>\n",
       "  <tbody>\n",
       "    <tr>\n",
       "      <th>2013-01-01 09:00:00</th>\n",
       "      <td>0.0</td>\n",
       "    </tr>\n",
       "    <tr>\n",
       "      <th>2013-01-01 09:00:01</th>\n",
       "      <td>1.0</td>\n",
       "    </tr>\n",
       "    <tr>\n",
       "      <th>2013-01-01 09:00:02</th>\n",
       "      <td>3.0</td>\n",
       "    </tr>\n",
       "    <tr>\n",
       "      <th>2013-01-01 09:00:03</th>\n",
       "      <td>2.0</td>\n",
       "    </tr>\n",
       "    <tr>\n",
       "      <th>2013-01-01 09:00:04</th>\n",
       "      <td>4.0</td>\n",
       "    </tr>\n",
       "  </tbody>\n",
       "</table>\n",
       "</div>"
      ],
      "text/plain": [
       "                       B\n",
       "2013-01-01 09:00:00  0.0\n",
       "2013-01-01 09:00:01  1.0\n",
       "2013-01-01 09:00:02  3.0\n",
       "2013-01-01 09:00:03  2.0\n",
       "2013-01-01 09:00:04  4.0"
      ]
     },
     "execution_count": 188,
     "metadata": {},
     "output_type": "execute_result"
    }
   ],
   "source": [
    "dft.rolling(2, min_periods=1).sum()"
   ]
  },
  {
   "cell_type": "markdown",
   "metadata": {},
   "source": [
    "指定移动频率"
   ]
  },
  {
   "cell_type": "code",
   "execution_count": 189,
   "metadata": {},
   "outputs": [
    {
     "data": {
      "text/html": [
       "<div>\n",
       "<style scoped>\n",
       "    .dataframe tbody tr th:only-of-type {\n",
       "        vertical-align: middle;\n",
       "    }\n",
       "\n",
       "    .dataframe tbody tr th {\n",
       "        vertical-align: top;\n",
       "    }\n",
       "\n",
       "    .dataframe thead th {\n",
       "        text-align: right;\n",
       "    }\n",
       "</style>\n",
       "<table border=\"1\" class=\"dataframe\">\n",
       "  <thead>\n",
       "    <tr style=\"text-align: right;\">\n",
       "      <th></th>\n",
       "      <th>B</th>\n",
       "    </tr>\n",
       "  </thead>\n",
       "  <tbody>\n",
       "    <tr>\n",
       "      <th>2013-01-01 09:00:00</th>\n",
       "      <td>0.0</td>\n",
       "    </tr>\n",
       "    <tr>\n",
       "      <th>2013-01-01 09:00:01</th>\n",
       "      <td>1.0</td>\n",
       "    </tr>\n",
       "    <tr>\n",
       "      <th>2013-01-01 09:00:02</th>\n",
       "      <td>3.0</td>\n",
       "    </tr>\n",
       "    <tr>\n",
       "      <th>2013-01-01 09:00:03</th>\n",
       "      <td>2.0</td>\n",
       "    </tr>\n",
       "    <tr>\n",
       "      <th>2013-01-01 09:00:04</th>\n",
       "      <td>4.0</td>\n",
       "    </tr>\n",
       "  </tbody>\n",
       "</table>\n",
       "</div>"
      ],
      "text/plain": [
       "                       B\n",
       "2013-01-01 09:00:00  0.0\n",
       "2013-01-01 09:00:01  1.0\n",
       "2013-01-01 09:00:02  3.0\n",
       "2013-01-01 09:00:03  2.0\n",
       "2013-01-01 09:00:04  4.0"
      ]
     },
     "execution_count": 189,
     "metadata": {},
     "output_type": "execute_result"
    }
   ],
   "source": [
    "dft.rolling('2s').sum()"
   ]
  },
  {
   "cell_type": "markdown",
   "metadata": {},
   "source": [
    "**时间感知滚动与重采样**  \n",
    "将 .rolling() 与基于时间的索引一起使用非常类似于重采样。它们既对时间索引的 Pandas 对象进行操作又执行还原操作。\n",
    "\n",
    "当使用带有偏移量的.rolling() 时。偏移量是时间增量。取得一个向后看的窗口，并汇总该窗口中的所有值（包括终点，但不包括起点）。这是结果中此时的新值。对于输入的每个点，这些都是时空可变大小的窗口，将获得与输入相同大小的结果。\n",
    "\n",
    "当使用带有偏移量的.resample() 时。构造一个新的索引，它是偏移的频率。对于每个频率仓，在该时间仓中的时间倒退窗口内，从输入汇总点。聚合的结果是该频率点的输出。窗口在频率空间中是固定大小的。您的结果将具有介于原始输入对象的最小值和最大值之间的规则频率形状。\n",
    "\n",
    "总而言之，.rolling() 是基于时间的窗口操作，而.resample() 是基于频率的窗口操作。"
   ]
  },
  {
   "cell_type": "markdown",
   "metadata": {},
   "source": [
    "### 扩展窗口函数 expanding\n",
    "滚动统计的一种常见替代方法是使用扩展窗口，该窗口可生成该统计的值以及该时间点之前所有可用的数据。"
   ]
  },
  {
   "cell_type": "markdown",
   "metadata": {},
   "source": [
    "#### 使用\n",
    "它们遵循与.rolling 类似的接口，其中.expanding 方法返回 Expanding 对象。\n",
    "\n",
    "由于这些计算是滚动统计的特殊情况，因此它们在 Pandas 中实现，因此以下两个调用是等效的："
   ]
  },
  {
   "cell_type": "code",
   "execution_count": 197,
   "metadata": {},
   "outputs": [
    {
     "data": {
      "text/html": [
       "<div>\n",
       "<style scoped>\n",
       "    .dataframe tbody tr th:only-of-type {\n",
       "        vertical-align: middle;\n",
       "    }\n",
       "\n",
       "    .dataframe tbody tr th {\n",
       "        vertical-align: top;\n",
       "    }\n",
       "\n",
       "    .dataframe thead th {\n",
       "        text-align: right;\n",
       "    }\n",
       "</style>\n",
       "<table border=\"1\" class=\"dataframe\">\n",
       "  <thead>\n",
       "    <tr style=\"text-align: right;\">\n",
       "      <th></th>\n",
       "      <th>A</th>\n",
       "      <th>B</th>\n",
       "      <th>C</th>\n",
       "      <th>D</th>\n",
       "    </tr>\n",
       "  </thead>\n",
       "  <tbody>\n",
       "    <tr>\n",
       "      <th>2000-01-01</th>\n",
       "      <td>1.049313</td>\n",
       "      <td>0.111910</td>\n",
       "      <td>0.322994</td>\n",
       "      <td>-1.091590</td>\n",
       "    </tr>\n",
       "    <tr>\n",
       "      <th>2000-01-02</th>\n",
       "      <td>0.919457</td>\n",
       "      <td>-0.534175</td>\n",
       "      <td>0.146955</td>\n",
       "      <td>-1.443932</td>\n",
       "    </tr>\n",
       "    <tr>\n",
       "      <th>2000-01-03</th>\n",
       "      <td>0.876989</td>\n",
       "      <td>-0.459435</td>\n",
       "      <td>0.209525</td>\n",
       "      <td>-1.924145</td>\n",
       "    </tr>\n",
       "    <tr>\n",
       "      <th>2000-01-04</th>\n",
       "      <td>0.963262</td>\n",
       "      <td>-0.896879</td>\n",
       "      <td>0.056904</td>\n",
       "      <td>-2.227882</td>\n",
       "    </tr>\n",
       "    <tr>\n",
       "      <th>2000-01-05</th>\n",
       "      <td>0.960253</td>\n",
       "      <td>-0.964472</td>\n",
       "      <td>0.224515</td>\n",
       "      <td>-2.138985</td>\n",
       "    </tr>\n",
       "  </tbody>\n",
       "</table>\n",
       "</div>"
      ],
      "text/plain": [
       "                   A         B         C         D\n",
       "2000-01-01  1.049313  0.111910  0.322994 -1.091590\n",
       "2000-01-02  0.919457 -0.534175  0.146955 -1.443932\n",
       "2000-01-03  0.876989 -0.459435  0.209525 -1.924145\n",
       "2000-01-04  0.963262 -0.896879  0.056904 -2.227882\n",
       "2000-01-05  0.960253 -0.964472  0.224515 -2.138985"
      ]
     },
     "execution_count": 197,
     "metadata": {},
     "output_type": "execute_result"
    }
   ],
   "source": [
    "df.rolling(window=len(df), min_periods=1).mean()[:5]"
   ]
  },
  {
   "cell_type": "code",
   "execution_count": 198,
   "metadata": {},
   "outputs": [
    {
     "data": {
      "text/html": [
       "<div>\n",
       "<style scoped>\n",
       "    .dataframe tbody tr th:only-of-type {\n",
       "        vertical-align: middle;\n",
       "    }\n",
       "\n",
       "    .dataframe tbody tr th {\n",
       "        vertical-align: top;\n",
       "    }\n",
       "\n",
       "    .dataframe thead th {\n",
       "        text-align: right;\n",
       "    }\n",
       "</style>\n",
       "<table border=\"1\" class=\"dataframe\">\n",
       "  <thead>\n",
       "    <tr style=\"text-align: right;\">\n",
       "      <th></th>\n",
       "      <th>A</th>\n",
       "      <th>B</th>\n",
       "      <th>C</th>\n",
       "      <th>D</th>\n",
       "    </tr>\n",
       "  </thead>\n",
       "  <tbody>\n",
       "    <tr>\n",
       "      <th>2000-01-01</th>\n",
       "      <td>1.049313</td>\n",
       "      <td>0.111910</td>\n",
       "      <td>0.322994</td>\n",
       "      <td>-1.091590</td>\n",
       "    </tr>\n",
       "    <tr>\n",
       "      <th>2000-01-02</th>\n",
       "      <td>0.919457</td>\n",
       "      <td>-0.534175</td>\n",
       "      <td>0.146955</td>\n",
       "      <td>-1.443932</td>\n",
       "    </tr>\n",
       "    <tr>\n",
       "      <th>2000-01-03</th>\n",
       "      <td>0.876989</td>\n",
       "      <td>-0.459435</td>\n",
       "      <td>0.209525</td>\n",
       "      <td>-1.924145</td>\n",
       "    </tr>\n",
       "    <tr>\n",
       "      <th>2000-01-04</th>\n",
       "      <td>0.963262</td>\n",
       "      <td>-0.896879</td>\n",
       "      <td>0.056904</td>\n",
       "      <td>-2.227882</td>\n",
       "    </tr>\n",
       "    <tr>\n",
       "      <th>2000-01-05</th>\n",
       "      <td>0.960253</td>\n",
       "      <td>-0.964472</td>\n",
       "      <td>0.224515</td>\n",
       "      <td>-2.138985</td>\n",
       "    </tr>\n",
       "  </tbody>\n",
       "</table>\n",
       "</div>"
      ],
      "text/plain": [
       "                   A         B         C         D\n",
       "2000-01-01  1.049313  0.111910  0.322994 -1.091590\n",
       "2000-01-02  0.919457 -0.534175  0.146955 -1.443932\n",
       "2000-01-03  0.876989 -0.459435  0.209525 -1.924145\n",
       "2000-01-04  0.963262 -0.896879  0.056904 -2.227882\n",
       "2000-01-05  0.960253 -0.964472  0.224515 -2.138985"
      ]
     },
     "execution_count": 198,
     "metadata": {},
     "output_type": "execute_result"
    }
   ],
   "source": [
    "df.expanding(min_periods=1).mean()[:5]"
   ]
  },
  {
   "cell_type": "markdown",
   "metadata": {},
   "source": [
    "#### 统计方法\n",
    "\n",
    "具有与.rolling方法类似的方法:\n",
    "\n",
    "| Method     | Description                                |\n",
    "| ---------- | ------------------------------------------ |\n",
    "| count()    | Number of non-null observations            |\n",
    "| sum()      | Sum of values                              |\n",
    "| mean()     | Mean of values                             |\n",
    "| median()   | Arithmetic median of values                |\n",
    "| min()      | Minimum                                    |\n",
    "| max()      | Maximum                                    |\n",
    "| std()      | Bessel-corrected sample standard deviation |\n",
    "| var()      | Unbiased variance                          |\n",
    "| skew()     | Sample skewness (3rd moment)               |\n",
    "| kurt()     | Sample kurtosis (4th moment)               |\n",
    "| quantile() | Sample quantile (value at %)               |\n",
    "| apply()    | Generic apply                              |\n",
    "| cov()      | Unbiased covariance (binary)               |\n",
    "| corr()     | Correlation (binary)                       |"
   ]
  },
  {
   "cell_type": "markdown",
   "metadata": {},
   "source": [
    "#### 几个特别的Expanding类型函数\n",
    "cumsum/cumprod/cummax/cummin都是特殊expanding累计计算方法"
   ]
  },
  {
   "cell_type": "code",
   "execution_count": 203,
   "metadata": {},
   "outputs": [
    {
     "data": {
      "text/plain": [
       "2000-01-01   -0.763718\n",
       "2000-01-02   -2.799295\n",
       "2000-01-03   -2.842953\n",
       "2000-01-04   -2.291686\n",
       "2000-01-05   -2.223691\n",
       "Freq: D, dtype: float64"
      ]
     },
     "execution_count": 203,
     "metadata": {},
     "output_type": "execute_result"
    }
   ],
   "source": [
    "s.cumsum().head()"
   ]
  },
  {
   "cell_type": "code",
   "execution_count": 204,
   "metadata": {},
   "outputs": [
    {
     "data": {
      "text/plain": [
       "2000-01-01   -0.763718\n",
       "2000-01-02   -2.799295\n",
       "2000-01-03   -2.842953\n",
       "2000-01-04   -2.291686\n",
       "2000-01-05   -2.223691\n",
       "Freq: D, dtype: float64"
      ]
     },
     "execution_count": 204,
     "metadata": {},
     "output_type": "execute_result"
    }
   ],
   "source": [
    "s.cumsum().head()"
   ]
  },
  {
   "cell_type": "markdown",
   "metadata": {},
   "source": [
    "shift/diff/pct_change都是涉及到了元素关系  \n",
    "①shift是指序列索引不变，但值向后移动  \n",
    "②diff是指前后元素的差，period参数表示间隔，默认为1，并且可以为负  \n",
    "③pct_change是值前后元素的变化百分比，period参数与diff类似  "
   ]
  },
  {
   "cell_type": "code",
   "execution_count": 205,
   "metadata": {},
   "outputs": [
    {
     "data": {
      "text/plain": [
       "2000-01-01         NaN\n",
       "2000-01-02         NaN\n",
       "2000-01-03   -0.763718\n",
       "2000-01-04   -2.035577\n",
       "2000-01-05   -0.043657\n",
       "Freq: D, dtype: float64"
      ]
     },
     "execution_count": 205,
     "metadata": {},
     "output_type": "execute_result"
    }
   ],
   "source": [
    "s.shift(2).head()"
   ]
  },
  {
   "cell_type": "code",
   "execution_count": 206,
   "metadata": {},
   "outputs": [
    {
     "data": {
      "text/plain": [
       "2000-01-01         NaN\n",
       "2000-01-02         NaN\n",
       "2000-01-03         NaN\n",
       "2000-01-04    1.314986\n",
       "2000-01-05    2.103571\n",
       "Freq: D, dtype: float64"
      ]
     },
     "execution_count": 206,
     "metadata": {},
     "output_type": "execute_result"
    }
   ],
   "source": [
    "s.diff(3).head()"
   ]
  },
  {
   "cell_type": "code",
   "execution_count": 207,
   "metadata": {},
   "outputs": [
    {
     "data": {
      "text/plain": [
       "2000-01-01         NaN\n",
       "2000-01-02         NaN\n",
       "2000-01-03         NaN\n",
       "2000-01-04   -1.721820\n",
       "2000-01-05   -1.033403\n",
       "Freq: D, dtype: float64"
      ]
     },
     "execution_count": 207,
     "metadata": {},
     "output_type": "execute_result"
    }
   ],
   "source": [
    "s.pct_change(3).head()"
   ]
  }
 ],
 "metadata": {
  "kernelspec": {
   "display_name": "Python 3",
   "language": "python",
   "name": "python3"
  },
  "language_info": {
   "codemirror_mode": {
    "name": "ipython",
    "version": 3
   },
   "file_extension": ".py",
   "mimetype": "text/x-python",
   "name": "python",
   "nbconvert_exporter": "python",
   "pygments_lexer": "ipython3",
   "version": "3.8.5"
  },
  "toc": {
   "base_numbering": 1,
   "nav_menu": {},
   "number_sections": false,
   "sideBar": true,
   "skip_h1_title": false,
   "title_cell": "Table of Contents",
   "title_sidebar": "Contents",
   "toc_cell": false,
   "toc_position": {
    "height": "calc(100% - 180px)",
    "left": "10px",
    "top": "150px",
    "width": "272px"
   },
   "toc_section_display": true,
   "toc_window_display": true
  }
 },
 "nbformat": 4,
 "nbformat_minor": 4
}
